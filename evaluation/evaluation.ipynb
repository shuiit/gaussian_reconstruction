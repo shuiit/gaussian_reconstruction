{
 "cells": [
  {
   "cell_type": "code",
   "execution_count": 1,
   "metadata": {},
   "outputs": [],
   "source": [
    "import pickle\n",
    "from FlyOutput import FlyOutput\n",
    "import Plotters\n",
    "import plotly.graph_objects as go\n",
    "import numpy as np  \n",
    "import Utils\n",
    "import matplotlib.pyplot as plt\n",
    "import os\n",
    "from tqdm import tqdm\n",
    "from Evaluation import Evaluation\n",
    "import time\n",
    "import pandas as pd\n",
    "from EvaluateAngleSweep import EvaluateAngleSweep\n",
    "import matplotlib.cm as cm\n",
    "\n",
    "%matplotlib qt\n",
    "\n",
    "idx_iter = 0\n",
    "dict_path  = 'G:/My Drive/Research/gaussian_splatting/gaussian_splatting_input/evaluation/dict/frames_model_evaluation.pkl'\n",
    "input_dir_ini = 'G:/My Drive/Research/gaussian_splatting/gaussian_splatting_input/evaluation'\n",
    "input_path_for_image = 'G:/My Drive/Research/gaussian_splatting/gaussian_splatting_input/'\n",
    "path_output = 'D:/Documents/gaussian_model_output/'\n",
    "\n",
    "\n",
    "model_names_left_wing = ['fly_phi_delta10_sweep_m40_40_left','fly_theta_delta10_sweep_m40_40_left','fly_psi_delta10_sweep_m40_40_left']\n",
    "model_names_right_wing = ['fly_phi_delta10_sweep_m40_40','fly_psi_delta10_sweep_m40_40']\n",
    "model_names_body = ['fly_yaw_delta10_sweep_m40_40','fly_pitch_delta10_sweep_m40_40','fly_roll_delta10_sweep_m40_40']\n",
    "\n",
    "models = model_names_left_wing + model_names_right_wing + model_names_body\n",
    "\n",
    "\n",
    "# models = ['fly_yaw_right_delta10_sweep_m40_40']\n",
    "\n",
    "# model_name = 'fly_theta_delta10_sweep_m40_40'\n",
    "\n",
    "\n",
    "angle_name = ['phi','theta','psi','phi','psi','yaw','pitch']\n",
    "letedict = {'num_of_bins' : 20,'perc_wing_for_le' : 1, 'wing_length_snip':0.27}\n",
    "\n",
    "frame = 1031\n",
    "\n",
    "# models = ['fly_phi_delta10_sweep_m40_40_left']\n",
    "\n",
    "with open(f'{input_dir_ini}/nominal_initial_angles.pkl', 'rb') as handle:\n",
    "    nominal_initial_angles = pickle.load(handle)\n",
    "\n",
    "\n",
    "with open(dict_path,'rb') as f:\n",
    "    frames = pickle.load(f)\n",
    "iterations = 1000\n",
    "\n",
    "chamfer = {'wing':None ,'body':None}\n",
    "\n",
    "\n",
    "\n",
    "angle_name = ['yaw','pitch','roll','phi_right','theta_right','psi_right','phi_left','theta_left','psi_left'] # phi_left  yaw pitch roll \n",
    "# angle_name = ['yaw'] # phi_left  yaw pitch roll \n",
    "\n",
    "model_name = [f'fly_{angle}_delta10_sweep_m40_40_try' for angle in angle_name]\n",
    "model_name += ['fly_combo_delta10_sweep','fly_mesh_evaluation_elipse_bod_elipse_wing','fly_mesh_evaluation_elipse_bod_rec_wing','fly_right_wing_combo_delta10_5_sweep']\n",
    "delta_angles = [np.array([  0., -30., -20., -10.,  10.,  20.,  30.])]*len(angle_name) + [np.array([  0., -10.,  10.])] + [np.array([  0.])] + [np.array([  0.])] + [np.array([  1., 2.,  3.,4,5,6,7])]\n",
    "iterations_list = [iterations]*len(angle_name) + [iterations] + [1500] + [1500] + [1000]\n",
    "\n",
    "\n",
    "model_name = ['initilize_with_loss_phi_psi_v3_full_run']\n",
    "iterations_list = [1000]\n",
    "delta_angles = [np.array([0,15])]\n",
    "\n",
    "for delta_angle,model,iterations in zip(delta_angles,model_name,iterations_list):\n",
    "\n",
    "    # for model_name in models:\n",
    "    angle_name = model.split('_')[1]\n",
    "    path_frame = f'D:/Documents/gaussian_model_output/{model}/{frame}/initial/'\n",
    "    input_dir = f'{path_output}/{model}'\n",
    "    sweep_eval = EvaluateAngleSweep(frames,nominal_initial_angles,input_dir, input_path_for_image,iterations,path_frame,angle_name,model,delta_angles=delta_angle)\n",
    "    sweep_path = f'{input_dir}/frames_{angle_name}_sweep_iteration_{iterations}.pkl'\n",
    "    file_path_save_hull = f'G:/My Drive/Research/gaussian_splatting/hull_body.pkl'\n",
    "    sweep_eval.load_sweep(sweep_path,file_path_save_hull,letedict)\n",
    "    sweep_eval.delta_angles = delta_angle\n",
    "\n",
    "\n",
    "\n",
    "    chamfer_2d_wing,chamfer_3d_wing,chamfer_3d_body,chamfer_2d_body = [],[],[],[]\n",
    "    for mov_name in list(sweep_eval.sweep.keys()):    \n",
    "        chamfer_2d_wing.append([frame.error_2d_chamfer_wing/2 if frame != 'Fail' else None for frame in sweep_eval.sweep[mov_name] ] )\n",
    "        chamfer_stats_2d_wing = Utils.get_chamfer_stats(sweep_eval.angle_name,sweep_eval.delta_angles,chamfer_2d_wing)\n",
    "\n",
    "        chamfer_3d_wing.append([frame.error_3d_chamfer_wing/2 if frame != 'Fail' else None for frame in sweep_eval.sweep[mov_name] ] )\n",
    "        chamfer_stats_3d_wing = Utils.get_chamfer_stats(sweep_eval.angle_name,sweep_eval.delta_angles,chamfer_3d_wing)\n",
    "\n",
    "        chamfer_3d_body.append([frame.error_3d_chamfer_body/2 if frame != 'Fail' else None for frame in sweep_eval.sweep[mov_name] ] )\n",
    "        chamfer_stats_3d_body = Utils.get_chamfer_stats(sweep_eval.angle_name,sweep_eval.delta_angles,chamfer_3d_body)\n",
    "\n",
    "        chamfer_2d_body.append([frame.error_2d_chamfer_body/2 if frame != 'Fail' else None for frame in sweep_eval.sweep[mov_name] ] )\n",
    "        chamfer_stats_2d_body = Utils.get_chamfer_stats(sweep_eval.angle_name,sweep_eval.delta_angles,chamfer_2d_body)\n",
    "\n",
    "    chamfer['wing'] = [np.vstack(chamfer_3d_wing),np.vstack(chamfer_2d_wing),chamfer_stats_3d_wing,chamfer_stats_2d_wing]\n",
    "    chamfer['body'] = [np.vstack(chamfer_3d_body),np.vstack(chamfer_2d_body),chamfer_stats_3d_body,chamfer_stats_2d_body]\n",
    "\n",
    "    Utils.pickle_file(chamfer,f'{input_dir}/chamfer.pkl')    \n"
   ]
  },
  {
   "cell_type": "code",
   "execution_count": 14,
   "metadata": {},
   "outputs": [
    {
     "ename": "NameError",
     "evalue": "name 'model' is not defined",
     "output_type": "error",
     "traceback": [
      "\u001b[1;31m---------------------------------------------------------------------------\u001b[0m",
      "\u001b[1;31mNameError\u001b[0m                                 Traceback (most recent call last)",
      "Cell \u001b[1;32mIn[14], line 1\u001b[0m\n\u001b[1;32m----> 1\u001b[0m input_dir \u001b[38;5;241m=\u001b[39m \u001b[38;5;124mf\u001b[39m\u001b[38;5;124m'\u001b[39m\u001b[38;5;132;01m{\u001b[39;00mpath_output\u001b[38;5;132;01m}\u001b[39;00m\u001b[38;5;124m/\u001b[39m\u001b[38;5;132;01m{\u001b[39;00mmodel\u001b[38;5;132;01m}\u001b[39;00m\u001b[38;5;124m'\u001b[39m\n\u001b[0;32m      3\u001b[0m res_dir \u001b[38;5;241m=\u001b[39m os\u001b[38;5;241m.\u001b[39mlistdir(\u001b[38;5;124mf\u001b[39m\u001b[38;5;124m'\u001b[39m\u001b[38;5;132;01m{\u001b[39;00minput_dir\u001b[38;5;132;01m}\u001b[39;00m\u001b[38;5;124m/results\u001b[39m\u001b[38;5;124m'\u001b[39m) \n\u001b[0;32m      4\u001b[0m os\u001b[38;5;241m.\u001b[39mlistdir(\u001b[38;5;124mf\u001b[39m\u001b[38;5;124m'\u001b[39m\u001b[38;5;132;01m{\u001b[39;00minput_dir\u001b[38;5;132;01m}\u001b[39;00m\u001b[38;5;124m/results/\u001b[39m\u001b[38;5;132;01m{\u001b[39;00mres_dir[\u001b[38;5;241m0\u001b[39m]\u001b[38;5;132;01m}\u001b[39;00m\u001b[38;5;124m'\u001b[39m)\n",
      "\u001b[1;31mNameError\u001b[0m: name 'model' is not defined"
     ]
    }
   ],
   "source": [
    "input_dir = f'{path_output}/{model}'\n",
    "\n",
    "res_dir = os.listdir(f'{input_dir}/results') \n",
    "os.listdir(f'{input_dir}/results/{res_dir[0]}')\n",
    "\n",
    "res_dir == 4617\n",
    "\n",
    "len(os.listdir(f'{input_dir}/results/4617')) == len(delta_angles[0])"
   ]
  },
  {
   "cell_type": "code",
   "execution_count": 5,
   "metadata": {},
   "outputs": [
    {
     "data": {
      "text/plain": [
       "'1031'"
      ]
     },
     "execution_count": 5,
     "metadata": {},
     "output_type": "execute_result"
    }
   ],
   "source": [
    "list(nominal_initial_angles.keys())[0].split('_')[3]"
   ]
  },
  {
   "cell_type": "code",
   "execution_count": 17,
   "metadata": {},
   "outputs": [
    {
     "data": {
      "text/plain": [
       "['1003',\n",
       " '1012',\n",
       " '1031',\n",
       " '1049',\n",
       " '1053',\n",
       " '1060',\n",
       " '1085',\n",
       " '1104',\n",
       " '1157',\n",
       " '1165',\n",
       " '1166',\n",
       " '1194',\n",
       " '1215',\n",
       " '1248',\n",
       " '1250',\n",
       " '1257',\n",
       " '1266',\n",
       " '1341',\n",
       " '1485',\n",
       " '1499',\n",
       " '1568',\n",
       " '1625',\n",
       " '1692',\n",
       " '1695',\n",
       " '1762',\n",
       " '1834',\n",
       " '1923',\n",
       " '1950',\n",
       " '1975',\n",
       " '2000',\n",
       " '2011',\n",
       " '2016',\n",
       " '2027',\n",
       " '2033',\n",
       " '2036',\n",
       " '2055',\n",
       " '2088',\n",
       " '2097',\n",
       " '2129',\n",
       " '2156',\n",
       " '2195',\n",
       " '2216',\n",
       " '223',\n",
       " '2237',\n",
       " '2245',\n",
       " '2346',\n",
       " '2347',\n",
       " '2366',\n",
       " '238',\n",
       " '2390',\n",
       " '252',\n",
       " '2532',\n",
       " '2553',\n",
       " '2565',\n",
       " '261',\n",
       " '2618',\n",
       " '2656',\n",
       " '2657',\n",
       " '2672',\n",
       " '2708',\n",
       " '271',\n",
       " '2774',\n",
       " '2783',\n",
       " '2870',\n",
       " '2872',\n",
       " '292',\n",
       " '2926',\n",
       " '2935',\n",
       " '2939',\n",
       " '296',\n",
       " '2961',\n",
       " '2979',\n",
       " '2984',\n",
       " '306',\n",
       " '3068',\n",
       " '3075',\n",
       " '3090',\n",
       " '3096',\n",
       " '3099',\n",
       " '3115',\n",
       " '3159',\n",
       " '3163',\n",
       " '318',\n",
       " '3186',\n",
       " '3190',\n",
       " '334',\n",
       " '344',\n",
       " '352',\n",
       " '3578',\n",
       " '3605',\n",
       " '3698',\n",
       " '3702',\n",
       " '3706',\n",
       " '3771',\n",
       " '384',\n",
       " '3893',\n",
       " '3903',\n",
       " '405',\n",
       " '413',\n",
       " '418',\n",
       " '4205',\n",
       " '4211',\n",
       " '4213',\n",
       " '4255',\n",
       " '4272',\n",
       " '436',\n",
       " '4373',\n",
       " '443',\n",
       " '4448',\n",
       " '4538',\n",
       " '4601',\n",
       " '4690',\n",
       " '4696',\n",
       " '480',\n",
       " '482',\n",
       " '483',\n",
       " '488',\n",
       " '489',\n",
       " '492',\n",
       " '493',\n",
       " '4950',\n",
       " '4954',\n",
       " '505',\n",
       " '5290',\n",
       " '5369',\n",
       " '5656',\n",
       " '5715',\n",
       " '5817',\n",
       " '5818',\n",
       " '5865',\n",
       " '5869',\n",
       " '681',\n",
       " '691',\n",
       " '757',\n",
       " '834',\n",
       " '839',\n",
       " '854',\n",
       " '863',\n",
       " '865',\n",
       " '890',\n",
       " '920',\n",
       " '943',\n",
       " '958',\n",
       " '960',\n",
       " '969',\n",
       " '977',\n",
       " '981',\n",
       " '983']"
      ]
     },
     "execution_count": 17,
     "metadata": {},
     "output_type": "execute_result"
    }
   ],
   "source": [
    "res_dir"
   ]
  },
  {
   "cell_type": "code",
   "execution_count": null,
   "metadata": {},
   "outputs": [
    {
     "data": {
      "text/plain": [
       "['mov_36_frame_1031',\n",
       " 'mov_36_frame_352',\n",
       " 'mov_45_frame_443',\n",
       " 'mov_36_frame_271',\n",
       " 'mov_45_frame_492',\n",
       " 'mov_36_frame_865',\n",
       " 'mov_36_frame_223',\n",
       " 'mov_36_frame_261',\n",
       " 'mov_36_frame_1049',\n",
       " 'mov_36_frame_482',\n",
       " 'mov_36_frame_1053',\n",
       " 'mov_36_frame_981',\n",
       " 'mov_45_frame_252',\n",
       " 'mov_36_frame_238',\n",
       " 'mov_128_frame_977',\n",
       " 'mov_128_frame_890',\n",
       " 'mov_128_frame_983',\n",
       " 'mov_36_frame_1166',\n",
       " 'mov_128_frame_960',\n",
       " 'mov_128_frame_834',\n",
       " 'mov_128_frame_757',\n",
       " 'mov_128_frame_483',\n",
       " 'mov_128_frame_839',\n",
       " 'mov_128_frame_1104',\n",
       " 'mov_128_frame_1692',\n",
       " 'mov_128_frame_863',\n",
       " 'mov_128_frame_854',\n",
       " 'mov_94_frame_1341',\n",
       " 'mov_134_frame_943',\n",
       " 'mov_134_frame_958',\n",
       " 'mov_132_frame_384',\n",
       " 'mov_76_frame_2055',\n",
       " 'mov_134_frame_1250',\n",
       " 'mov_134_frame_1215',\n",
       " 'mov_134_frame_969',\n",
       " 'mov_132_frame_418',\n",
       " 'mov_134_frame_1257',\n",
       " 'mov_134_frame_1060',\n",
       " 'mov_132_frame_436',\n",
       " 'mov_76_frame_4272',\n",
       " 'mov_164_frame_2346',\n",
       " 'mov_76_frame_3605',\n",
       " 'mov_76_frame_4211',\n",
       " 'mov_76_frame_2926',\n",
       " 'mov_76_frame_2347',\n",
       " 'mov_164_frame_2366',\n",
       " 'mov_76_frame_2656',\n",
       " 'mov_132_frame_3190',\n",
       " 'mov_76_frame_2618',\n",
       " 'mov_76_frame_2984',\n",
       " 'mov_132_frame_3186',\n",
       " 'mov_76_frame_1012',\n",
       " 'mov_76_frame_2979',\n",
       " 'mov_132_frame_4213',\n",
       " 'mov_76_frame_4448',\n",
       " 'mov_164_frame_1499',\n",
       " 'mov_132_frame_4205',\n",
       " 'mov_76_frame_4373',\n",
       " 'mov_132_frame_2532',\n",
       " 'mov_164_frame_306',\n",
       " 'mov_164_frame_2088',\n",
       " 'mov_164_frame_318',\n",
       " 'mov_164_frame_505',\n",
       " 'mov_121_frame_2000',\n",
       " 'mov_164_frame_296',\n",
       " 'mov_164_frame_2097',\n",
       " 'mov_164_frame_2774',\n",
       " 'mov_164_frame_292',\n",
       " 'mov_164_frame_1625',\n",
       " 'mov_164_frame_2870',\n",
       " 'mov_132_frame_1762',\n",
       " 'mov_164_frame_334',\n",
       " 'mov_132_frame_2553',\n",
       " 'mov_132_frame_2565',\n",
       " 'mov_164_frame_344',\n",
       " 'mov_70_frame_3903',\n",
       " 'mov_132_frame_2195',\n",
       " 'mov_70_frame_2390',\n",
       " 'mov_70_frame_2245',\n",
       " 'mov_121_frame_3075',\n",
       " 'mov_121_frame_2939',\n",
       " 'mov_36_frame_1834',\n",
       " 'mov_140_frame_3163',\n",
       " 'mov_36_frame_2237',\n",
       " 'mov_140_frame_4255',\n",
       " 'mov_121_frame_2961',\n",
       " 'mov_92_frame_920',\n",
       " 'mov_140_frame_2935',\n",
       " 'mov_36_frame_2129',\n",
       " 'mov_91_frame_493',\n",
       " 'mov_91_frame_488',\n",
       " 'mov_132_frame_2216',\n",
       " 'mov_121_frame_3115',\n",
       " 'mov_91_frame_480',\n",
       " 'mov_70_frame_1085',\n",
       " 'mov_40_frame_2011',\n",
       " 'mov_92_frame_4950',\n",
       " 'mov_78_frame_3771',\n",
       " 'mov_61_frame_405',\n",
       " 'mov_92_frame_5817',\n",
       " 'mov_78_frame_3698',\n",
       " 'mov_40_frame_3099',\n",
       " 'mov_70_frame_4696',\n",
       " 'mov_140_frame_1695',\n",
       " 'mov_61_frame_413',\n",
       " 'mov_40_frame_1003',\n",
       " 'mov_40_frame_3159',\n",
       " 'mov_36_frame_3090',\n",
       " 'mov_78_frame_3893',\n",
       " 'mov_92_frame_5869',\n",
       " 'mov_61_frame_489',\n",
       " 'mov_40_frame_2033',\n",
       " 'mov_92_frame_5715',\n",
       " 'mov_40_frame_5656',\n",
       " 'mov_40_frame_5865',\n",
       " 'mov_40_frame_4601',\n",
       " 'mov_36_frame_2672',\n",
       " 'mov_78_frame_2156',\n",
       " 'mov_75_frame_4954',\n",
       " 'mov_75_frame_2036',\n",
       " 'mov_78_frame_1165',\n",
       " 'mov_40_frame_4538',\n",
       " 'mov_75_frame_3578',\n",
       " 'mov_78_frame_2872',\n",
       " 'mov_91_frame_1248',\n",
       " 'mov_36_frame_2657',\n",
       " 'mov_78_frame_1157',\n",
       " 'mov_36_frame_2708',\n",
       " 'mov_40_frame_4690',\n",
       " 'mov_78_frame_2783',\n",
       " 'mov_27_frame_681',\n",
       " 'mov_59_frame_2016',\n",
       " 'mov_59_frame_2027',\n",
       " 'mov_59_frame_1950',\n",
       " 'mov_27_frame_691',\n",
       " 'mov_59_frame_3096',\n",
       " 'mov_59_frame_1975',\n",
       " 'mov_59_frame_3068',\n",
       " 'mov_59_frame_1923',\n",
       " 'mov_56_frame_5369',\n",
       " 'mov_56_frame_5818',\n",
       " 'mov_59_frame_1266',\n",
       " 'mov_56_frame_3702',\n",
       " 'mov_59_frame_1194',\n",
       " 'mov_56_frame_3706',\n",
       " 'mov_56_frame_5290',\n",
       " 'mov_59_frame_1568',\n",
       " 'mov_91_frame_1485']"
      ]
     },
     "execution_count": 24,
     "metadata": {},
     "output_type": "execute_result"
    }
   ],
   "source": [
    "import os\n",
    "\n",
    "\n",
    "res_dir = os.listdir(f'{input_dir}/results') \n",
    "\n",
    "results_dir = [res_dir for res_dir in res_dir if (len(os.listdir(f'{input_dir}/results/{res_dir}')) == len(delta_angles[0]))]\n",
    "results_dir\n",
    "\n",
    "\n",
    "res = [mov_name for mov_name in nominal_initial_angles.keys() if mov_name.split('_')[3] in results_dir]"
   ]
  },
  {
   "cell_type": "code",
   "execution_count": 1,
   "metadata": {},
   "outputs": [],
   "source": [
    "import pickle\n",
    "input_dir_ini = 'G:/My Drive/Research/gaussian_splatting/gaussian_splatting_input/evaluation'\n",
    "with open(f'{input_dir_ini}/nominal_initial_angles.pkl', 'rb') as handle:\n",
    "    nominal_initial_angles = pickle.load(handle)\n"
   ]
  },
  {
   "cell_type": "code",
   "execution_count": 2,
   "metadata": {},
   "outputs": [
    {
     "data": {
      "text/plain": [
       "{'body_angles': [75.0, -40.0, -3.0],\n",
       " 'left_wing_angles': [24.0, 330.82788, 8.0],\n",
       " 'right_wing_angles': [-11.0, -28.417137, -12.0],\n",
       " 'right_wing_angle_joint1': 0.0,\n",
       " 'left_wing_angle_joint1': -0.0,\n",
       " 'right_wing_angle_joint2': 0.0,\n",
       " 'left_wing_angle_joint2': -0.0,\n",
       " 'right_wing_twist_joint1': 0.0,\n",
       " 'left_wing_twist_joint1': -0.0,\n",
       " 'right_wing_twist_joint2': 0.0,\n",
       " 'left_wing_twist_joint2': -0.0}"
      ]
     },
     "execution_count": 2,
     "metadata": {},
     "output_type": "execute_result"
    }
   ],
   "source": [
    "nominal_initial_angles['mov_70_frame_4617']"
   ]
  },
  {
   "cell_type": "code",
   "execution_count": null,
   "metadata": {},
   "outputs": [],
   "source": [
    "\n",
    "idx = 0\n",
    "with open(f'D:/Documents/gaussian_model_output/initilize_with_loss_yaw_phi_v3/angles_op_from_loss.pkl', 'rb') as handle:\n",
    "    phi_yaw_angles = pickle.load(handle)\n"
   ]
  },
  {
   "cell_type": "code",
   "execution_count": null,
   "metadata": {},
   "outputs": [],
   "source": [
    "    \n",
    "body_run_frames = { key:val for key,val in zip(nominal_initial_angles.keys(),phi_yaw_angles) if int(key.split('_')[3]) in phi_yaw_angles[:,-1]}\n",
    "nominal_frames = { key:val for key,val in nominal_initial_angles.items() if key not in body_run_frames.keys()}\n"
   ]
  },
  {
   "cell_type": "code",
   "execution_count": 25,
   "metadata": {},
   "outputs": [
    {
     "data": {
      "text/plain": [
       "150"
      ]
     },
     "execution_count": 25,
     "metadata": {},
     "output_type": "execute_result"
    }
   ],
   "source": [
    "len(list(nominal_frames.keys()))"
   ]
  },
  {
   "cell_type": "code",
   "execution_count": 26,
   "metadata": {},
   "outputs": [
    {
     "data": {
      "text/plain": [
       "['mov_59_frame_1246']"
      ]
     },
     "execution_count": 26,
     "metadata": {},
     "output_type": "execute_result"
    }
   ],
   "source": [
    "[key for key in nominal_frames.keys() if key not in body_run_frames.keys()]"
   ]
  },
  {
   "cell_type": "code",
   "execution_count": 15,
   "metadata": {},
   "outputs": [
    {
     "data": {
      "text/plain": [
       "(array([ 6.,  6., 12., 17., 26., 17., 27., 21., 12.,  7.]),\n",
       " array([-29. , -25.7, -22.4, -19.1, -15.8, -12.5,  -9.2,  -5.9,  -2.6,\n",
       "          0.7,   4. ]),\n",
       " <BarContainer object of 10 artists>)"
      ]
     },
     "execution_count": 15,
     "metadata": {},
     "output_type": "execute_result"
    },
    {
     "data": {
      "image/png": "[encoded data removed]",
      "text/plain": [
       "<Figure size 640x480 with 1 Axes>"
      ]
     },
     "metadata": {},
     "output_type": "display_data"
    }
   ],
   "source": [
    "import numpy as np\n",
    "import matplotlib.pyplot as plt\n",
    "lw = np.vstack([nominal_initial_angles[key]['left_wing_angles'] for key in nominal_initial_angles.keys()])\n",
    "rw = np.vstack([nominal_initial_angles[key]['right_wing_angles'] for key in nominal_initial_angles.keys()])\n",
    "\n",
    "\n",
    "plt.hist(lw[:,2])\n",
    "plt.hist(rw[:,2])"
   ]
  },
  {
   "cell_type": "code",
   "execution_count": 22,
   "metadata": {},
   "outputs": [
    {
     "data": {
      "text/plain": [
       "324"
      ]
     },
     "execution_count": 22,
     "metadata": {},
     "output_type": "execute_result"
    }
   ],
   "source": [
    "import itertools\n",
    "phi_grid = np.hstack((np.arange(-90.0,0,10),np.arange(0.0,90,10)))\n",
    "theta_grid = 0#np.hstack((np.arange(-30.0,0,15),np.arange(0.0,45,15)))\n",
    "psi_grid = np.hstack((np.arange(-170.0,10,10)))\n",
    "roll_yaw = list(itertools.product(phi_grid,psi_grid))\n",
    "len(roll_yaw)"
   ]
  },
  {
   "cell_type": "code",
   "execution_count": 7,
   "metadata": {},
   "outputs": [
    {
     "ename": "IndexError",
     "evalue": "list index out of range",
     "output_type": "error",
     "traceback": [
      "\u001b[1;31m---------------------------------------------------------------------------\u001b[0m",
      "\u001b[1;31mIndexError\u001b[0m                                Traceback (most recent call last)",
      "Cell \u001b[1;32mIn[7], line 6\u001b[0m\n\u001b[0;32m      4\u001b[0m angle_idx \u001b[38;5;241m=\u001b[39m \u001b[38;5;241m2\u001b[39m\n\u001b[0;32m      5\u001b[0m ax[\u001b[38;5;241m0\u001b[39m]\u001b[38;5;241m.\u001b[39mhist(np\u001b[38;5;241m.\u001b[39mhstack([np\u001b[38;5;241m.\u001b[39mhstack((sweep_eval\u001b[38;5;241m.\u001b[39msweep[mov_name][angle_idx]\u001b[38;5;241m.\u001b[39merror_3d_le[\u001b[38;5;241m0\u001b[39m],sweep_eval\u001b[38;5;241m.\u001b[39msweep[mov_name][angle_idx]\u001b[38;5;241m.\u001b[39merror_3d_le[\u001b[38;5;241m1\u001b[39m]))\u001b[38;5;241m*\u001b[39m\u001b[38;5;241m1000\u001b[39m \u001b[38;5;28;01mfor\u001b[39;00m mov_name \u001b[38;5;129;01min\u001b[39;00m sweep_eval\u001b[38;5;241m.\u001b[39msweep\u001b[38;5;241m.\u001b[39mkeys()]),bins \u001b[38;5;241m=\u001b[39m \u001b[38;5;241m100\u001b[39m)\n\u001b[1;32m----> 6\u001b[0m ax[\u001b[38;5;241m1\u001b[39m]\u001b[38;5;241m.\u001b[39mhist(np\u001b[38;5;241m.\u001b[39mhstack([np\u001b[38;5;241m.\u001b[39mhstack((sweep_eval\u001b[38;5;241m.\u001b[39msweep[mov_name][angle_idx]\u001b[38;5;241m.\u001b[39merror_3d_le[\u001b[38;5;241m2\u001b[39m],sweep_eval\u001b[38;5;241m.\u001b[39msweep[mov_name][angle_idx]\u001b[38;5;241m.\u001b[39merror_3d_le[\u001b[38;5;241m3\u001b[39m]))\u001b[38;5;241m*\u001b[39m\u001b[38;5;241m1000\u001b[39m \u001b[38;5;28;01mfor\u001b[39;00m mov_name \u001b[38;5;129;01min\u001b[39;00m sweep_eval\u001b[38;5;241m.\u001b[39msweep\u001b[38;5;241m.\u001b[39mkeys()]),bins \u001b[38;5;241m=\u001b[39m \u001b[38;5;241m100\u001b[39m)\n",
      "Cell \u001b[1;32mIn[7], line 6\u001b[0m, in \u001b[0;36m<listcomp>\u001b[1;34m(.0)\u001b[0m\n\u001b[0;32m      4\u001b[0m angle_idx \u001b[38;5;241m=\u001b[39m \u001b[38;5;241m2\u001b[39m\n\u001b[0;32m      5\u001b[0m ax[\u001b[38;5;241m0\u001b[39m]\u001b[38;5;241m.\u001b[39mhist(np\u001b[38;5;241m.\u001b[39mhstack([np\u001b[38;5;241m.\u001b[39mhstack((sweep_eval\u001b[38;5;241m.\u001b[39msweep[mov_name][angle_idx]\u001b[38;5;241m.\u001b[39merror_3d_le[\u001b[38;5;241m0\u001b[39m],sweep_eval\u001b[38;5;241m.\u001b[39msweep[mov_name][angle_idx]\u001b[38;5;241m.\u001b[39merror_3d_le[\u001b[38;5;241m1\u001b[39m]))\u001b[38;5;241m*\u001b[39m\u001b[38;5;241m1000\u001b[39m \u001b[38;5;28;01mfor\u001b[39;00m mov_name \u001b[38;5;129;01min\u001b[39;00m sweep_eval\u001b[38;5;241m.\u001b[39msweep\u001b[38;5;241m.\u001b[39mkeys()]),bins \u001b[38;5;241m=\u001b[39m \u001b[38;5;241m100\u001b[39m)\n\u001b[1;32m----> 6\u001b[0m ax[\u001b[38;5;241m1\u001b[39m]\u001b[38;5;241m.\u001b[39mhist(np\u001b[38;5;241m.\u001b[39mhstack([np\u001b[38;5;241m.\u001b[39mhstack((\u001b[43msweep_eval\u001b[49m\u001b[38;5;241;43m.\u001b[39;49m\u001b[43msweep\u001b[49m\u001b[43m[\u001b[49m\u001b[43mmov_name\u001b[49m\u001b[43m]\u001b[49m\u001b[43m[\u001b[49m\u001b[43mangle_idx\u001b[49m\u001b[43m]\u001b[49m\u001b[38;5;241;43m.\u001b[39;49m\u001b[43merror_3d_le\u001b[49m\u001b[43m[\u001b[49m\u001b[38;5;241;43m2\u001b[39;49m\u001b[43m]\u001b[49m,sweep_eval\u001b[38;5;241m.\u001b[39msweep[mov_name][angle_idx]\u001b[38;5;241m.\u001b[39merror_3d_le[\u001b[38;5;241m3\u001b[39m]))\u001b[38;5;241m*\u001b[39m\u001b[38;5;241m1000\u001b[39m \u001b[38;5;28;01mfor\u001b[39;00m mov_name \u001b[38;5;129;01min\u001b[39;00m sweep_eval\u001b[38;5;241m.\u001b[39msweep\u001b[38;5;241m.\u001b[39mkeys()]),bins \u001b[38;5;241m=\u001b[39m \u001b[38;5;241m100\u001b[39m)\n",
      "\u001b[1;31mIndexError\u001b[0m: list index out of range"
     ]
    }
   ],
   "source": [
    "# histogram of chamfer distance for each point\n",
    "\n",
    "fig,ax = plt.subplots(1,2)\n",
    "angle_idx = 2\n",
    "ax[0].hist(np.hstack([np.hstack((sweep_eval.sweep[mov_name][angle_idx].error_3d_le[0],sweep_eval.sweep[mov_name][angle_idx].error_3d_le[1]))*1000 for mov_name in sweep_eval.sweep.keys()]),bins = 100)\n",
    "ax[1].hist(np.hstack([np.hstack((sweep_eval.sweep[mov_name][angle_idx].error_3d_le[2],sweep_eval.sweep[mov_name][angle_idx].error_3d_le[3]))*1000 for mov_name in sweep_eval.sweep.keys()]),bins = 100)\n"
   ]
  },
  {
   "cell_type": "code",
   "execution_count": null,
   "metadata": {},
   "outputs": [],
   "source": [
    "# plot subplot of th and box 6 subplot - wings================================================\n",
    "\n",
    "path_figures = 'G:/My Drive/Research/gaussian_splatting/article/plots/evaluation/'\n",
    "# plot box plot of both wings\n",
    "\n",
    "\n",
    "plt.rcParams.update({\n",
    "    'font.size': 20,           # Base font size\n",
    "    'axes.titlesize': 20,      # Axes title\n",
    "    'axes.labelsize': 14,      # X and Y labels\n",
    "    'xtick.labelsize': 18,     # Tick labels\n",
    "    'ytick.labelsize': 18,\n",
    "    'legend.fontsize': 12,\n",
    "    'figure.titlesize': 18     # Figure suptitle\n",
    "})\n",
    "\n",
    "\n",
    "plot_body_wing = 'wing'\n",
    "yticks = np.arange(0,1200,200)\n",
    "yminmax = [min(yticks),max(yticks)]\n",
    "fig2,ax2 = plt.subplots(2,3,figsize=(18, 10))\n",
    "chamfer_stats_th = Plotters.wing_subplot_box(delta_angles[0],path_output,plot_body_wing,angle_name, ax2[0],yticks,whis = (10,90))\n",
    "Plotters.body_subplot_box(delta_angles[0],path_output,plot_body_wing,angle_name, ax2[1],yticks = np.arange(0,1200,200))\n",
    "\n",
    "fig2.tight_layout()\n",
    "fig2.savefig(f'{path_figures}chamfer_3d_boxplot_{plot_body_wing}', transparent=True, dpi=300, format='svg', bbox_inches='tight')\n",
    "\n",
    "\n",
    "fig,ax = plt.subplots(2,3,figsize=(18, 10))\n",
    "num_lines = 7\n",
    "colors = cm.turbo(np.linspace(0.3, 1, num_lines))  # Adjust 0.3 to 1 for visible gradient\n",
    "chamfer_stats_th = Plotters.wing_subplot_th(path_output,plot_body_wing,ax[0],colors)\n",
    "chamfer_stats_th_body = Plotters.body_subplot_th(path_output,plot_body_wing,ax[1],colors)\n",
    "fig.tight_layout()\n",
    "fig.savefig(f'{path_figures}chamfer_3d_frames_th_{plot_body_wing}', transparent=True, dpi=300, format='svg', bbox_inches='tight')\n",
    "\n",
    "\n",
    "\n",
    "\n",
    "\n"
   ]
  },
  {
   "cell_type": "code",
   "execution_count": 454,
   "metadata": {},
   "outputs": [
    {
     "data": {
      "text/plain": [
       "[None, None, array([160.]), array([160.]), array([150.]), array([165.]), None]"
      ]
     },
     "execution_count": 454,
     "metadata": {},
     "output_type": "execute_result"
    }
   ],
   "source": [
    "def get_cd_for_perd_for_ang(percent,angle,chamfer_stats_th, angle_of_analysis):\n",
    "    th = np.arange(0.01*1000,0.3*1000,5)\n",
    "    angle_vec = np.array([-30,-20,-10,0,10,20,30])\n",
    "    angle_idx = np.argwhere(angle_vec == angle).flatten()\n",
    "    if len(angle_idx) > 0:\n",
    "        cd_th = chamfer_stats_th[angle_of_analysis][:,angle_idx[0]].flatten()\n",
    "        idx_gt_90 = np.argwhere(cd_th > percent)\n",
    "        return th[idx_gt_90[0]] if len(idx_gt_90) > 0 else None\n",
    "    else:\n",
    "        return None\n",
    "\n",
    "angle_of_analysis = 'yaw'\n",
    "percent = 90 # percent of frames that above th\n",
    "[get_cd_for_perd_for_ang(percent,angle,chamfer_stats_th_body, angle_of_analysis) for angle in np.array([-30,-20,-10,0,10,20,30])]"
   ]
  },
  {
   "cell_type": "code",
   "execution_count": 437,
   "metadata": {},
   "outputs": [
    {
     "data": {
      "text/plain": [
       "(<Figure size 640x480 with 1 Axes>,\n",
       " [<matplotlib.lines.Line2D at 0x21eec5ad480>,\n",
       "  <matplotlib.lines.Line2D at 0x21eec5aed70>,\n",
       "  <matplotlib.lines.Line2D at 0x21eec5af3d0>,\n",
       "  <matplotlib.lines.Line2D at 0x21eec5ad600>,\n",
       "  <matplotlib.lines.Line2D at 0x21eec5aeb60>,\n",
       "  <matplotlib.lines.Line2D at 0x21eec5afd90>,\n",
       "  <matplotlib.lines.Line2D at 0x21eec5af490>])"
      ]
     },
     "execution_count": 437,
     "metadata": {},
     "output_type": "execute_result"
    }
   ],
   "source": [
    "plt.figure(),plt.plot(chamfer['wing'][1],chamfer['wing'][0])"
   ]
  },
  {
   "cell_type": "code",
   "execution_count": 459,
   "metadata": {},
   "outputs": [],
   "source": [
    "# plot subplot of th and box 3 subplot - body ================================================\n",
    "\n",
    "path_figures = 'G:/My Drive/Research/gaussian_splatting/article/plots/evaluation/'\n",
    "# plot box plot of both wings\n",
    "\n",
    "\n",
    "plt.rcParams.update({\n",
    "    'font.size': 20,           # Base font size\n",
    "    'axes.titlesize': 20,      # Axes title\n",
    "    'axes.labelsize': 14,      # X and Y labels\n",
    "    'xtick.labelsize': 18,     # Tick labels\n",
    "    'ytick.labelsize': 18,\n",
    "    'legend.fontsize': 12,\n",
    "    'figure.titlesize': 18     # Figure suptitle\n",
    "})\n",
    "\n",
    "\n",
    "plot_body_wing = 'body'\n",
    "yticks = np.arange(0,200,50)\n",
    "yminmax = [min(yticks),max(yticks)]\n",
    "fig2,ax2 = plt.subplots(1,3,figsize=(18, 5))\n",
    "Plotters.body_subplot_box(delta_angles[0],path_output,plot_body_wing,angle_name, ax2,yticks,whis = (10,90))\n",
    "\n",
    "fig2.tight_layout()\n",
    "fig2.savefig(f'{path_figures}chamfer_3d_boxplot_{plot_body_wing}', transparent=True, dpi=300, format='svg', bbox_inches='tight')\n",
    "\n",
    "\n",
    "\n",
    "fig,ax = plt.subplots(1,3,figsize=(18, 5))\n",
    "num_lines = 7\n",
    "colors = cm.turbo(np.linspace(0.3, 1, num_lines))  # Adjust 0.3 to 1 for visible gradient\n",
    "chamfer_stats_th_body = Plotters.body_subplot_th(path_output,plot_body_wing,ax,colors)\n",
    "fig.tight_layout()\n",
    "fig.savefig(f'{path_figures}chamfer_3d_frames_th_{plot_body_wing}', transparent=True, dpi=300, format='svg', bbox_inches='tight')\n",
    "\n",
    "\n",
    "\n",
    "\n"
   ]
  },
  {
   "cell_type": "code",
   "execution_count": 461,
   "metadata": {},
   "outputs": [
    {
     "data": {
      "text/plain": [
       "[array([135.]),\n",
       " array([115.]),\n",
       " array([100.]),\n",
       " array([95.]),\n",
       " array([90.]),\n",
       " array([90.]),\n",
       " array([90.])]"
      ]
     },
     "execution_count": 461,
     "metadata": {},
     "output_type": "execute_result"
    }
   ],
   "source": [
    "def get_cd_for_perd_for_ang(percent,angle,chamfer_stats_th, angle_of_analysis):\n",
    "    th = np.arange(0.01*1000,0.3*1000,5)\n",
    "    angle_vec = np.array([-30,-20,-10,0,10,20,30])\n",
    "    angle_idx = np.argwhere(angle_vec == angle).flatten()\n",
    "    if len(angle_idx) > 0:\n",
    "        cd_th = chamfer_stats_th[angle_of_analysis][:,angle_idx[0]].flatten()\n",
    "        idx_gt_90 = np.argwhere(cd_th > percent)\n",
    "        return th[idx_gt_90[0]] if len(idx_gt_90) > 0 else None\n",
    "    else:\n",
    "        return None\n",
    "\n",
    "angle_of_analysis = 'pitch'\n",
    "percent = 90 # percent of frames that above th\n",
    "[get_cd_for_perd_for_ang(percent,angle,chamfer_stats_th_body, angle_of_analysis) for angle in np.array([-30,-20,-10,0,10,20,30])]"
   ]
  },
  {
   "cell_type": "code",
   "execution_count": null,
   "metadata": {},
   "outputs": [
    {
     "data": {
      "text/plain": [
       "array([95.])"
      ]
     },
     "execution_count": 436,
     "metadata": {},
     "output_type": "execute_result"
    }
   ],
   "source": [
    "angle_to_find = 'pitch'\n",
    "th = np.arange(0.01*1000,0.3*1000,5)\n",
    "angle = 0\n",
    "angle_vec = np.array([-30,-20,-10,0,10,20,30])\n",
    "angle_idx = np.argwhere(angle_vec == angle)\n",
    "percent = 90\n",
    "\n",
    "cd_th = chamfer_stats_th_body['yaw'][:,angle_idx].flatten()\n",
    "idx_gt_90 = np.argwhere(cd_th > percent)[0]\n",
    "th_gt_90 = th[idx_gt_90]\n",
    "\n",
    "\n",
    "\n",
    "def get_cd_for_perd_for_ang(percent,angle,chamfer_stats_th, angle_of_analysis):\n",
    "    th = np.arange(0.01*1000,0.3*1000,5)\n",
    "    angle_vec = np.array([-30,-20,-10,0,10,20,30])\n",
    "    angle_idx = np.argwhere(angle_vec == angle)\n",
    "\n",
    "    cd_th = chamfer_stats_th[angle_of_analysis][:,angle_idx].flatten()\n",
    "    idx_gt_90 = np.argwhere(cd_th > percent)[0]\n",
    "    return th[idx_gt_90]\n",
    "\n",
    "th_gt_90"
   ]
  },
  {
   "cell_type": "code",
   "execution_count": null,
   "metadata": {},
   "outputs": [
    {
     "data": {
      "text/plain": [
       "90.0"
      ]
     },
     "execution_count": 422,
     "metadata": {},
     "output_type": "execute_result"
    }
   ],
   "source": []
  },
  {
   "cell_type": "code",
   "execution_count": 21,
   "metadata": {},
   "outputs": [
    {
     "data": {
      "text/plain": [
       "(array([ 8., 12., 18., 17., 17.,  6., 11.,  6.,  0.,  2.]),\n",
       " array([182.97075756, 190.6654556 , 198.36015364, 206.05485167,\n",
       "        213.74954971, 221.44424774, 229.13894578, 236.83364381,\n",
       "        244.52834185, 252.22303989, 259.91773792]),\n",
       " <BarContainer object of 10 artists>)"
      ]
     },
     "execution_count": 21,
     "metadata": {},
     "output_type": "execute_result"
    }
   ],
   "source": [
    "plt.hist([sweep_eval.sweep[eval][0].error_3d_chamfer_body for eval in sweep_eval.sweep.keys()])"
   ]
  },
  {
   "cell_type": "code",
   "execution_count": 10,
   "metadata": {},
   "outputs": [
    {
     "data": {
      "text/plain": [
       "2.6764614823871486"
      ]
     },
     "execution_count": 10,
     "metadata": {},
     "output_type": "execute_result"
    }
   ],
   "source": [
    "sweep_eval.sweep['mov_128_frame_1104'][0].error_2d_chamfer_wing"
   ]
  },
  {
   "cell_type": "code",
   "execution_count": 324,
   "metadata": {},
   "outputs": [
    {
     "name": "stderr",
     "output_type": "stream",
     "text": [
      "100%|██████████| 132/132 [00:26<00:00,  4.96it/s]\n",
      "100%|██████████| 132/132 [00:09<00:00, 14.24it/s]\n",
      "100%|██████████| 132/132 [00:08<00:00, 14.76it/s]\n"
     ]
    }
   ],
   "source": [
    "# width of wings ==========================================================================\n",
    "\n",
    "iterations = 1000\n",
    "model = f'fly_yaw_delta10_sweep_m40_40_try'\n",
    "\n",
    "path_hull = 'D:/Documents/gaussian_model_output/hull_evaluation'\n",
    "angle_name = model.split('_')[1]\n",
    "path_frame = f'D:/Documents/gaussian_model_output/{model}/{frame}/initial/'\n",
    "input_dir = f'{path_output}/{model}'\n",
    "sweep_eval = EvaluateAngleSweep(frames,nominal_initial_angles,input_dir, input_path_for_image,iterations,path_frame,angle_name,model,delta_angles=delta_angle)\n",
    "sweep_path = f'{input_dir}/frames_{angle_name}_sweep_iteration_{iterations}.pkl'\n",
    "file_path_save_hull = f'G:/My Drive/Research/gaussian_splatting/hull_body.pkl'\n",
    "sweep_eval.load_sweep(sweep_path,file_path_save_hull,letedict)\n",
    "\n",
    "\n",
    "sweep_eval.load_hull_for_wing_width(path_hull)\n",
    "\n",
    "sweep_eval.find_wings_from_hull('right')\n",
    "sweep_eval.find_wings_from_hull('left')\n",
    "\n",
    "hull_wings_project_z = [1000*sweep_eval.devide_wing_project_z(mov_name)[0] for mov_name in sweep_eval.wing_hull['right'].keys()]\n",
    "model_wings_project_z = [1000*sweep_eval.devide_wing_project_z(mov_name)[1] for mov_name in sweep_eval.wing_hull['right'].keys()]\n"
   ]
  },
  {
   "cell_type": "code",
   "execution_count": 478,
   "metadata": {},
   "outputs": [
    {
     "name": "stdout",
     "output_type": "stream",
     "text": [
      "hull : 31.462904228827306, model 21.59602143099896\n"
     ]
    }
   ],
   "source": [
    "# width of wings plot ==========================================================================\n",
    "\n",
    "plt.rcParams.update({\n",
    "    'font.size': 20,           # Base font size\n",
    "    'axes.titlesize': 14,      # Axes title\n",
    "    'axes.labelsize': 14,      # X and Y labels\n",
    "    'xtick.labelsize': 18,     # Tick labels\n",
    "    'ytick.labelsize': 18,\n",
    "    'legend.fontsize': 14,\n",
    "    'figure.titlesize': 18     # Figure suptitle\n",
    "})\n",
    "plt.hist(model_wings_project_z, alpha = 0.5, bins = 30, label = 'Model')\n",
    "plt.hist(hull_wings_project_z, alpha = 0.5, bins = 30,label ='Hull')\n",
    "plt.xlabel('Wing width [$\\mu$m]')\n",
    "plt.ylabel('# of frames')\n",
    "plt.legend(title = 'Initilization',title_fontsize='small' )\n",
    "\n",
    "plt.tight_layout()\n",
    "plt.show()\n",
    "plt.savefig(f'{path_figures}hull_compare_width_wing.svg', transparent=True, dpi=300, format='svg', bbox_inches='tight')\n",
    "\n",
    "print(f'hull : {np.mean(hull_wings_project_z)}, model {np.mean(model_wings_project_z)}')\n"
   ]
  },
  {
   "cell_type": "code",
   "execution_count": 9,
   "metadata": {},
   "outputs": [
    {
     "data": {
      "text/plain": [
       "187.9437815169408"
      ]
     },
     "execution_count": 9,
     "metadata": {},
     "output_type": "execute_result"
    }
   ],
   "source": [
    "import itertools\n",
    "\n",
    "# chamfer distance for combo angles ==========================================================================\n",
    "path_figures = 'G:/My Drive/Research/gaussian_splatting/article/plots/evaluation/'\n",
    "file_save_name = f'chamfer_3d_10_5.svg'\n",
    "model = f'fly_right_wing_combo_delta10_5_sweep'\n",
    "\n",
    "\n",
    "angle_name = model.split('_')[1]\n",
    "path_frame = f'D:/Documents/gaussian_model_output/{model}/{frame}/initial/'\n",
    "input_dir = f'{path_output}/{model}'\n",
    "sweep_eval = EvaluateAngleSweep(frames,nominal_initial_angles,input_dir, input_path_for_image,iterations,path_frame,angle_name,model,delta_angles=delta_angle)\n",
    "sweep_path = f'{input_dir}/frames_{angle_name}_sweep_iteration_{iterations}.pkl'\n",
    "file_path_save_hull = f'G:/My Drive/Research/gaussian_splatting/hull_body.pkl'\n",
    "sweep_eval.load_sweep(sweep_path,file_path_save_hull,letedict)\n",
    "yticks = (0,200)\n",
    "\n",
    "fig,ax = plt.subplots(1,1, figsize = (10,4))\n",
    "wakk =[(0,0,0)]\n",
    "\n",
    "yaw_grid = np.hstack(np.arange(5.0,15,5))\n",
    "roll_grid = np.hstack(np.arange(5.0,15,5))\n",
    "pitch_grid = np.hstack(np.arange(5.0,15,5))\n",
    "\n",
    "roll_yaw = list(itertools.product(yaw_grid,pitch_grid,roll_grid))[1:-1]\n",
    "delta_angles = wakk + roll_yaw\n",
    "delta_angles = [str(delta_angles) for delta_angles in delta_angles]\n",
    "\n",
    "angles = np.vstack([wing['right_wing_angles'] for wing in sweep_eval.ini_angles.values()])\n",
    "delta_angles = [str((angle - angles[0]).astype(np.int16)) for angle in angles]\n",
    "\n",
    "\n",
    "chamfer_df = sweep_eval.generate_dflong_chamfer(delta_angles,model) \n",
    "\n",
    "Plotters.boxplot_v2(chamfer_df, delta_angles, 'xtick', ax, showfliers=False,cmap_name = 'Reds',whis = (0,90))\n",
    "ax.set_xlabel('')\n",
    "ax.set_ylabel('CD [µm]')\n",
    "ax.set_title('$[\\\\phi , \\\\psi , \\\\theta]$')\n",
    "ax.set_yticks(yticks)\n",
    "plt.tight_layout()\n",
    "plt.tight_layout()\n",
    "\n",
    "fig.savefig(f'{path_figures}{file_save_name}', transparent=True, dpi=300, format='svg', bbox_inches='tight')\n",
    "\n",
    "filtered_90th = chamfer_df[chamfer_df['xtick'] == delta_angles[-1]]['chamfer_dist'].quantile(0.9)\n",
    "filtered_90th"
   ]
  },
  {
   "cell_type": "code",
   "execution_count": 3,
   "metadata": {},
   "outputs": [
    {
     "data": {
      "text/plain": [
       "162.32618036527592"
      ]
     },
     "execution_count": 3,
     "metadata": {},
     "output_type": "execute_result"
    }
   ],
   "source": [
    "# chamfer distance for combo angles ==========================================================================\n",
    "path_figures = 'G:/My Drive/Research/gaussian_splatting/article/plots/evaluation/'\n",
    "file_save_name = f'chamfer_3d_combination_yaw_roll_10_pitch_m10_10.svg'\n",
    "model = f'fly_combo_delta10_sweep'\n",
    "fig,ax = plt.subplots(1,1, figsize = (10,4))\n",
    "delta_angles = ['$[0,0,0] ^\\circ$','$[10,-10,10]^\\circ$','$[10,10,10]^\\circ$']\n",
    "yticks = (0,200)\n",
    "angle_name = model.split('_')[1]\n",
    "path_frame = f'D:/Documents/gaussian_model_output/{model}/{frame}/initial/'\n",
    "input_dir = f'{path_output}/{model}'\n",
    "sweep_eval = EvaluateAngleSweep(frames,nominal_initial_angles,input_dir, input_path_for_image,iterations,path_frame,angle_name,model,delta_angles=delta_angle)\n",
    "sweep_path = f'{input_dir}/frames_{angle_name}_sweep_iteration_{iterations}.pkl'\n",
    "file_path_save_hull = f'G:/My Drive/Research/gaussian_splatting/hull_body.pkl'\n",
    "sweep_eval.load_sweep(sweep_path,file_path_save_hull,letedict)\n",
    "\n",
    "\n",
    "chamfer_df = sweep_eval.generate_dflong_chamfer(delta_angles,model) \n",
    "\n",
    "Plotters.boxplot_v2(chamfer_df, delta_angles, 'xtick', ax, showfliers=False,cmap_name = 'Greens', whis = (0,90))\n",
    "ax.set_xlabel('')\n",
    "ax.set_ylabel('CD [µm]')\n",
    "ax.set_title('[Yaw, Pitch, Roll]')\n",
    "ax.set_yticks(yticks)\n",
    "\n",
    "plt.tight_layout()\n",
    "\n",
    "plt.tight_layout()\n",
    "\n",
    "fig.savefig(f'{path_figures}{file_save_name}', transparent=True, dpi=300, format='svg', bbox_inches='tight')\n",
    "\n",
    "filtered_90th = chamfer_df[chamfer_df['xtick'] == delta_angles[2]]['chamfer_dist'].quantile(0.9)\n",
    "filtered_90th"
   ]
  },
  {
   "cell_type": "code",
   "execution_count": 4,
   "metadata": {},
   "outputs": [
    {
     "ename": "IndexError",
     "evalue": "list index out of range",
     "output_type": "error",
     "traceback": [
      "\u001b[1;31m---------------------------------------------------------------------------\u001b[0m",
      "\u001b[1;31mIndexError\u001b[0m                                Traceback (most recent call last)",
      "Cell \u001b[1;32mIn[4], line 32\u001b[0m\n\u001b[0;32m     28\u001b[0m plt\u001b[38;5;241m.\u001b[39mtight_layout()\n\u001b[0;32m     30\u001b[0m fig\u001b[38;5;241m.\u001b[39msavefig(\u001b[38;5;124mf\u001b[39m\u001b[38;5;124m'\u001b[39m\u001b[38;5;132;01m{\u001b[39;00mpath_figures\u001b[38;5;132;01m}\u001b[39;00m\u001b[38;5;132;01m{\u001b[39;00mfile_save_name\u001b[38;5;132;01m}\u001b[39;00m\u001b[38;5;124m'\u001b[39m, transparent\u001b[38;5;241m=\u001b[39m\u001b[38;5;28;01mTrue\u001b[39;00m, dpi\u001b[38;5;241m=\u001b[39m\u001b[38;5;241m300\u001b[39m, \u001b[38;5;28mformat\u001b[39m\u001b[38;5;241m=\u001b[39m\u001b[38;5;124m'\u001b[39m\u001b[38;5;124msvg\u001b[39m\u001b[38;5;124m'\u001b[39m, bbox_inches\u001b[38;5;241m=\u001b[39m\u001b[38;5;124m'\u001b[39m\u001b[38;5;124mtight\u001b[39m\u001b[38;5;124m'\u001b[39m)\n\u001b[1;32m---> 32\u001b[0m filtered_90th \u001b[38;5;241m=\u001b[39m chamfer_df[chamfer_df[\u001b[38;5;124m'\u001b[39m\u001b[38;5;124mxtick\u001b[39m\u001b[38;5;124m'\u001b[39m] \u001b[38;5;241m==\u001b[39m \u001b[43mdelta_angles\u001b[49m\u001b[43m[\u001b[49m\u001b[38;5;241;43m2\u001b[39;49m\u001b[43m]\u001b[49m][\u001b[38;5;124m'\u001b[39m\u001b[38;5;124mchamfer_dist\u001b[39m\u001b[38;5;124m'\u001b[39m]\u001b[38;5;241m.\u001b[39mquantile(\u001b[38;5;241m0.9\u001b[39m)\n\u001b[0;32m     33\u001b[0m filtered_90th\n",
      "\u001b[1;31mIndexError\u001b[0m: list index out of range"
     ]
    }
   ],
   "source": [
    "# chamfer distance for pipeline ==========================================================================\n",
    "path_figures = 'G:/My Drive/Research/gaussian_splatting/article/plots/evaluation/'\n",
    "file_save_name = f'pipeline.svg'\n",
    "model = f'initilize_with_loss_phi_psi_v3_full_run'\n",
    "fig,ax = plt.subplots(1,1, figsize = (10,4))\n",
    "delta_angles = ['Nominal','Wing from Ppipeline']\n",
    "yticks = (0,200)\n",
    "angle_name = model.split('_')[1]\n",
    "path_frame = f'D:/Documents/gaussian_model_output/{model}/{frame}/initial/'\n",
    "input_dir = f'{path_output}/{model}'\n",
    "sweep_eval = EvaluateAngleSweep(frames,nominal_initial_angles,input_dir, input_path_for_image,iterations,path_frame,angle_name,model,delta_angles=delta_angle)\n",
    "sweep_path = f'{input_dir}/frames_{angle_name}_sweep_iteration_{iterations}.pkl'\n",
    "file_path_save_hull = f'G:/My Drive/Research/gaussian_splatting/hull_body.pkl'\n",
    "sweep_eval.load_sweep(sweep_path,file_path_save_hull,letedict)\n",
    "\n",
    "\n",
    "\n",
    "chamfer_df = sweep_eval.generate_dflong_chamfer(delta_angles,model) \n",
    "\n",
    "Plotters.boxplot_v2(chamfer_df, delta_angles, 'xtick', ax, showfliers=False,cmap_name = 'Greens', whis = (0,90))\n",
    "ax.set_xlabel('')\n",
    "ax.set_ylabel('CD [µm]')\n",
    "# ax.set_title('[Yaw, Pitch, Roll]')\n",
    "ax.set_yticks(yticks)\n",
    "\n",
    "plt.tight_layout()\n",
    "\n",
    "plt.tight_layout()\n",
    "\n",
    "fig.savefig(f'{path_figures}{file_save_name}', transparent=True, dpi=300, format='svg', bbox_inches='tight')\n",
    "\n",
    "filtered_90th = chamfer_df[chamfer_df['xtick'] == delta_angles[2]]['chamfer_dist'].quantile(0.9)\n",
    "filtered_90th"
   ]
  },
  {
   "cell_type": "code",
   "execution_count": 4,
   "metadata": {},
   "outputs": [
    {
     "data": {
      "text/plain": [
       "168.09757182678146"
      ]
     },
     "execution_count": 4,
     "metadata": {},
     "output_type": "execute_result"
    }
   ],
   "source": [
    "\n",
    "# chamfer distance for different mesh ==========================================================================\n",
    "path_figures = 'G:/My Drive/Research/gaussian_splatting/article/plots/evaluation/'\n",
    "file_save_name_wing = f'different_mesh_wing.svg'\n",
    "yticks = (75,200)\n",
    "\n",
    "fig,ax = plt.subplots(1,1, figsize =(10,6))\n",
    "plot_body_wing = 'wing'\n",
    "models = ['fly_combo_delta10_sweep','fly_mesh_evaluation_elipse_bod_elipse_wing','fly_mesh_evaluation_elipse_bod_rec_wing']\n",
    "xname = ['Nominal','Ellipse wings','Rectangle wings']\n",
    "chamfer_df = []\n",
    "\n",
    "chamfer_df_wing = pd.concat([sweep_eval.load_1d_chamfer_nominal_to_df(name,model) for model,name in zip(models,xname)], axis=0)\n",
    "Plotters.boxplot_v2(chamfer_df_wing, xname, 'xtick', ax, showfliers=False,cmap_name = 'Reds')\n",
    "\n",
    "\n",
    "ax.set_xlabel('')\n",
    "ax.set_title('Wings')\n",
    "ax.set_ylabel('CD [µm]')\n",
    "ax.set_yticks(yticks)\n",
    "fig.savefig(f'{path_figures}{file_save_name_wing}', transparent=True, dpi=300, format='svg', bbox_inches='tight')\n",
    "\n",
    "\n",
    "yticks = (75,100)\n",
    "\n",
    "file_save_name_body = f'different_mesh_body.svg'\n",
    "\n",
    "fig,ax = plt.subplots(1,1, figsize =(10,6))\n",
    "chamfer_df_body = pd.concat([sweep_eval.load_1d_chamfer_nominal_to_df(name,model,plot_body_wing = 'body') for model,name in zip(models,xname)], axis=0)\n",
    "Plotters.boxplot_v2(chamfer_df_body, xname, 'xtick', ax, showfliers=False,cmap_name = 'Greens')\n",
    "ax.set_xlabel('')\n",
    "ax.set_title('Body')\n",
    "ax.set_ylabel('CD [µm]')\n",
    "\n",
    "# ax[1].set_title('Body')\n",
    "ax.set_yticks(yticks)\n",
    "\n",
    "# ax[1].set\n",
    "# _yticks(yticks)\n",
    "\n",
    "plt.tight_layout()\n",
    "\n",
    "\n",
    "\n",
    "\n",
    "fig.savefig(f'{path_figures}{file_save_name_body}', transparent=True, dpi=300, format='svg', bbox_inches='tight')\n",
    "\n",
    "\n",
    "filtered_90th = chamfer_df_wing[chamfer_df_wing['xtick'] == xname[1]]['chamfer_dist'].quantile(0.9)\n",
    "filtered_90th"
   ]
  },
  {
   "cell_type": "code",
   "execution_count": 67,
   "metadata": {},
   "outputs": [
    {
     "data": {
      "text/plain": [
       "92.42017248932731"
      ]
     },
     "execution_count": 67,
     "metadata": {},
     "output_type": "execute_result"
    }
   ],
   "source": [
    "filtered_90th = chamfer_df_body[chamfer_df_body['xtick'] == xname[2]]['chamfer_dist'].quantile(0.9)\n",
    "filtered_90th"
   ]
  },
  {
   "cell_type": "code",
   "execution_count": 92,
   "metadata": {},
   "outputs": [
    {
     "data": {
      "text/plain": [
       "'D:/Documents/gaussian_model_output/'"
      ]
     },
     "execution_count": 92,
     "metadata": {},
     "output_type": "execute_result"
    }
   ],
   "source": [
    "path_output"
   ]
  },
  {
   "cell_type": "code",
   "execution_count": 37,
   "metadata": {},
   "outputs": [
    {
     "name": "stdout",
     "output_type": "stream",
     "text": [
      "Saved animation to: D:/Documents/gaussian_model_output//initilize_with_loss_phi_psi_v3_full_run/animated_plot_1000.html\n"
     ]
    }
   ],
   "source": [
    "import plotly.graph_objects as go\n",
    "import numpy as np\n",
    "# ['limegreen','crimson','magenta','magenta','blue','black','black']\n",
    "\n",
    "color_list = ['limegreen','crimson','magenta','magenta','dodgerblue','blue','blue','black','black','black','black','red','red','red','red','red','red','red','red']\n",
    "\n",
    "name_list = ['body','right wing','right wing le','right wing te','left wing','left wing le','left wing te',\n",
    "             'left_wing_tagged_le','left_wing_tagged_te','right_wing_tagged_le','right_wing_tagged_te','bound_on_interest_rw_te',\n",
    "             'bound_on_interest_rw_le','interest_on_bound_rw_le','interest_on_bound_rw_te']\n",
    "\n",
    "name_list = ['body','right wing','right wing le','right wing te','left wing','left wing le','left wing te',\n",
    "             'left_wing_tagged_le','left_wing_tagged_te','right_wing_tagged_le','right_wing_tagged_te']\n",
    "\n",
    "# name_list = ['xyz_rotated']\n",
    "\n",
    "size_list = [3,3,4,4,3,4,4,4,4,5,5,5,5,5,5,5]\n",
    "framestart = 1031\n",
    "frame_end = 1032\n",
    "frames = [int(mov_name.split('_')[3]) for mov_name in sweep_eval.sweep.keys()]\n",
    "model = f'initilize_with_loss_phi_psi_v3_full_run'\n",
    "iterations = 1000\n",
    "delta_angle = np.array([0, -10.0,10.0])\n",
    "output_path = f'{path_output}/{model}/animated_plot_{iterations}.html'\n",
    "idx_angle = 1\n",
    "\n",
    "# === HELPERS ===\n",
    "\n",
    "def create_scatter3d(xyz, color,name,size = 2):\n",
    "    \"\"\"Create a single 3D scatter trace for a specific part.\"\"\"\n",
    "    return go.Scatter3d(\n",
    "        x=xyz[:, 0],\n",
    "        y=xyz[:, 1],\n",
    "        z=xyz[:, 2],\n",
    "        mode=\"markers\",\n",
    "        name = name,\n",
    "        marker=dict(size=size, opacity=1, color=color, colorscale='gray'),\n",
    "    )\n",
    "\n",
    "\n",
    "def get_global_bounds(xyz_list):\n",
    "    \"\"\"Compute global min and max coordinates over all frames for consistent axis scaling.\"\"\"\n",
    "    return np.min(xyz_list, axis=0), np.max(xyz_list, axis=0)\n",
    "\n",
    "\n",
    "def create_frame(parts_list, color_list,size_list, frame_name,name_list):\n",
    "    \"\"\"Create one animation frame with all parts for a given timestep.\"\"\"\n",
    "    data = [\n",
    "        create_scatter3d(part, color,name,size)\n",
    "        for part, color,size,name in zip(parts_list, color_list, size_list,name_list)\n",
    "    ]\n",
    "    return go.Frame(data=data, name=frame_name)\n",
    "\n",
    "\n",
    "def create_play_pause_buttons():\n",
    "    \"\"\"Return Play/Pause button definitions for animation.\"\"\"\n",
    "    return [\n",
    "        {\n",
    "            \"buttons\": [\n",
    "                {\n",
    "                    \"args\": [None, {\"frame\": {\"duration\": 100, \"redraw\": True}, \"fromcurrent\": True}],\n",
    "                    \"label\": \"Play\",\n",
    "                    \"method\": \"animate\",\n",
    "                },\n",
    "                {\n",
    "                    \"args\": [[None], {\"frame\": {\"duration\": 0, \"redraw\": True}, \"mode\": \"immediate\"}],\n",
    "                    \"label\": \"Pause\",\n",
    "                    \"method\": \"animate\",\n",
    "                },\n",
    "            ],\n",
    "            \"direction\": \"left\",\n",
    "            \"pad\": {\"r\": 10, \"t\": 87},\n",
    "            \"showactive\": False,\n",
    "            \"type\": \"buttons\",\n",
    "            \"x\": 0.1,\n",
    "            \"xanchor\": \"right\",\n",
    "            \"y\": 0,\n",
    "            \"yanchor\": \"top\",\n",
    "        }\n",
    "    ]\n",
    "\n",
    "def create_slider(frame_nums):\n",
    "    \"\"\"Create a slider using actual frame numbers.\"\"\"\n",
    "    return [\n",
    "        {\n",
    "            \"active\": 0,\n",
    "            \"steps\": [\n",
    "                {\n",
    "                    \"args\": [[str(i)], {\"frame\": {\"duration\": 100, \"redraw\": True}, \"mode\": \"immediate\"}],\n",
    "                    \"label\": str(frame_num),\n",
    "                    \"method\": \"animate\",\n",
    "                }\n",
    "                for i, frame_num in enumerate(frame_nums)\n",
    "            ],\n",
    "        }\n",
    "    ]\n",
    "\n",
    "\n",
    "# === MAIN FUNCTION ===\n",
    "\n",
    "def create_3d_animation(frames_list, color_list,xyz_all_frames,size_list,name_list):\n",
    "    \"\"\"Build and show the 3D animation.\"\"\"\n",
    "    # frame_nums = [f.frame_num for f in frames_list[framestart - frame0:frame_end - frame0]]\n",
    "    frame_nums = [frame.frame_num for frame in frames_list if frame != 'Fail']\n",
    "    min_xyz, max_xyz = get_global_bounds(xyz_all_frames)\n",
    "\n",
    "    # Initial frame data\n",
    "    intial_parts = [frames_list[0].body,frames_list[0].right_wing,frames_list[0].right_wing_boundary_le,frames_list[0].right_wing_boundary_te,\n",
    "                    frames_list[0].left_wing,frames_list[0].left_wing_boundary_le,\n",
    "                    frames_list[0].left_wing_boundary_te,\n",
    "                      frames_list[0].left_wing_tagged_le, frames_list[0].left_wing_tagged_te,\n",
    "                      frames_list[0].right_wing_tagged_le, frames_list[0].right_wing_tagged_te,\n",
    "                    frames_list[0].bound_on_interest_rw_te, frames_list[0].bound_on_interest_rw_le,\n",
    "                    frames_list[0].interest_on_bound_rw_le, frames_list[0].interest_on_bound_rw_te]\n",
    "    # intial_parts = [frames_list[0].xyz_rotated,]\n",
    "    initial_data = [\n",
    "        create_scatter3d(part, color,name,size)\n",
    "        for  part,color,size,name in zip(intial_parts, color_list,size_list,name_list)\n",
    "    ]\n",
    "    bounding_box_trace = go.Scatter3d(\n",
    "\n",
    "    mode='markers',\n",
    "    marker=dict(size=0.1, color='rgba(0,0,0,0)'),\n",
    "    showlegend=False\n",
    "    )\n",
    "    initial_data.append(bounding_box_trace)\n",
    "    # Create frames for animation\n",
    "    frames_data = [\n",
    "        create_frame([xyz_frame.body,xyz_frame.right_wing,xyz_frame.right_wing_boundary_te,xyz_frame.right_wing_boundary_le,xyz_frame.left_wing,\n",
    "                      xyz_frame.left_wing_boundary_te,xyz_frame.left_wing_boundary_le,\n",
    "                        xyz_frame.left_wing_tagged_le, xyz_frame.left_wing_tagged_te,\n",
    "                        xyz_frame.right_wing_tagged_le, xyz_frame.right_wing_tagged_te,\n",
    "                        xyz_frame.bound_on_interest_rw_te, xyz_frame.bound_on_interest_rw_le,\n",
    "                        xyz_frame.interest_on_bound_rw_le, xyz_frame.interest_on_bound_rw_te], color_list,size_list, str(i),name_list)\n",
    "        for i, xyz_frame in enumerate(frames_list) if xyz_frame != 'Fail'\n",
    "    ]\n",
    "\n",
    "    # interest_on_bound_lw_te\n",
    "    # bound_on_interest_lw_le\n",
    "\n",
    "    # frames_data = [\n",
    "    #     create_frame([xyz_frame.xyz_rotated], color_list,size_list, str(i),name_list)\n",
    "    #     for i, xyz_frame in enumerate(frames_list)\n",
    "    # ]\n",
    "\n",
    "    # Build full figure\n",
    "    fig = go.Figure(\n",
    "        data=initial_data,\n",
    "        layout=go.Layout(\n",
    "            scene=dict(\n",
    "                xaxis_title=\"X\",\n",
    "                yaxis_title=\"Y\",\n",
    "                zaxis_title=\"Z\",\n",
    "            ),\n",
    "            updatemenus=create_play_pause_buttons(),\n",
    "            sliders=create_slider(frame_nums),\n",
    "        ),\n",
    "        frames=frames_data,\n",
    "    )\n",
    "\n",
    "\n",
    "    fig.update_layout(\n",
    "scene=dict(\n",
    "    xaxis=dict(\n",
    "        visible=False,\n",
    "        showgrid=False,\n",
    "        showticklabels=False,\n",
    "        showline=False,\n",
    "        zeroline=False\n",
    "    ),\n",
    "    yaxis=dict(\n",
    "        visible=False,\n",
    "        showgrid=False,\n",
    "        showticklabels=False,\n",
    "        showline=False,\n",
    "        zeroline=False\n",
    "    ),\n",
    "    zaxis=dict(\n",
    "        visible=False,\n",
    "        showgrid=False,\n",
    "        showticklabels=False,\n",
    "        showline=False,\n",
    "        zeroline=False\n",
    "    ),\n",
    "    bgcolor='white',\n",
    "    aspectmode='data',\n",
    ")\n",
    ")\n",
    "\n",
    "\n",
    "\n",
    "    fig.show()\n",
    "    fig.write_html(output_path)\n",
    "    print(f\"Saved animation to: {output_path}\")\n",
    "\n",
    "\n",
    "\n",
    "\n",
    "\n",
    "# path_hull = 'D:/Documents/gaussian_model_output/hull_evaluation'\n",
    "# angle_name = model.split('_')[1]\n",
    "# path_frame = f'D:/Documents/gaussian_model_output/{model}/{frame}/initial/'\n",
    "# input_dir = f'{path_output}/{model}'\n",
    "# sweep_eval = EvaluateAngleSweep(frames,nominal_initial_angles,input_dir, input_path_for_image,iterations,path_frame,angle_name,model,delta_angles=delta_angle)\n",
    "# sweep_path = f'{input_dir}/frames_{angle_name}_sweep_iteration_{iterations}.pkl'\n",
    "# file_path_save_hull = f'G:/My Drive/Research/gaussian_splatting/hull_body.pkl'\n",
    "# sweep_eval.load_sweep(sweep_path,file_path_save_hull,letedict)\n",
    "\n",
    "utput_path = f'{path_output}/{model}/animated_plot.html'\n",
    "\n",
    "frame_list = [sweep_eval.sweep[mov_name][idx_angle] for mov_name in sweep_eval.sweep.keys()]\n",
    "# frame_list = list(hull_to_compare.values())\n",
    "xyz_all_frames = np.vstack([frame.xyz_rotated for frame in frame_list if frame != 'Fail'])\n",
    "create_3d_animation(frame_list, color_list,xyz_all_frames,size_list,name_list)\n",
    "\n",
    "\n",
    "\n",
    "\n",
    "# point_3d_per_frame.append(np.vstack(points_3d))\n",
    "# gaussians_interest_points.append(gaussian_points)"
   ]
  },
  {
   "cell_type": "code",
   "execution_count": 13,
   "metadata": {},
   "outputs": [
    {
     "data": {
      "text/plain": [
       "148"
      ]
     },
     "execution_count": 13,
     "metadata": {},
     "output_type": "execute_result"
    }
   ],
   "source": [
    "len(sweep_eval.sweep)"
   ]
  },
  {
   "cell_type": "code",
   "execution_count": 8,
   "metadata": {},
   "outputs": [
    {
     "name": "stderr",
     "output_type": "stream",
     "text": [
      "100%|██████████| 151/151 [03:24<00:00,  1.36s/it]\n",
      "100%|██████████| 151/151 [00:02<00:00, 71.52it/s]\n",
      "100%|██████████| 151/151 [00:29<00:00,  5.10it/s]\n"
     ]
    },
    {
     "name": "stdout",
     "output_type": "stream",
     "text": [
      "frames saved: D:/Documents/gaussian_model_output//fly_combo_delta10_sweep/frames_combo_sweep_iteration_1.pkl\n"
     ]
    }
   ],
   "source": [
    "# open combo angles==================================================================================================\n",
    "import pickle\n",
    "from FlyOutput import FlyOutput\n",
    "import Plotters\n",
    "import plotly.graph_objects as go\n",
    "import numpy as np  \n",
    "import Utils\n",
    "import matplotlib.pyplot as plt\n",
    "import os\n",
    "from tqdm import tqdm\n",
    "from Evaluation import Evaluation\n",
    "import time\n",
    "import pandas as pd\n",
    "from EvaluateAngleSweep import EvaluateAngleSweep\n",
    "%matplotlib qt\n",
    "\n",
    "idx_iter = 0\n",
    "dict_path  = 'G:/My Drive/Research/gaussian_splatting/gaussian_splatting_input/evaluation/dict/frames_model_evaluation.pkl'\n",
    "input_dir_ini = 'G:/My Drive/Research/gaussian_splatting/gaussian_splatting_input/evaluation'\n",
    "input_path_for_image = 'G:/My Drive/Research/gaussian_splatting/gaussian_splatting_input/'\n",
    "path_output = 'D:/Documents/gaussian_model_output/'\n",
    "\n",
    "\n",
    "letedict = {'num_of_bins' : 20,'perc_wing_for_le' : 1, 'wing_length_snip':0.27}\n",
    "\n",
    "frame = 1031\n",
    "\n",
    "# models = ['fly_phi_delta10_sweep_m40_40_left']\n",
    "\n",
    "with open(f'{input_dir_ini}/nominal_initial_angles.pkl', 'rb') as handle:\n",
    "    nominal_initial_angles = pickle.load(handle)\n",
    "\n",
    "\n",
    "with open(dict_path,'rb') as f:\n",
    "    frames = pickle.load(f)\n",
    "iterations = 1\n",
    "\n",
    "chamfer = {'wing':None ,'body':None}\n",
    "\n",
    "\n",
    "models = [f'fly_combo_delta10_sweep']\n",
    "\n",
    "for model_name in models:\n",
    "    angle_name = model_name.split('_')[1]\n",
    "    path_frame = f'D:/Documents/gaussian_model_output/{model_name}/{frame}/initial/'\n",
    "    input_dir = f'{path_output}/{model_name}'\n",
    "    sweep_eval = EvaluateAngleSweep(frames,nominal_initial_angles,input_dir, input_path_for_image,iterations,path_frame,angle_name,model_name,delta_angles = np.array([  0,-10,  10.0]))\n",
    "    sweep_path = f'{input_dir}/frames_{angle_name}_sweep_iteration_{iterations}.pkl'\n",
    "    file_path_save_hull = f'G:/My Drive/Research/gaussian_splatting/hull_body.pkl'\n",
    "    sweep_eval.load_sweep(sweep_path,file_path_save_hull,letedict)\n",
    "    sweep_eval.delta_angles = np.array([0,-10, 10.0])\n",
    "\n",
    "\n",
    "\n",
    "chamfer_2d_wing,chamfer_3d_wing,chamfer_3d_body,chamfer_2d_body = [],[],[],[]\n",
    "for mov_name in list(sweep_eval.sweep.keys()):    \n",
    "    chamfer_2d_wing.append([frame.error_2d_chamfer_wing/2 if frame != 'Fail' else None for frame in sweep_eval.sweep[mov_name] ] )\n",
    "    chamfer_stats_2d_wing = Utils.get_chamfer_stats(sweep_eval.angle_name,sweep_eval.delta_angles,chamfer_2d_wing)\n",
    "\n",
    "    chamfer_3d_wing.append([frame.error_3d_chamfer_wing/2 if frame != 'Fail' else None for frame in sweep_eval.sweep[mov_name] ] )\n",
    "    chamfer_stats_3d_wing = Utils.get_chamfer_stats(sweep_eval.angle_name,sweep_eval.delta_angles,chamfer_2d_wing)\n",
    "\n",
    "    chamfer_3d_body.append([frame.error_3d_chamfer_body/2 if frame != 'Fail' else None for frame in sweep_eval.sweep[mov_name] ] )\n",
    "    chamfer_stats_3d_body = Utils.get_chamfer_stats(sweep_eval.angle_name,sweep_eval.delta_angles,chamfer_2d_wing)\n",
    "\n",
    "    chamfer_2d_body.append([frame.error_2d_chamfer_body/2 if frame != 'Fail' else None for frame in sweep_eval.sweep[mov_name] ] )\n",
    "    chamfer_stats_2d_body = Utils.get_chamfer_stats(sweep_eval.angle_name,sweep_eval.delta_angles,chamfer_2d_wing)\n",
    "\n",
    "chamfer['wing'] = [np.vstack(chamfer_3d_wing),np.vstack(chamfer_2d_wing),chamfer_stats_3d_wing,chamfer_stats_2d_wing]\n",
    "chamfer['body'] = [np.vstack(chamfer_3d_body),np.vstack(chamfer_2d_body),chamfer_stats_3d_body,chamfer_stats_2d_body]\n",
    "\n",
    "Utils.pickle_file(chamfer,f'{input_dir}/chamfer.pkl')    \n"
   ]
  },
  {
   "cell_type": "code",
   "execution_count": null,
   "metadata": {},
   "outputs": [
    {
     "data": {
      "text/plain": [
       "{'mov_36_frame_1031': [<Evaluation.Evaluation at 0x20be945de40>,\n",
       "  <Evaluation.Evaluation at 0x20bf1d12ef0>],\n",
       " 'mov_36_frame_352': [<Evaluation.Evaluation at 0x20bf1d125c0>,\n",
       "  <Evaluation.Evaluation at 0x20bf1d111e0>],\n",
       " 'mov_45_frame_443': [<Evaluation.Evaluation at 0x20bf1d117b0>,\n",
       "  <Evaluation.Evaluation at 0x20bf1d10700>],\n",
       " 'mov_36_frame_271': [<Evaluation.Evaluation at 0x20bf1e4d930>,\n",
       "  <Evaluation.Evaluation at 0x20bf1e4fe80>],\n",
       " 'mov_45_frame_492': [<Evaluation.Evaluation at 0x20bf1e4c2e0>,\n",
       "  <Evaluation.Evaluation at 0x20bf1e4d300>],\n",
       " 'mov_36_frame_865': [<Evaluation.Evaluation at 0x20bf1e4da50>,\n",
       "  <Evaluation.Evaluation at 0x20bf1e4e9b0>],\n",
       " 'mov_36_frame_223': [<Evaluation.Evaluation at 0x20bffe08b50>,\n",
       "  <Evaluation.Evaluation at 0x20bffe0b430>],\n",
       " 'mov_36_frame_261': [<Evaluation.Evaluation at 0x20b91d8e980>,\n",
       "  <Evaluation.Evaluation at 0x20b92ddf6d0>],\n",
       " 'mov_36_frame_1049': [<Evaluation.Evaluation at 0x20bf2e82770>,\n",
       "  <Evaluation.Evaluation at 0x20bf2eec070>],\n",
       " 'mov_36_frame_482': [<Evaluation.Evaluation at 0x20bf2eee290>,\n",
       "  <Evaluation.Evaluation at 0x20bf2f049d0>],\n",
       " 'mov_36_frame_1053': [<Evaluation.Evaluation at 0x20bf2f06bf0>,\n",
       "  <Evaluation.Evaluation at 0x20bf2f09330>],\n",
       " 'mov_36_frame_981': [<Evaluation.Evaluation at 0x20bf2f0b550>,\n",
       "  <Evaluation.Evaluation at 0x20bf2f219c0>],\n",
       " 'mov_45_frame_252': [<Evaluation.Evaluation at 0x20bf2f23be0>,\n",
       "  <Evaluation.Evaluation at 0x20bf2f32320>],\n",
       " 'mov_36_frame_238': [<Evaluation.Evaluation at 0x20bf4fd0580>,\n",
       "  <Evaluation.Evaluation at 0x20bf4fd2c80>],\n",
       " 'mov_128_frame_977': [<Evaluation.Evaluation at 0x20bf4fccee0>,\n",
       "  <Evaluation.Evaluation at 0x20bf4fcf5e0>],\n",
       " 'mov_128_frame_890': [<Evaluation.Evaluation at 0x20bf4f9d840>,\n",
       "  <Evaluation.Evaluation at 0x20bf4f9ff40>],\n",
       " 'mov_128_frame_983': [<Evaluation.Evaluation at 0x20bf4faa1a0>,\n",
       "  <Evaluation.Evaluation at 0x20bf4f805b0>],\n",
       " 'mov_36_frame_1166': [<Evaluation.Evaluation at 0x20bf4f82980>,\n",
       "  <Evaluation.Evaluation at 0x20bf4f75240>],\n",
       " 'mov_128_frame_960': [<Evaluation.Evaluation at 0x20bf4f77460>,\n",
       "  <Evaluation.Evaluation at 0x20bf4f6dba0>],\n",
       " 'mov_128_frame_834': [<Evaluation.Evaluation at 0x20bf4f6fdc0>,\n",
       "  <Evaluation.Evaluation at 0x20bf4f2e440>],\n",
       " 'mov_128_frame_757': [<Evaluation.Evaluation at 0x20bf4f34760>,\n",
       "  <Evaluation.Evaluation at 0x20bf4f36e60>],\n",
       " 'mov_128_frame_483': [<Evaluation.Evaluation at 0x20bf4f250c0>,\n",
       "  <Evaluation.Evaluation at 0x20bf4f277c0>],\n",
       " 'mov_128_frame_839': [<Evaluation.Evaluation at 0x20bf4efda20>,\n",
       "  <Evaluation.Evaluation at 0x20b91d4c160>],\n",
       " 'mov_128_frame_1104': [<Evaluation.Evaluation at 0x20b91d4e380>,\n",
       "  <Evaluation.Evaluation at 0x20b91d80ac0>],\n",
       " 'mov_128_frame_1692': [<Evaluation.Evaluation at 0x20b91d82ce0>,\n",
       "  <Evaluation.Evaluation at 0x20b91ce1420>],\n",
       " 'mov_128_frame_863': [<Evaluation.Evaluation at 0x20b91ce3640>,\n",
       "  <Evaluation.Evaluation at 0x20b91d15d80>],\n",
       " 'mov_128_frame_854': [<Evaluation.Evaluation at 0x20b91d17fa0>,\n",
       "  <Evaluation.Evaluation at 0x20b91d0a6e0>],\n",
       " 'mov_94_frame_1341': [<Evaluation.Evaluation at 0x20b91cd46d0>,\n",
       "  <Evaluation.Evaluation at 0x20b91cd6f80>],\n",
       " 'mov_134_frame_943': [<Evaluation.Evaluation at 0x20b91cc1030>,\n",
       "  <Evaluation.Evaluation at 0x20b91cc3910>],\n",
       " 'mov_134_frame_958': [<Evaluation.Evaluation at 0x20b91cadc00>,\n",
       "  <Evaluation.Evaluation at 0x20b91cb0340>],\n",
       " 'mov_132_frame_384': [<Evaluation.Evaluation at 0x20b91cb2560>,\n",
       "  <Evaluation.Evaluation at 0x20b91d0cca0>],\n",
       " 'mov_76_frame_2055': [<Evaluation.Evaluation at 0x20b91d0eec0>,\n",
       "  <Evaluation.Evaluation at 0x20b91d39600>],\n",
       " 'mov_134_frame_1250': [<Evaluation.Evaluation at 0x20b91d3b820>,\n",
       "  <Evaluation.Evaluation at 0x20b91d65f60>],\n",
       " 'mov_134_frame_1215': [<Evaluation.Evaluation at 0x20bf81341c0>,\n",
       "  <Evaluation.Evaluation at 0x20bf81368c0>],\n",
       " 'mov_134_frame_969': [<Evaluation.Evaluation at 0x20bf8138970>,\n",
       "  <Evaluation.Evaluation at 0x20bf813b220>],\n",
       " 'mov_132_frame_418': [<Evaluation.Evaluation at 0x20bf8109480>,\n",
       "  <Evaluation.Evaluation at 0x20bf810bb80>],\n",
       " 'mov_134_frame_1257': [<Evaluation.Evaluation at 0x20bf810dde0>,\n",
       "  <Evaluation.Evaluation at 0x20bf80f0520>],\n",
       " 'mov_134_frame_1060': [<Evaluation.Evaluation at 0x20bf80f2740>,\n",
       "  <Evaluation.Evaluation at 0x20bf80d4e80>],\n",
       " 'mov_132_frame_436': [<Evaluation.Evaluation at 0x20bf80d70a0>,\n",
       "  <Evaluation.Evaluation at 0x20bf80d97e0>],\n",
       " 'mov_76_frame_4272': [<Evaluation.Evaluation at 0x20bf80dba00>,\n",
       "  <Evaluation.Evaluation at 0x20bf80c6140>],\n",
       " 'mov_164_frame_2346': [<Evaluation.Evaluation at 0x20bf80943a0>,\n",
       "  <Evaluation.Evaluation at 0x20bf8096aa0>],\n",
       " 'mov_76_frame_3605': [<Evaluation.Evaluation at 0x20bf8070d00>,\n",
       "  <Evaluation.Evaluation at 0x20bf8073400>],\n",
       " 'mov_76_frame_4211': [<Evaluation.Evaluation at 0x20bf805d660>,\n",
       "  <Evaluation.Evaluation at 0x20bf805fd60>],\n",
       " 'mov_76_frame_2926': [<Evaluation.Evaluation at 0x20b92dd9fc0>,\n",
       "  <Evaluation.Evaluation at 0x20b92df4700>],\n",
       " 'mov_76_frame_2347': [<Evaluation.Evaluation at 0x20b92df6920>,\n",
       "  <Evaluation.Evaluation at 0x20b92d85060>],\n",
       " 'mov_164_frame_2366': [<Evaluation.Evaluation at 0x20b92d87280>,\n",
       "  <Evaluation.Evaluation at 0x20b92ded9c0>],\n",
       " 'mov_76_frame_2656': [<Evaluation.Evaluation at 0x20b92defbe0>,\n",
       "  <Evaluation.Evaluation at 0x20b92e0a320>],\n",
       " 'mov_132_frame_3190': [<Evaluation.Evaluation at 0x20b92e20580>,\n",
       "  <Evaluation.Evaluation at 0x20b92e22c80>],\n",
       " 'mov_76_frame_2618': [<Evaluation.Evaluation at 0x20b92e34ee0>,\n",
       "  <Evaluation.Evaluation at 0x20b92e375e0>],\n",
       " 'mov_76_frame_2984': [<Evaluation.Evaluation at 0x20b92e4d840>,\n",
       "  <Evaluation.Evaluation at 0x20b92e4ff40>],\n",
       " 'mov_132_frame_3186': [<Evaluation.Evaluation at 0x20b92e5e1a0>,\n",
       "  <Evaluation.Evaluation at 0x20bfc3888e0>],\n",
       " 'mov_76_frame_1012': [<Evaluation.Evaluation at 0x20bfc38ab00>,\n",
       "  <Evaluation.Evaluation at 0x20bfc371240>],\n",
       " 'mov_76_frame_2979': [<Evaluation.Evaluation at 0x20bfc373460>,\n",
       "  <Evaluation.Evaluation at 0x20bfc329ba0>],\n",
       " 'mov_132_frame_4213': [<Evaluation.Evaluation at 0x20bfc32bdc0>,\n",
       "  <Evaluation.Evaluation at 0x20bfc30a500>],\n",
       " 'mov_76_frame_4448': [<Evaluation.Evaluation at 0x20bfc2d8760>,\n",
       "  <Evaluation.Evaluation at 0x20bfc2dae60>],\n",
       " 'mov_164_frame_1499': [<Evaluation.Evaluation at 0x20bfc2b50c0>,\n",
       "  <Evaluation.Evaluation at 0x20bfc2b77c0>],\n",
       " 'mov_132_frame_4205': [<Evaluation.Evaluation at 0x20bfc34da20>,\n",
       "  <Evaluation.Evaluation at 0x20bfa1d4160>],\n",
       " 'mov_76_frame_4373': [<Evaluation.Evaluation at 0x20bfa1d6380>,\n",
       "  <Evaluation.Evaluation at 0x20bfa1a4850>],\n",
       " 'mov_132_frame_2532': [<Evaluation.Evaluation at 0x20bfa1a6c20>,\n",
       "  <Evaluation.Evaluation at 0x20bfa179420>],\n",
       " 'mov_164_frame_306': [<Evaluation.Evaluation at 0x20bfa17b640>,\n",
       "  <Evaluation.Evaluation at 0x20bfa159d80>],\n",
       " 'mov_164_frame_2088': [<Evaluation.Evaluation at 0x20bfa15bfa0>,\n",
       "  <Evaluation.Evaluation at 0x20bfa13e6e0>],\n",
       " 'mov_164_frame_318': [<Evaluation.Evaluation at 0x20bfa124940>,\n",
       "  <Evaluation.Evaluation at 0x20bfa127040>],\n",
       " 'mov_164_frame_505': [<Evaluation.Evaluation at 0x20bfa1852a0>,\n",
       "  <Evaluation.Evaluation at 0x20bfa1879a0>],\n",
       " 'mov_121_frame_2000': [<Evaluation.Evaluation at 0x20bf707dc00>,\n",
       "  <Evaluation.Evaluation at 0x20bf7060340>],\n",
       " 'mov_164_frame_296': [<Evaluation.Evaluation at 0x20bf7062560>,\n",
       "  <Evaluation.Evaluation at 0x20bf7034ca0>],\n",
       " 'mov_164_frame_2097': [<Evaluation.Evaluation at 0x20bf7036ec0>,\n",
       "  <Evaluation.Evaluation at 0x20bf700d360>],\n",
       " 'mov_164_frame_2774': [<Evaluation.Evaluation at 0x20bf700f700>,\n",
       "  <Evaluation.Evaluation at 0x20bf6fedf60>],\n",
       " 'mov_164_frame_292': [<Evaluation.Evaluation at 0x20bf6fa41c0>,\n",
       "  <Evaluation.Evaluation at 0x20bf6fa68c0>],\n",
       " 'mov_164_frame_1625': [<Evaluation.Evaluation at 0x20bf6f80b20>,\n",
       "  <Evaluation.Evaluation at 0x20bf6f83220>],\n",
       " 'mov_164_frame_2870': [<Evaluation.Evaluation at 0x20bffed1480>,\n",
       "  <Evaluation.Evaluation at 0x20bffed3b80>],\n",
       " 'mov_132_frame_1762': [<Evaluation.Evaluation at 0x20bffe89de0>,\n",
       "  <Evaluation.Evaluation at 0x20bffedc520>],\n",
       " 'mov_164_frame_334': [<Evaluation.Evaluation at 0x20bffede740>,\n",
       "  <Evaluation.Evaluation at 0x20bffeb8e80>],\n",
       " 'mov_132_frame_2553': [<Evaluation.Evaluation at 0x20bffebb0a0>,\n",
       "  <Evaluation.Evaluation at 0x20bffe8d7e0>],\n",
       " 'mov_132_frame_2565': [<Evaluation.Evaluation at 0x20bffe8fa00>,\n",
       "  <Evaluation.Evaluation at 0x20bffe52140>],\n",
       " 'mov_164_frame_344': [<Evaluation.Evaluation at 0x20bffe3c3a0>,\n",
       "  <Evaluation.Evaluation at 0x20bffe3eaa0>],\n",
       " 'mov_70_frame_3903': [<Evaluation.Evaluation at 0x20bffe30d00>,\n",
       "  <Evaluation.Evaluation at 0x20bffe33400>],\n",
       " 'mov_132_frame_2195': [<Evaluation.Evaluation at 0x20bffdc5660>,\n",
       "  <Evaluation.Evaluation at 0x20bffdc7d60>],\n",
       " 'mov_70_frame_2390': [<Evaluation.Evaluation at 0x20bffdf9fc0>,\n",
       "  <Evaluation.Evaluation at 0x20bffd58700>],\n",
       " 'mov_70_frame_2245': [<Evaluation.Evaluation at 0x20bffd5a920>,\n",
       "  <Evaluation.Evaluation at 0x20bffdbd060>],\n",
       " 'mov_121_frame_3075': [<Evaluation.Evaluation at 0x20bffdbf280>,\n",
       "  <Evaluation.Evaluation at 0x20bffda19c0>],\n",
       " 'mov_121_frame_2939': [<Evaluation.Evaluation at 0x20bffda3be0>,\n",
       "  <Evaluation.Evaluation at 0x20bffd42230>],\n",
       " 'mov_36_frame_1834': [<Evaluation.Evaluation at 0x20bffd38580>,\n",
       "  <Evaluation.Evaluation at 0x20bffd3ac80>],\n",
       " 'mov_140_frame_3163': [<Evaluation.Evaluation at 0x20bffdc0ee0>,\n",
       "  <Evaluation.Evaluation at 0x20bffdc35e0>],\n",
       " 'mov_36_frame_2237': [<Evaluation.Evaluation at 0x20bff60d840>,\n",
       "  <Evaluation.Evaluation at 0x20bff60ff40>],\n",
       " 'mov_140_frame_4255': [<Evaluation.Evaluation at 0x20bff5e21a0>,\n",
       "  <Evaluation.Evaluation at 0x20bff5b88e0>],\n",
       " 'mov_121_frame_2961': [<Evaluation.Evaluation at 0x20bff5bab00>,\n",
       "  <Evaluation.Evaluation at 0x20bff5b1240>],\n",
       " 'mov_92_frame_920': [<Evaluation.Evaluation at 0x20bff5b3460>,\n",
       "  <Evaluation.Evaluation at 0x20bff581ba0>],\n",
       " 'mov_140_frame_2935': [<Evaluation.Evaluation at 0x20bff583dc0>,\n",
       "  <Evaluation.Evaluation at 0x20bff56e500>],\n",
       " 'mov_36_frame_2129': [<Evaluation.Evaluation at 0x20bff520760>,\n",
       "  <Evaluation.Evaluation at 0x20bff522e60>],\n",
       " 'mov_91_frame_493': [<Evaluation.Evaluation at 0x20bff5110c0>,\n",
       "  <Evaluation.Evaluation at 0x20bff5137c0>],\n",
       " 'mov_91_frame_488': [<Evaluation.Evaluation at 0x20bfe435a20>,\n",
       "  <Evaluation.Evaluation at 0x20bfe408160>],\n",
       " 'mov_132_frame_2216': [<Evaluation.Evaluation at 0x20bfe40a380>,\n",
       "  <Evaluation.Evaluation at 0x20bfe3ccac0>],\n",
       " 'mov_121_frame_3115': [<Evaluation.Evaluation at 0x20bfe3cece0>,\n",
       "  <Evaluation.Evaluation at 0x20bfe3ed420>],\n",
       " 'mov_91_frame_480': [<Evaluation.Evaluation at 0x20bfe3ef640>,\n",
       "  <Evaluation.Evaluation at 0x20bfe389bd0>],\n",
       " 'mov_70_frame_1085': [<Evaluation.Evaluation at 0x20bfe38bfa0>,\n",
       "  <Evaluation.Evaluation at 0x20bfe36a5f0>],\n",
       " 'mov_40_frame_2011': [<Evaluation.Evaluation at 0x20bfe384940>,\n",
       "  <Evaluation.Evaluation at 0x20bfe387040>],\n",
       " 'mov_92_frame_4950': [<Evaluation.Evaluation at 0x20bff5092a0>,\n",
       "  <Evaluation.Evaluation at 0x20bff50b9a0>],\n",
       " 'mov_78_frame_3771': [<Evaluation.Evaluation at 0x20bff4edc00>,\n",
       "  <Evaluation.Evaluation at 0x20bff460340>],\n",
       " 'mov_61_frame_405': [<Evaluation.Evaluation at 0x20bff462560>,\n",
       "  <Evaluation.Evaluation at 0x20bff4d4ca0>],\n",
       " 'mov_92_frame_5817': [<Evaluation.Evaluation at 0x20bff4d6ec0>,\n",
       "  <Evaluation.Evaluation at 0x20bff499600>],\n",
       " 'mov_78_frame_3698': [<Evaluation.Evaluation at 0x20bff49b820>,\n",
       "  <Evaluation.Evaluation at 0x20bff45df60>],\n",
       " 'mov_40_frame_3099': [<Evaluation.Evaluation at 0x20bff43bc70>,\n",
       "  <Evaluation.Evaluation at 0x20bff43a710>],\n",
       " 'mov_70_frame_4696': [<Evaluation.Evaluation at 0x20bff430b20>,\n",
       "  <Evaluation.Evaluation at 0x20bff433220>],\n",
       " 'mov_140_frame_1695': [<Evaluation.Evaluation at 0x20bffb49480>,\n",
       "  <Evaluation.Evaluation at 0x20bffb4bb80>],\n",
       " 'mov_61_frame_413': [<Evaluation.Evaluation at 0x20bffbe9c60>,\n",
       "  <Evaluation.Evaluation at 0x20bffbc0520>],\n",
       " 'mov_40_frame_1003': [<Evaluation.Evaluation at 0x20bffbc2740>,\n",
       "  <Evaluation.Evaluation at 0x20bffbc4e80>],\n",
       " 'mov_40_frame_3159': [<Evaluation.Evaluation at 0x20bffbc70a0>,\n",
       "  <Evaluation.Evaluation at 0x20bffb897e0>],\n",
       " 'mov_36_frame_3090': [<Evaluation.Evaluation at 0x20bffb8ba00>,\n",
       "  <Evaluation.Evaluation at 0x20bffb3df90>],\n",
       " 'mov_78_frame_3893': [<Evaluation.Evaluation at 0x20bffb20130>,\n",
       "  <Evaluation.Evaluation at 0x20bffb22a70>],\n",
       " 'mov_92_frame_5869': [<Evaluation.Evaluation at 0x20bffc04d00>,\n",
       "  <Evaluation.Evaluation at 0x20bffc07400>],\n",
       " 'mov_61_frame_489': [<Evaluation.Evaluation at 0x20bffb09390>,\n",
       "  <Evaluation.Evaluation at 0x20bffb0bd00>],\n",
       " 'mov_40_frame_2033': [<Evaluation.Evaluation at 0x20bffaf5fc0>,\n",
       "  <Evaluation.Evaluation at 0x20bffad8700>],\n",
       " 'mov_92_frame_5715': [<Evaluation.Evaluation at 0x20bffada920>,\n",
       "  <Evaluation.Evaluation at 0x20bffab5060>],\n",
       " 'mov_40_frame_5656': [<Evaluation.Evaluation at 0x20bffab7280>,\n",
       "  <Evaluation.Evaluation at 0x20bffa959c0>],\n",
       " 'mov_40_frame_5865': [<Evaluation.Evaluation at 0x20bffa97be0>,\n",
       "  <Evaluation.Evaluation at 0x20bffa3e230>],\n",
       " 'mov_40_frame_4601': [<Evaluation.Evaluation at 0x20bffa44580>,\n",
       "  <Evaluation.Evaluation at 0x20bffa46c80>],\n",
       " 'mov_36_frame_2672': [<Evaluation.Evaluation at 0x20bffac8ee0>,\n",
       "  <Evaluation.Evaluation at 0x20bffacb5e0>],\n",
       " 'mov_78_frame_2156': [<Evaluation.Evaluation at 0x20bff9ad840>,\n",
       "  <Evaluation.Evaluation at 0x20bff9aff40>],\n",
       " 'mov_75_frame_4954': [<Evaluation.Evaluation at 0x20bffa0e1a0>,\n",
       "  <Evaluation.Evaluation at 0x20bff9d88e0>],\n",
       " 'mov_75_frame_2036': [<Evaluation.Evaluation at 0x20bff9dab00>,\n",
       "  <Evaluation.Evaluation at 0x20bff9bd240>],\n",
       " 'mov_78_frame_1165': [<Evaluation.Evaluation at 0x20bff9bf460>,\n",
       "  <Evaluation.Evaluation at 0x20bff995ba0>],\n",
       " 'mov_40_frame_4538': [<Evaluation.Evaluation at 0x20bff997dc0>,\n",
       "  <Evaluation.Evaluation at 0x20bff95a470>],\n",
       " 'mov_75_frame_3578': [<Evaluation.Evaluation at 0x20bff934760>,\n",
       "  <Evaluation.Evaluation at 0x20bff936e60>],\n",
       " 'mov_78_frame_2872': [<Evaluation.Evaluation at 0x20bff96d0c0>,\n",
       "  <Evaluation.Evaluation at 0x20bff96f7c0>],\n",
       " 'mov_91_frame_1248': [<Evaluation.Evaluation at 0x20bff9f9a20>,\n",
       "  <Evaluation.Evaluation at 0x20bffcf4160>],\n",
       " 'mov_36_frame_2657': [<Evaluation.Evaluation at 0x20bffcf6380>,\n",
       "  <Evaluation.Evaluation at 0x20bffcdcac0>],\n",
       " 'mov_78_frame_1157': [<Evaluation.Evaluation at 0x20bffcdece0>,\n",
       "  <Evaluation.Evaluation at 0x20bffcb1420>],\n",
       " 'mov_36_frame_2708': [<Evaluation.Evaluation at 0x20bffcb3640>,\n",
       "  <Evaluation.Evaluation at 0x20bffc7dd80>],\n",
       " 'mov_40_frame_4690': [<Evaluation.Evaluation at 0x20bffc7ffa0>,\n",
       "  <Evaluation.Evaluation at 0x20bffc966e0>],\n",
       " 'mov_78_frame_2783': [<Evaluation.Evaluation at 0x20bffc2c940>,\n",
       "  <Evaluation.Evaluation at 0x20bffc2f040>],\n",
       " 'mov_27_frame_681': [<Evaluation.Evaluation at 0x20bffc652a0>,\n",
       "  <Evaluation.Evaluation at 0x20bffc679a0>],\n",
       " 'mov_59_frame_2016': [<Evaluation.Evaluation at 0x20bfb225c00>,\n",
       "  <Evaluation.Evaluation at 0x20bfb2bc340>],\n",
       " 'mov_59_frame_2027': [<Evaluation.Evaluation at 0x20bfb2be560>,\n",
       "  <Evaluation.Evaluation at 0x20bfb294ca0>],\n",
       " 'mov_59_frame_1950': [<Evaluation.Evaluation at 0x20bfb296ec0>,\n",
       "  <Evaluation.Evaluation at 0x20bfb26d600>],\n",
       " 'mov_27_frame_691': [<Evaluation.Evaluation at 0x20bfb26f820>,\n",
       "  <Evaluation.Evaluation at 0x20bfb249f60>],\n",
       " 'mov_59_frame_3096': [<Evaluation.Evaluation at 0x20bfb2081c0>,\n",
       "  <Evaluation.Evaluation at 0x20bfb20a8c0>],\n",
       " 'mov_59_frame_1975': [<Evaluation.Evaluation at 0x20bfb200b20>,\n",
       "  <Evaluation.Evaluation at 0x20bfb203220>],\n",
       " 'mov_59_frame_3068': [<Evaluation.Evaluation at 0x20bfb1d5480>,\n",
       "  <Evaluation.Evaluation at 0x20bfb1d7b80>],\n",
       " 'mov_59_frame_1923': [<Evaluation.Evaluation at 0x20bfb289de0>,\n",
       "  <Evaluation.Evaluation at 0x20bff6c8520>],\n",
       " 'mov_56_frame_5369': [<Evaluation.Evaluation at 0x20bff6ca740>,\n",
       "  <Evaluation.Evaluation at 0x20bff6f8e80>],\n",
       " 'mov_56_frame_5818': [<Evaluation.Evaluation at 0x20bff6fb0a0>,\n",
       "  <Evaluation.Evaluation at 0x20bff6d17e0>],\n",
       " 'mov_59_frame_1266': [<Evaluation.Evaluation at 0x20bff6d3a00>,\n",
       "  <Evaluation.Evaluation at 0x20bff686020>],\n",
       " 'mov_56_frame_3702': [<Evaluation.Evaluation at 0x20bff6783a0>,\n",
       "  <Evaluation.Evaluation at 0x20bff67aaa0>],\n",
       " 'mov_59_frame_1194': [<Evaluation.Evaluation at 0x20bff654a60>,\n",
       "  <Evaluation.Evaluation at 0x20bff6573d0>],\n",
       " 'mov_56_frame_3706': [<Evaluation.Evaluation at 0x20bff625660>,\n",
       "  <Evaluation.Evaluation at 0x20bff627d60>],\n",
       " 'mov_56_frame_5290': [<Evaluation.Evaluation at 0x20bff619fc0>,\n",
       "  <Evaluation.Evaluation at 0x20bff6bc700>],\n",
       " 'mov_59_frame_1568': [<Evaluation.Evaluation at 0x20bff6be920>,\n",
       "  <Evaluation.Evaluation at 0x20b96b85060>],\n",
       " 'mov_91_frame_1485': [<Evaluation.Evaluation at 0x20b96b87280>,\n",
       "  <Evaluation.Evaluation at 0x20b96ba19c0>]}"
      ]
     },
     "execution_count": 4,
     "metadata": {},
     "output_type": "execute_result"
    }
   ],
   "source": [
    "sweep_eval.sweep['mov_121_frame_2000']"
   ]
  },
  {
   "cell_type": "code",
   "execution_count": 5,
   "metadata": {},
   "outputs": [
    {
     "data": {
      "text/plain": [
       "['mov_36_frame_1031',\n",
       " 'mov_36_frame_352',\n",
       " 'mov_45_frame_443',\n",
       " 'mov_36_frame_271',\n",
       " 'mov_45_frame_492',\n",
       " 'mov_36_frame_865',\n",
       " 'mov_36_frame_223',\n",
       " 'mov_36_frame_261',\n",
       " 'mov_36_frame_1049',\n",
       " 'mov_36_frame_482',\n",
       " 'mov_36_frame_1053',\n",
       " 'mov_36_frame_981',\n",
       " 'mov_45_frame_252',\n",
       " 'mov_36_frame_238',\n",
       " 'mov_128_frame_977',\n",
       " 'mov_128_frame_890',\n",
       " 'mov_128_frame_983',\n",
       " 'mov_36_frame_1166',\n",
       " 'mov_128_frame_960',\n",
       " 'mov_128_frame_834',\n",
       " 'mov_128_frame_757',\n",
       " 'mov_128_frame_483',\n",
       " 'mov_128_frame_839',\n",
       " 'mov_128_frame_1104',\n",
       " 'mov_128_frame_1692',\n",
       " 'mov_128_frame_863',\n",
       " 'mov_128_frame_854',\n",
       " 'mov_94_frame_1341',\n",
       " 'mov_134_frame_943',\n",
       " 'mov_134_frame_958',\n",
       " 'mov_132_frame_384',\n",
       " 'mov_76_frame_2055',\n",
       " 'mov_134_frame_1250',\n",
       " 'mov_134_frame_1215',\n",
       " 'mov_134_frame_969',\n",
       " 'mov_132_frame_418',\n",
       " 'mov_134_frame_1257',\n",
       " 'mov_134_frame_1060',\n",
       " 'mov_132_frame_436',\n",
       " 'mov_76_frame_4272',\n",
       " 'mov_164_frame_2346',\n",
       " 'mov_76_frame_3605',\n",
       " 'mov_76_frame_4211',\n",
       " 'mov_76_frame_2926',\n",
       " 'mov_76_frame_2347',\n",
       " 'mov_164_frame_2366',\n",
       " 'mov_76_frame_2656',\n",
       " 'mov_132_frame_3190',\n",
       " 'mov_76_frame_2618',\n",
       " 'mov_76_frame_2984',\n",
       " 'mov_132_frame_3186',\n",
       " 'mov_76_frame_1012',\n",
       " 'mov_76_frame_2979',\n",
       " 'mov_132_frame_4213',\n",
       " 'mov_76_frame_4448',\n",
       " 'mov_164_frame_1499',\n",
       " 'mov_132_frame_4205',\n",
       " 'mov_76_frame_4373',\n",
       " 'mov_132_frame_2532',\n",
       " 'mov_164_frame_306',\n",
       " 'mov_164_frame_2088',\n",
       " 'mov_164_frame_318',\n",
       " 'mov_164_frame_505',\n",
       " 'mov_121_frame_2000',\n",
       " 'mov_164_frame_296',\n",
       " 'mov_164_frame_2097',\n",
       " 'mov_164_frame_2774',\n",
       " 'mov_164_frame_292',\n",
       " 'mov_164_frame_1625',\n",
       " 'mov_164_frame_2870',\n",
       " 'mov_132_frame_1762',\n",
       " 'mov_164_frame_334',\n",
       " 'mov_132_frame_2553',\n",
       " 'mov_132_frame_2565',\n",
       " 'mov_164_frame_344',\n",
       " 'mov_70_frame_3903',\n",
       " 'mov_132_frame_2195',\n",
       " 'mov_70_frame_2390',\n",
       " 'mov_70_frame_2245',\n",
       " 'mov_121_frame_3075',\n",
       " 'mov_121_frame_2939',\n",
       " 'mov_36_frame_1834',\n",
       " 'mov_140_frame_3163',\n",
       " 'mov_36_frame_2237',\n",
       " 'mov_140_frame_4255',\n",
       " 'mov_121_frame_2961',\n",
       " 'mov_92_frame_920',\n",
       " 'mov_140_frame_2935',\n",
       " 'mov_36_frame_2129',\n",
       " 'mov_91_frame_493',\n",
       " 'mov_91_frame_488',\n",
       " 'mov_132_frame_2216',\n",
       " 'mov_121_frame_3115',\n",
       " 'mov_91_frame_480',\n",
       " 'mov_70_frame_1085',\n",
       " 'mov_40_frame_2011',\n",
       " 'mov_92_frame_4950',\n",
       " 'mov_78_frame_3771',\n",
       " 'mov_61_frame_405',\n",
       " 'mov_92_frame_5817',\n",
       " 'mov_78_frame_3698',\n",
       " 'mov_40_frame_3099',\n",
       " 'mov_70_frame_4696',\n",
       " 'mov_140_frame_1695',\n",
       " 'mov_61_frame_413',\n",
       " 'mov_70_frame_4617',\n",
       " 'mov_40_frame_1003',\n",
       " 'mov_40_frame_3159',\n",
       " 'mov_36_frame_3090',\n",
       " 'mov_78_frame_3893',\n",
       " 'mov_92_frame_5869',\n",
       " 'mov_61_frame_489',\n",
       " 'mov_40_frame_2033',\n",
       " 'mov_92_frame_5715',\n",
       " 'mov_40_frame_5656',\n",
       " 'mov_40_frame_5865',\n",
       " 'mov_40_frame_4601',\n",
       " 'mov_36_frame_2672',\n",
       " 'mov_78_frame_2156',\n",
       " 'mov_75_frame_4954',\n",
       " 'mov_75_frame_2036',\n",
       " 'mov_78_frame_1165',\n",
       " 'mov_40_frame_4538',\n",
       " 'mov_75_frame_3578',\n",
       " 'mov_78_frame_2872',\n",
       " 'mov_91_frame_1248',\n",
       " 'mov_36_frame_2657',\n",
       " 'mov_78_frame_1157',\n",
       " 'mov_36_frame_2708',\n",
       " 'mov_40_frame_4690',\n",
       " 'mov_78_frame_2783',\n",
       " 'mov_27_frame_681',\n",
       " 'mov_59_frame_2016',\n",
       " 'mov_59_frame_2027',\n",
       " 'mov_59_frame_1950',\n",
       " 'mov_27_frame_691',\n",
       " 'mov_59_frame_3096',\n",
       " 'mov_59_frame_1975',\n",
       " 'mov_59_frame_3068',\n",
       " 'mov_59_frame_1923',\n",
       " 'mov_56_frame_5369',\n",
       " 'mov_56_frame_5818',\n",
       " 'mov_59_frame_1266',\n",
       " 'mov_56_frame_3702',\n",
       " 'mov_59_frame_1194',\n",
       " 'mov_56_frame_3706',\n",
       " 'mov_56_frame_5290',\n",
       " 'mov_59_frame_1568',\n",
       " 'mov_91_frame_1485',\n",
       " 'mov_56_frame_3741',\n",
       " 'mov_59_frame_1246']"
      ]
     },
     "execution_count": 5,
     "metadata": {},
     "output_type": "execute_result"
    }
   ],
   "source": [
    "list(nominal_initial_angles.keys())"
   ]
  },
  {
   "cell_type": "code",
   "execution_count": 31,
   "metadata": {},
   "outputs": [
    {
     "data": {
      "text/plain": [
       "16524"
      ]
     },
     "execution_count": 31,
     "metadata": {},
     "output_type": "execute_result"
    }
   ],
   "source": [
    "import itertools\n",
    "\n",
    "\n",
    "\n",
    "yaw_grid = np.hstack((np.arange(-180.0,0,7),np.arange(10.0,180,7)))\n",
    "roll_grid = np.hstack((np.arange(-20.0,0,10),np.arange(10.0,20,10)))\n",
    "\n",
    "pitch_grid =np.hstack((np.arange(-60.0,0,15),np.arange(15.0,30,15)))\n",
    "\n",
    "\n",
    "phi_grid = np.hstack((np.arange(-90.0,0,10),np.arange(0.0,90,10)))\n",
    "theta_grid = np.hstack((np.arange(-30.0,0,15),np.arange(0.0,45,15)))\n",
    "psi_grid = np.hstack((np.arange(-170.0,10,10)))\n",
    "roll_yaw = list(itertools.product(yaw_grid,phi_grid,psi_grid))\n",
    "\n",
    "len(roll_yaw)\n",
    "\n"
   ]
  },
  {
   "cell_type": "code",
   "execution_count": 2,
   "metadata": {},
   "outputs": [],
   "source": [
    "import pickle\n",
    "from FlyOutput import FlyOutput\n",
    "import Plotters\n",
    "import plotly.graph_objects as go\n",
    "import numpy as np  \n",
    "import Utils\n",
    "import matplotlib.pyplot as plt\n",
    "import os\n",
    "from tqdm import tqdm\n",
    "from Evaluation import Evaluation\n",
    "import time\n",
    "import pandas as pd\n",
    "from EvaluateAngleSweep import EvaluateAngleSweep\n",
    "import matplotlib.cm as cm\n",
    "\n",
    "%matplotlib qt\n",
    "\n",
    "idx_iter = 0\n",
    "dict_path  = 'G:/My Drive/Research/gaussian_splatting/gaussian_splatting_input/evaluation/dict/frames_model_evaluation.pkl'\n",
    "input_dir_ini = 'G:/My Drive/Research/gaussian_splatting/gaussian_splatting_input/evaluation'\n",
    "input_path_for_image = 'G:/My Drive/Research/gaussian_splatting/gaussian_splatting_input/'\n",
    "path_output = 'D:/Documents/gaussian_model_output/'\n",
    "\n",
    "\n",
    "model_names_left_wing = ['fly_phi_delta10_sweep_m40_40_left','fly_theta_delta10_sweep_m40_40_left','fly_psi_delta10_sweep_m40_40_left']\n",
    "model_names_right_wing = ['fly_phi_delta10_sweep_m40_40','fly_psi_delta10_sweep_m40_40']\n",
    "model_names_body = ['fly_yaw_delta10_sweep_m40_40','fly_pitch_delta10_sweep_m40_40','fly_roll_delta10_sweep_m40_40']\n",
    "\n",
    "models = model_names_left_wing + model_names_right_wing + model_names_body\n",
    "\n",
    "\n",
    "# models = ['fly_yaw_right_delta10_sweep_m40_40']\n",
    "\n",
    "# model_name = 'fly_theta_delta10_sweep_m40_40'\n",
    "\n",
    "\n",
    "angle_name = ['phi','theta','psi','phi','psi','yaw','pitch']\n",
    "letedict = {'num_of_bins' : 20,'perc_wing_for_le' : 1, 'wing_length_snip':0.27}\n",
    "\n",
    "frame = 1031\n",
    "\n",
    "# models = ['fly_phi_delta10_sweep_m40_40_left']\n",
    "\n",
    "with open(f'{input_dir_ini}/nominal_initial_angles.pkl', 'rb') as handle:\n",
    "    nominal_initial_angles = pickle.load(handle)\n",
    "\n",
    "\n",
    "with open(dict_path,'rb') as f:\n",
    "    frames = pickle.load(f)\n",
    "iterations = 1000\n",
    "\n",
    "chamfer = {'wing':None ,'body':None}\n",
    "\n",
    "\n",
    "\n",
    "angle_name = ['yaw','pitch','roll','phi_right','theta_right','psi_right','phi_left','theta_left','psi_left'] # phi_left  yaw pitch roll \n",
    "# angle_name = ['yaw'] # phi_left  yaw pitch roll \n",
    "\n",
    "model_name = [f'fly_{angle}_delta10_sweep_m40_40_try' for angle in angle_name]\n",
    "model_name += ['fly_combo_delta10_sweep','fly_mesh_evaluation_elipse_bod_elipse_wing','fly_mesh_evaluation_elipse_bod_rec_wing','fly_right_wing_combo_delta10_5_sweep']\n",
    "delta_angles = [np.array([  0., -30., -20., -10.,  10.,  20.,  30.])]*len(angle_name) + [np.array([  0., -10.,  10.])] + [np.array([  0.])] + [np.array([  0.])] + [np.array([  1., 2.,  3.,4,5,6,7])]\n",
    "iterations_list = [iterations]*len(angle_name) + [iterations] + [1500] + [1500] + [1000]\n",
    "\n"
   ]
  },
  {
   "cell_type": "code",
   "execution_count": 44,
   "metadata": {},
   "outputs": [
    {
     "data": {
      "text/plain": [
       "1246"
      ]
     },
     "execution_count": 44,
     "metadata": {},
     "output_type": "execute_result"
    }
   ],
   "source": [
    "frame"
   ]
  },
  {
   "cell_type": "code",
   "execution_count": null,
   "metadata": {},
   "outputs": [],
   "source": [
    "# angle initilization\n",
    "\n",
    "import pickle\n",
    "import numpy as np\n",
    "# model = model_name[0]\n",
    "model = 'initilize_with_loss_phi_psi_specific_frame'\n",
    "path_output = 'D:/Documents/gaussian_model_output/'\n",
    "min_vals_op, min_val_nominal,frame_num = [],[],[]\n",
    "\n",
    "for mov_name in list(nominal_initial_angles.keys()):\n",
    "    try:\n",
    "        angle_name = model.split('_')[1]\n",
    "        frame = int(mov_name.split('_')[3]) \n",
    "        path_ini = f'D:/Documents/gaussian_model_output/{model}/{frame}/initial/'\n",
    "        input_dir = f'{path_output}/{model}'\n",
    "\n",
    "        psnr = []\n",
    "        wing_op_r,wing_op_l,body_op = [],[],[]\n",
    "        wing_ini_r,wing_ini_l,body_ini = [],[],[]\n",
    "        wing_ini = []\n",
    "        for idx_iter in range(1,16524,1):\n",
    "            try:\n",
    "                file_name = f'fly_model_scale_iter{idx_iter}'\n",
    "                \n",
    "                with open(f'{input_dir}/results/{frame}/{file_name}_results.pkl', 'rb') as handle:\n",
    "                    output_angles_weights = pickle.load(handle)\n",
    "\n",
    "                with open(f'{path_ini}/initial_angles_{idx_iter}', 'rb') as handle:\n",
    "                    ini_angle = pickle.load(handle)\n",
    "\n",
    "                psnr.append(output_angles_weights['params']['loss']['l1'])\n",
    "                wing_op_r.append(output_angles_weights['angles']['right_wing_angles'][0])\n",
    "                wing_op_l.append(output_angles_weights['angles']['left_wing_angles'][0])\n",
    "                body_op.append(output_angles_weights['angles']['body_angles'][0])\n",
    "\n",
    "                wing_ini_r.append(ini_angle['right_wing_angles'])\n",
    "                wing_ini_l.append(ini_angle['left_wing_angles'])\n",
    "                body_ini.append(ini_angle['body_angles'])\n",
    "            except:\n",
    "                continue\n",
    "\n",
    "        body_wings_op = {'body':np.vstack(body_op),'right_wing':np.vstack(wing_op_r),'left_wing':np.vstack(wing_op_l)}\n",
    "        body_wings_in = {'body':np.vstack(body_ini),'right_wing':np.vstack(wing_ini_r),'left_wing':np.vstack(wing_ini_l)}\n",
    "\n",
    "        wings_op = np.hstack([body_op,wing_op_r,wing_op_l])\n",
    "\n",
    "        min_idx = np.argmin(psnr)\n",
    "        min_vals = np.hstack([body_wings_op['body'][min_idx],body_wings_op['right_wing'][min_idx],body_wings_op['left_wing'][min_idx]])\n",
    "        nominal = np.hstack([nominal_initial_angles[mov_name]['body_angles'],nominal_initial_angles[mov_name]['right_wing_angles'],nominal_initial_angles[mov_name]['left_wing_angles']])\n",
    "\n",
    "        min_vals_op.append(min_vals)\n",
    "        min_val_nominal.append(nominal)\n",
    "        frame_num.append(frame)\n",
    "    except:\n",
    "            continue\n",
    "\n",
    "\n",
    "\n",
    "angles_op = np.hstack((np.vstack(min_vals_op),np.vstack(frame_num)))\n",
    "with open(f'{input_dir}/angles_op_from_loss_psi_theta.pkl', 'wb') as handle:\n",
    "    pickle.dump(angles_op, handle, protocol=pickle.HIGHEST_PROTOCOL)\n",
    "\n",
    "with open(f'{input_dir}/min_vals_op.pkl', 'wb') as handle:\n",
    "    pickle.dump(min_vals_op, handle, protocol=pickle.HIGHEST_PROTOCOL)\n",
    "\n",
    "with open(f'{input_dir}/min_val_nominal.pkl', 'wb') as handle:\n",
    "    pickle.dump(min_val_nominal, handle, protocol=pickle.HIGHEST_PROTOCOL)\n",
    "\n",
    "    # wing_op.append(output_angles_weights['angles']['body_angles'][0][2])\n",
    "    # wing_ini.append(ini_angle['body_angles'][2])"
   ]
  },
  {
   "cell_type": "code",
   "execution_count": 36,
   "metadata": {},
   "outputs": [
    {
     "data": {
      "text/plain": [
       "array([[ 8.21958389e+01, -2.80888424e+01, -3.72840548e+00,\n",
       "        -6.77149963e+01, -1.16559471e+02, -9.13843727e+00,\n",
       "         7.38901901e+01, -1.06138680e+02,  1.86178360e+01,\n",
       "         4.69000000e+03]])"
      ]
     },
     "execution_count": 36,
     "metadata": {},
     "output_type": "execute_result"
    }
   ],
   "source": [
    "angles_op"
   ]
  },
  {
   "cell_type": "code",
   "execution_count": 55,
   "metadata": {},
   "outputs": [],
   "source": [
    "\n",
    "\n",
    "angles_op = np.hstack((np.vstack(min_vals_op),np.vstack(frame_num)))\n",
    "with open(f'{input_dir}/angles_op_from_loss.pkl', 'wb') as handle:\n",
    "    pickle.dump(angles_op, handle, protocol=pickle.HIGHEST_PROTOCOL)"
   ]
  },
  {
   "cell_type": "code",
   "execution_count": 6,
   "metadata": {},
   "outputs": [],
   "source": [
    "import pickle\n",
    "import numpy as np\n",
    "\n",
    "\n",
    "mov_name = list(nominal_initial_angles.keys())[0]\n",
    "\n",
    "model = 'initilize_with_loss_phi_psi_v3'\n",
    "path_output = 'D:/Documents/gaussian_model_output/'\n",
    "min_vals_op, min_val_nominal,frame_num = [],[],[]\n",
    "\n",
    "\n",
    "angle_name = model.split('_')[1]\n",
    "frame = int(mov_name.split('_')[3]) \n",
    "path_ini = f'D:/Documents/gaussian_model_output/{model}/{frame}/initial/'\n",
    "input_dir = f'{path_output}/{model}'\n",
    "\n",
    "\n",
    "\n",
    "with open(f'{input_dir}/angles_op_from_loss_psi_theta.pkl', 'rb') as handle:\n",
    "    angles_op = pickle.load(handle)\n"
   ]
  },
  {
   "cell_type": "code",
   "execution_count": 48,
   "metadata": {},
   "outputs": [
    {
     "name": "stdout",
     "output_type": "stream",
     "text": [
      "[0.0, 100.0, 100.0, 0.0, 0.0, 50.0, 0.0, 0.0, 50.0]\n",
      "[0.0]\n",
      "[50.0]\n"
     ]
    }
   ],
   "source": [
    "\n",
    "idx_angle = 8\n",
    "delta_ang = 20\n",
    "np.abs(np.vstack(min_val_nominal)[:,idx_angle] - ((np.vstack(min_vals_op)[:,idx_angle])))<delta_ang\n",
    "\n",
    "\n",
    "print([sum(np.abs(np.vstack(min_val_nominal)[:,idx] - ((np.vstack(min_vals_op)[:,idx])))<delta_ang)*100/len(min_val_nominal) for idx in range(9)])\n",
    "print([sum(np.abs(np.vstack(min_val_nominal)[:,idx] - ((np.vstack(min_vals_op)[:,idx])))<10)*100/len(min_val_nominal) for idx in [0]])\n",
    "print([sum(np.abs(np.vstack(min_val_nominal)[:,idx] - ((np.vstack(min_vals_op)[:,idx])+360))<20)*100/len(min_val_nominal) for idx in [7]])"
   ]
  },
  {
   "cell_type": "code",
   "execution_count": 38,
   "metadata": {},
   "outputs": [
    {
     "name": "stdout",
     "output_type": "stream",
     "text": [
      "[0.0, 100.0, 100.0, 0.0, 0.0, 0.0, 0.0, 0.0, 0.0]\n",
      "[0.0]\n",
      "[0.0]\n"
     ]
    }
   ],
   "source": [
    "\n",
    "idx_angle = 8\n",
    "delta_ang = 20\n",
    "np.abs(np.vstack(min_val_nominal)[:,idx_angle] - ((np.vstack(min_vals_op)[:,idx_angle])))<delta_ang\n",
    "\n",
    "\n",
    "print([sum(np.abs(np.vstack(min_val_nominal)[:,idx] - ((np.vstack(min_vals_op)[:,idx])))<delta_ang)*100/len(min_val_nominal) for idx in range(9)])\n",
    "print([sum(np.abs(np.vstack(min_val_nominal)[:,idx] - ((np.vstack(min_vals_op)[:,idx])))<10)*100/len(min_val_nominal) for idx in [0]])\n",
    "print([sum(np.abs(np.vstack(min_val_nominal)[:,idx] - ((np.vstack(min_vals_op)[:,idx])+360))<20)*100/len(min_val_nominal) for idx in [7]])"
   ]
  },
  {
   "cell_type": "code",
   "execution_count": 40,
   "metadata": {},
   "outputs": [
    {
     "name": "stdout",
     "output_type": "stream",
     "text": [
      "[0.0, 100.0, 100.0, 0.0, 0.0, 0.0, 0.0, 0.0, 0.0]\n",
      "[0.0]\n",
      "[0.0]\n"
     ]
    }
   ],
   "source": [
    "\n",
    "idx_angle = 8\n",
    "delta_ang = 20\n",
    "np.abs(np.vstack(min_val_nominal)[:,idx_angle] - ((np.vstack(min_vals_op)[:,idx_angle])))<delta_ang\n",
    "\n",
    "\n",
    "print([sum(np.abs(np.vstack(min_val_nominal)[:,idx] - ((np.vstack(min_vals_op)[:,idx])))<delta_ang)*100/len(min_val_nominal) for idx in range(9)])\n",
    "print([sum(np.abs(np.vstack(min_val_nominal)[:,idx] - ((np.vstack(min_vals_op)[:,idx])))<10)*100/len(min_val_nominal) for idx in [0]])\n",
    "print([sum(np.abs(np.vstack(min_val_nominal)[:,idx] - ((np.vstack(min_vals_op)[:,idx])+360))<20)*100/len(min_val_nominal) for idx in [7]])"
   ]
  },
  {
   "cell_type": "code",
   "execution_count": 45,
   "metadata": {},
   "outputs": [
    {
     "data": {
      "text/plain": [
       "[array([-110.333275  ,  -33.29051   ,   -3.055983  ,   80.734406  ,\n",
       "         -70.36778   ,   -0.20247625,  -82.32384   ,  -73.160324  ,\n",
       "           1.5603822 ], dtype=float32)]"
      ]
     },
     "execution_count": 45,
     "metadata": {},
     "output_type": "execute_result"
    }
   ],
   "source": [
    "min_vals_op"
   ]
  },
  {
   "cell_type": "code",
   "execution_count": 46,
   "metadata": {},
   "outputs": [
    {
     "data": {
      "text/plain": [
       "[array([  87.        ,  -47.        ,  -12.        ,  -76.        ,\n",
       "        -133.50462341,  -21.        ,   76.        ,  249.54103088,\n",
       "          26.        ])]"
      ]
     },
     "execution_count": 46,
     "metadata": {},
     "output_type": "execute_result"
    }
   ],
   "source": [
    "min_val_nominal"
   ]
  },
  {
   "cell_type": "code",
   "execution_count": 85,
   "metadata": {},
   "outputs": [
    {
     "data": {
      "text/plain": [
       "array([263.25618982, 321.18405533, 193.52769868, 335.9149437 ,\n",
       "       338.74535942, 342.65769863, 217.29507637, 343.60266113,\n",
       "       211.71072388, 330.81196213, 217.90307713, 225.98061371,\n",
       "       221.63999081, 269.04302526, 249.14156938, 318.64723206,\n",
       "       196.96489894, 332.42022514, 332.15143394, 216.00998592,\n",
       "       225.41766167, 333.3707943 , 224.83144855, 322.93009758,\n",
       "       228.12985671, 331.20770359, 285.33971643, 272.92993164,\n",
       "       330.28152752, 203.2483387 , 340.52342033, 326.29013443,\n",
       "       206.93292618, 329.27444458, 222.51177406, 215.37085152,\n",
       "       212.35535336, 326.3079145 , 333.63219023, 282.13438416,\n",
       "       303.52841222, 238.79419899, 204.65781975, 338.47341537,\n",
       "       198.07899952, 196.31748199, 347.48154068, 329.61619854,\n",
       "       225.36956215, 337.61136627, 328.26345634, 222.30491924,\n",
       "       321.50694036, 328.27528286, 331.30615711, 230.93951035,\n",
       "       319.49023473, 281.36242437, 220.36324883, 307.65374088,\n",
       "       210.12404156, 210.41204834, 336.27964592, 330.53864193,\n",
       "       339.38995075, 205.11297512, 218.15277004, 330.4869833 ,\n",
       "       227.27985764, 320.32008266, 324.85789394, 239.77831769,\n",
       "       212.55140877, 326.19405949, 273.88054562, 260.66838837,\n",
       "       209.38803625, 200.9715457 , 204.7876718 , 332.04003334,\n",
       "       338.20208359, 349.04672135, 339.95195389, 331.93015194,\n",
       "       341.32810211, 239.34381604, 336.53666878, 235.05641413,\n",
       "       214.86182117, 333.37438679, 328.75013065, 231.21809006,\n",
       "       325.01030064, 306.10754561, 250.73685932, 211.43719292,\n",
       "       306.96964264, 320.29478359, 217.58644295, 326.80948257,\n",
       "       332.02318954, 315.15296745, 332.28938293, 319.8226614 ,\n",
       "       234.23077869, 326.21368217, 326.80205345, 331.3077507 ,\n",
       "       327.51614857, 344.05266094, 211.76740265, 244.50910497,\n",
       "       270.22361374, 267.5108223 , 304.25752449, 190.92004299,\n",
       "       326.59035015, 190.08713865, 221.62698579, 294.24958992,\n",
       "       327.80743027, 243.42933798, 340.62427711, 321.4438343 ,\n",
       "       324.91435528, 337.1864109 , 329.63167858, 240.081563  ,\n",
       "       252.71353531, 244.6900692 , 214.6382103 , 315.07024193,\n",
       "       213.38888359, 321.59363842, 219.07646585, 335.68117809,\n",
       "       207.3194418 , 211.7917881 , 207.14190865, 283.45239276,\n",
       "       315.90578556, 252.59128809, 199.25999784, 324.36399269,\n",
       "       202.92095375, 342.32163715, 328.98121834, 323.99731064,\n",
       "       335.09409904, 332.36651421])"
      ]
     },
     "execution_count": 85,
     "metadata": {},
     "output_type": "execute_result"
    }
   ],
   "source": [
    "np.abs(np.vstack(min_vals_op) - np.vstack(min_val_nominal))[:,7]"
   ]
  },
  {
   "cell_type": "code",
   "execution_count": null,
   "metadata": {},
   "outputs": [
    {
     "ename": "NameError",
     "evalue": "name '_name' is not defined",
     "output_type": "error",
     "traceback": [
      "\u001b[1;31m---------------------------------------------------------------------------\u001b[0m",
      "\u001b[1;31mNameError\u001b[0m                                 Traceback (most recent call last)",
      "Cell \u001b[1;32mIn[2], line 64\u001b[0m\n\u001b[0;32m     61\u001b[0m delta_angles \u001b[38;5;241m=\u001b[39m [np\u001b[38;5;241m.\u001b[39marray([  \u001b[38;5;241m0.\u001b[39m, \u001b[38;5;241m-\u001b[39m\u001b[38;5;241m30.\u001b[39m, \u001b[38;5;241m-\u001b[39m\u001b[38;5;241m20.\u001b[39m, \u001b[38;5;241m-\u001b[39m\u001b[38;5;241m10.\u001b[39m,  \u001b[38;5;241m10.\u001b[39m,  \u001b[38;5;241m20.\u001b[39m,  \u001b[38;5;241m30.\u001b[39m])]\u001b[38;5;241m*\u001b[39m\u001b[38;5;28mlen\u001b[39m(angle_name) \u001b[38;5;241m+\u001b[39m [np\u001b[38;5;241m.\u001b[39marray([  \u001b[38;5;241m0.\u001b[39m, \u001b[38;5;241m-\u001b[39m\u001b[38;5;241m10.\u001b[39m,  \u001b[38;5;241m10.\u001b[39m])] \u001b[38;5;241m+\u001b[39m [np\u001b[38;5;241m.\u001b[39marray([  \u001b[38;5;241m0.\u001b[39m])] \u001b[38;5;241m+\u001b[39m [np\u001b[38;5;241m.\u001b[39marray([  \u001b[38;5;241m0.\u001b[39m])] \u001b[38;5;241m+\u001b[39m [np\u001b[38;5;241m.\u001b[39marray([  \u001b[38;5;241m1.\u001b[39m, \u001b[38;5;241m2.\u001b[39m,  \u001b[38;5;241m3.\u001b[39m,\u001b[38;5;241m4\u001b[39m,\u001b[38;5;241m5\u001b[39m,\u001b[38;5;241m6\u001b[39m,\u001b[38;5;241m7\u001b[39m])]\n\u001b[0;32m     62\u001b[0m iterations_list \u001b[38;5;241m=\u001b[39m [iterations]\u001b[38;5;241m*\u001b[39m\u001b[38;5;28mlen\u001b[39m(angle_name) \u001b[38;5;241m+\u001b[39m [iterations] \u001b[38;5;241m+\u001b[39m [\u001b[38;5;241m1500\u001b[39m] \u001b[38;5;241m+\u001b[39m [\u001b[38;5;241m1500\u001b[39m] \u001b[38;5;241m+\u001b[39m [\u001b[38;5;241m1000\u001b[39m]\n\u001b[1;32m---> 64\u001b[0m \u001b[43m_name\u001b[49m\n",
      "\u001b[1;31mNameError\u001b[0m: name '_name' is not defined"
     ]
    }
   ],
   "source": []
  },
  {
   "cell_type": "code",
   "execution_count": 3,
   "metadata": {},
   "outputs": [],
   "source": [
    "# angle initilization\n",
    "\n",
    "import pickle\n",
    "import numpy as np\n",
    "# model = model_name[0]\n",
    "\n",
    "\n",
    "mov_name = list(nominal_initial_angles.keys())[8]\n",
    "model = 'initilize_with_loss_phi_psi_v3'\n",
    "path_output = 'D:/Documents/gaussian_model_output/'\n",
    "min_vals_op, min_val_nominal,frame_num = [],[],[]\n",
    "\n",
    "angle_name = model.split('_')[1]\n",
    "frame = int(mov_name.split('_')[3]) \n",
    "path_ini = f'D:/Documents/gaussian_model_output/{model}/{frame}/initial/'\n",
    "input_dir = f'{path_output}/{model}'\n",
    "\n",
    "psnr = []\n",
    "wing_op_r,wing_op_l,body_op = [],[],[]\n",
    "wing_ini_r,wing_ini_l,body_ini = [],[],[]\n",
    "wing_ini = []\n",
    "for idx_iter in range(1,324,1):\n",
    "    file_name = f'fly_model_scale_iter{idx_iter}'\n",
    "    \n",
    "    with open(f'{input_dir}/results/{frame}/{file_name}_results.pkl', 'rb') as handle:\n",
    "        output_angles_weights = pickle.load(handle)\n",
    "\n",
    "    with open(f'{path_ini}/initial_angles_{idx_iter}', 'rb') as handle:\n",
    "        ini_angle = pickle.load(handle)\n",
    "\n",
    "    psnr.append(output_angles_weights['params']['loss']['l1'])\n",
    "    wing_op_r.append(output_angles_weights['angles']['right_wing_angles'][0])\n",
    "    wing_op_l.append(output_angles_weights['angles']['left_wing_angles'][0])\n",
    "    body_op.append(output_angles_weights['angles']['body_angles'][0])\n",
    "\n",
    "    wing_ini_r.append(ini_angle['right_wing_angles'])\n",
    "    wing_ini_l.append(ini_angle['left_wing_angles'])\n",
    "    body_ini.append(ini_angle['body_angles'])\n",
    "    nominal = [nominal_initial_angles[mov_name]['body_angles'],nominal_initial_angles[mov_name]['right_wing_angles'],nominal_initial_angles[mov_name]['left_wing_angles']]\n",
    "\n",
    "\n"
   ]
  },
  {
   "cell_type": "code",
   "execution_count": 39,
   "metadata": {},
   "outputs": [
    {
     "data": {
      "text/plain": [
       "array([ -41.054157 , -125.93975  ,   -3.9178622], dtype=float32)"
      ]
     },
     "execution_count": 39,
     "metadata": {},
     "output_type": "execute_result"
    }
   ],
   "source": [
    "\n",
    "idx_angl = 1\n",
    "body_op1= np.vstack(wing_op_r)\n",
    "\n",
    "min_psnr = np.argmin(psnr)\n",
    "\n",
    "\n",
    "plt.figure()\n",
    "sc = plt.scatter(body_op1[:,idx_angl], psnr, c=psnr, cmap='viridis', marker='*')\n",
    "plt.plot(nominal[1][idx_angl],0.02,'r*')\n",
    "plt.plot(body_op1[min_psnr,idx_angl], psnr[min_psnr],'b*')\n",
    "\n",
    "plt.xlabel('angle after 100 iterations')\n",
    "plt.ylabel('loss')\n",
    "np.argmin(psnr)\n",
    "\n",
    "body_op1[min_psnr,:]"
   ]
  },
  {
   "cell_type": "code",
   "execution_count": 40,
   "metadata": {},
   "outputs": [
    {
     "data": {
      "text/plain": [
       "array([  38.698616 , -128.70021  ,   -1.6203119], dtype=float32)"
      ]
     },
     "execution_count": 40,
     "metadata": {},
     "output_type": "execute_result"
    }
   ],
   "source": [
    "\n",
    "idx_angl = 1\n",
    "body_op1= np.vstack(wing_op_l)\n",
    "\n",
    "min_psnr = np.argmin(psnr)\n",
    "\n",
    "\n",
    "plt.figure()\n",
    "sc = plt.scatter(body_op1[:,idx_angl], psnr, c=psnr, cmap='viridis', marker='*')\n",
    "plt.plot(nominal[2][idx_angl]-360,0.02,'r*')\n",
    "plt.plot(body_op1[min_psnr,idx_angl], psnr[min_psnr],'b*')\n",
    "\n",
    "plt.xlabel('angle after 100 iterations')\n",
    "plt.ylabel('loss')\n",
    "np.argmin(psnr)\n",
    "\n",
    "body_op1[min_psnr,:]"
   ]
  },
  {
   "cell_type": "code",
   "execution_count": 152,
   "metadata": {},
   "outputs": [
    {
     "data": {
      "text/plain": [
       "-104"
      ]
     },
     "execution_count": 152,
     "metadata": {},
     "output_type": "execute_result"
    }
   ],
   "source": [
    "256-360"
   ]
  },
  {
   "cell_type": "code",
   "execution_count": 187,
   "metadata": {},
   "outputs": [
    {
     "data": {
      "text/plain": [
       "array([ 14.425166, -38.141003,  -0.99725 ], dtype=float32)"
      ]
     },
     "execution_count": 187,
     "metadata": {},
     "output_type": "execute_result"
    }
   ],
   "source": [
    "plot_str = 'body'\n",
    "\n",
    "idx_angl = 2\n",
    "body_op1= np.vstack(body_op)\n",
    "\n",
    "min_psnr = np.argmin(psnr)\n",
    "\n",
    "\n",
    "plt.figure()\n",
    "sc = plt.scatter(body_op1[:,idx_angl], psnr, c=psnr, cmap='viridis', marker='*')\n",
    "plt.plot(nominal[0][idx_angl],0.02,'r*')\n",
    "plt.plot(body_op1[min_psnr,idx_angl], psnr[min_psnr],'b*')\n",
    "\n",
    "plt.xlabel('angle after 100 iterations')\n",
    "plt.ylabel('loss')\n",
    "np.argmin(psnr)\n",
    "\n",
    "body_op1[min_psnr,:]"
   ]
  },
  {
   "cell_type": "code",
   "execution_count": 59,
   "metadata": {},
   "outputs": [
    {
     "data": {
      "text/plain": [
       "Text(0, 0.5, 'angle after 100 iterations')"
      ]
     },
     "execution_count": 59,
     "metadata": {},
     "output_type": "execute_result"
    }
   ],
   "source": [
    "wing_op_plt = np.vstack(wing_op)\n",
    "wing_ini_plt = np.vstack(wing_ini)\n",
    "plt.figure()\n",
    "sc = plt.scatter(wing_ini_plt[:,0], wing_op_plt[:,0], c=psnr, cmap='viridis', marker='*')\n",
    "plt.plot(wing_op[0],wing_op[0],'r*')\n",
    "plt.xlabel('initial angle')\n",
    "plt.ylabel('angle after 100 iterations')"
   ]
  },
  {
   "cell_type": "code",
   "execution_count": null,
   "metadata": {},
   "outputs": [
    {
     "data": {
      "text/plain": [
       "[<matplotlib.lines.Line2D at 0x1c27f6fc2e0>]"
      ]
     },
     "execution_count": 3,
     "metadata": {},
     "output_type": "execute_result"
    }
   ],
   "source": [
    "plt.plot(wing_op,psnr,'*')\n"
   ]
  },
  {
   "cell_type": "code",
   "execution_count": 89,
   "metadata": {},
   "outputs": [
    {
     "data": {
      "text/plain": [
       "[<matplotlib.lines.Line2D at 0x1d4954d59f0>]"
      ]
     },
     "execution_count": 89,
     "metadata": {},
     "output_type": "execute_result"
    }
   ],
   "source": [
    "plt.plot(psnr,'*')"
   ]
  },
  {
   "cell_type": "code",
   "execution_count": 81,
   "metadata": {},
   "outputs": [
    {
     "data": {
      "text/plain": [
       "12144"
      ]
     },
     "execution_count": 81,
     "metadata": {},
     "output_type": "execute_result"
    }
   ],
   "source": [
    "import itertools\n",
    "yaw_grid = np.hstack((np.arange(-180.0,0,15),np.arange(15.0,180,15)))\n",
    "roll_grid = np.hstack((np.arange(-20.0,0,10),np.arange(10.0,20,10)))\n",
    "roll_grid = np.array(0.0)\n",
    "\n",
    "pitch_grid =np.hstack((np.arange(-60.0,0,15),np.arange(15.0,30,15)))\n",
    "pitch_grid = np.array(-45.0)\n",
    "\n",
    "phi_grid = np.hstack((np.arange(-90.0,0,15),np.arange(15.0,90,15)))\n",
    "theta_grid = np.hstack((np.arange(-30.0,0,15),np.arange(0.0,15,15)))\n",
    "psi_grid = np.hstack((np.arange(-170.0,-10,10)))\n",
    "all_com = list(itertools.product(yaw_grid,phi_grid,theta_grid,psi_grid))\n",
    "len(all_com)"
   ]
  },
  {
   "cell_type": "code",
   "execution_count": 83,
   "metadata": {},
   "outputs": [
    {
     "data": {
      "text/plain": [
       "(array([ 2.,  4., 18., 44., 35., 22., 15.,  8.,  1.,  2.]),\n",
       " array([-24. , -18.4, -12.8,  -7.2,  -1.6,   4. ,   9.6,  15.2,  20.8,\n",
       "         26.4,  32. ]),\n",
       " <BarContainer object of 10 artists>)"
      ]
     },
     "execution_count": 83,
     "metadata": {},
     "output_type": "execute_result"
    }
   ],
   "source": [
    "ang1 = [nominal_initial_angles[idx]['body_angles'][1] for idx in nominal_initial_angles.keys()]\n",
    "ang2 = [nominal_initial_angles[idx]['body_angles'][2] for idx in nominal_initial_angles.keys()]\n",
    "\n",
    "plt.hist(ang2)"
   ]
  },
  {
   "cell_type": "code",
   "execution_count": null,
   "metadata": {},
   "outputs": [],
   "source": [
    "\n",
    "yaw_grid = np.hstack((np.arange(-180.0,0,15),np.arange(15.0,180,15)))\n",
    "roll_grid = np.hstack((np.arange(-20.0,0,10),np.arange(5.0,20,10)))\n",
    "pitch_grid = np.hstack((np.arange(-30.0,0,15),np.arange(5.0,60,15)))\n",
    "\n",
    "\n",
    "pitch_grid = np.hstack((np.arange(-20.0,0,5),np.arange(5.0,30,5)))\n",
    "\n",
    "\n",
    "pitch_grid = np.hstack((np.arange(-30.0,0,10),np.arange(10.0,50,10)))\n",
    "yaw_grid = np.hstack(np.arange(5.0,15,5))\n",
    "roll_grid = np.hstack(np.arange(5.0,15,5))\n",
    "pitch_grid = np.hstack(np.arange(5.0,15,5))\n",
    "\n",
    "roll_yaw = list(itertools.product(yaw_grid,pitch_grid,roll_grid))[1:-1]\n",
    "roll_yaw.append((0.0,0.0,0.0))\n",
    "    # roll_yaw = pitch_grid\n"
   ]
  },
  {
   "cell_type": "code",
   "execution_count": 28,
   "metadata": {},
   "outputs": [
    {
     "data": {
      "text/plain": [
       "[<matplotlib.lines.Line2D at 0x1d48f09a740>]"
      ]
     },
     "execution_count": 28,
     "metadata": {},
     "output_type": "execute_result"
    }
   ],
   "source": [
    "angles = np.array([-30,-20,-10,0,10,20,30])\n",
    "\n",
    "plt.plot(angles,np.vstack(psnr), )"
   ]
  },
  {
   "cell_type": "code",
   "execution_count": null,
   "metadata": {},
   "outputs": [],
   "source": [
    "# open mesh sweep==================================================================================================\n",
    "import pickle\n",
    "from FlyOutput import FlyOutput\n",
    "import Plotters\n",
    "import plotly.graph_objects as go\n",
    "import numpy as np  \n",
    "import Utils\n",
    "import matplotlib.pyplot as plt\n",
    "import os\n",
    "from tqdm import tqdm\n",
    "from Evaluation import Evaluation\n",
    "import time\n",
    "import pandas as pd\n",
    "from EvaluateAngleSweep import EvaluateAngleSweep\n",
    "%matplotlib qt\n",
    "\n",
    "idx_iter = 0\n",
    "dict_path  = 'G:/My Drive/Research/gaussian_splatting/gaussian_splatting_input/evaluation/dict/frames_model_evaluation.pkl'\n",
    "input_dir_ini = 'G:/My Drive/Research/gaussian_splatting/gaussian_splatting_input/evaluation'\n",
    "input_path_for_image = 'G:/My Drive/Research/gaussian_splatting/gaussian_splatting_input/'\n",
    "path_output = 'D:/Documents/gaussian_model_output/'\n",
    "\n",
    "\n",
    "\n",
    "\n",
    "angle_name = ['phi','theta','psi','phi','psi','yaw','pitch']\n",
    "letedict = {'num_of_bins' : 20,'perc_wing_for_le' : 1, 'wing_length_snip':0.27}\n",
    "\n",
    "\n",
    "\n",
    "with open(f'{input_dir_ini}/nominal_initial_angles.pkl', 'rb') as handle:\n",
    "    nominal_initial_angles = pickle.load(handle)\n",
    "\n",
    "frame = 1031\n",
    "with open(dict_path,'rb') as f:\n",
    "    frames = pickle.load(f)\n",
    "iterations = 1200\n",
    "\n",
    "chamfer = {'wing':None ,'body':None}\n",
    "\n",
    "\n",
    "models = [f'fly_mesh_evaluation_elipse_bod_elipse_wing']\n",
    "\n",
    "for model_name in models:\n",
    "    angle_name = model_name.split('_')[1]\n",
    "    path_frame = f'D:/Documents/gaussian_model_output/{model_name}/{frame}/initial/'\n",
    "    input_dir = f'{path_output}/{model_name}'\n",
    "    sweep_eval = EvaluateAngleSweep(frames,nominal_initial_angles,input_dir, input_path_for_image,iterations,path_frame,angle_name,model_name,delta_angles = np.array([  0]))\n",
    "    sweep_path = f'{input_dir}/frames_{angle_name}_sweep_iteration_{iterations}.pkl'\n",
    "    file_path_save_hull = f'G:/My Drive/Research/gaussian_splatting/hull_body.pkl'\n",
    "    sweep_eval.load_sweep(sweep_path,file_path_save_hull,letedict)\n",
    "    sweep_eval.delta_angles = np.array([0])\n",
    "\n",
    "\n",
    "\n",
    "chamfer_2d_wing,chamfer_3d_wing,chamfer_3d_body,chamfer_2d_body = [],[],[],[]\n",
    "for mov_name in list(sweep_eval.sweep.keys()):    \n",
    "    chamfer_2d_wing.append([frame.error_2d_chamfer_wing/2 if frame != 'Fail' else None for frame in sweep_eval.sweep[mov_name] ] )\n",
    "    chamfer_stats_2d_wing = Utils.get_chamfer_stats(sweep_eval.angle_name,sweep_eval.delta_angles,chamfer_2d_wing)\n",
    "\n",
    "    chamfer_3d_wing.append([frame.error_3d_chamfer_wing/2 if frame != 'Fail' else None for frame in sweep_eval.sweep[mov_name] ] )\n",
    "    chamfer_stats_3d_wing = Utils.get_chamfer_stats(sweep_eval.angle_name,sweep_eval.delta_angles,chamfer_2d_wing)\n",
    "\n",
    "    chamfer_3d_body.append([frame.error_3d_chamfer_body/2 if frame != 'Fail' else None for frame in sweep_eval.sweep[mov_name] ] )\n",
    "    chamfer_stats_3d_body = Utils.get_chamfer_stats(sweep_eval.angle_name,sweep_eval.delta_angles,chamfer_2d_wing)\n",
    "\n",
    "    chamfer_2d_body.append([frame.error_2d_chamfer_body/2 if frame != 'Fail' else None for frame in sweep_eval.sweep[mov_name] ] )\n",
    "    chamfer_stats_2d_body = Utils.get_chamfer_stats(sweep_eval.angle_name,sweep_eval.delta_angles,chamfer_2d_wing)\n",
    "\n",
    "chamfer['wing'] = [np.vstack(chamfer_3d_wing),np.vstack(chamfer_2d_wing),chamfer_stats_3d_wing,chamfer_stats_2d_wing]\n",
    "chamfer['body'] = [np.vstack(chamfer_3d_body),np.vstack(chamfer_2d_body),chamfer_stats_3d_body,chamfer_stats_2d_body]\n",
    "\n",
    "Utils.pickle_file(chamfer,f'{input_dir}/chamfer.pkl')    \n"
   ]
  },
  {
   "cell_type": "code",
   "execution_count": null,
   "metadata": {},
   "outputs": [],
   "source": [
    "fig,ax = plt.subplots(1,1)\n",
    "plot_body_wing = 'wing'\n",
    "models = ['fly_yaw_delta10_sweep_m40_40_try','fly_mesh_evaluation_elipse_bod_elipse_wing']\n",
    "xname = ['nominal','ellipse mesh']\n",
    "chamfer_df = []\n",
    "\n",
    "chamfer_df = pd.concat([sweep_eval.load_1d_chamfer_to_df(name,model) for model,name in zip(models,xname)], axis=0)\n",
    "Plotters.boxplot_v2(chamfer_df, xname, 'xtick', ax, showfliers=False,cmap_name = 'viridis')"
   ]
  },
  {
   "cell_type": "code",
   "execution_count": 172,
   "metadata": {},
   "outputs": [],
   "source": [
    "fig,ax = plt.subplots(1,2)\n",
    "idx = 0\n",
    "file_save_name = f'chamfer_3d_combination_yaw_roll_10_pitch_m10_10.svg'\n",
    "chamfer_df = pd.DataFrame(chamfer['wing'][0])\n",
    "Plotters.boxplot2(sweep_eval.delta_angles.astype(np.int16)[0],chamfer_df.fillna(np.nan).to_numpy()[:,0:],angle_name,ax[0],showfliers = False)\n",
    "Plotters.boxplot2(sweep_eval.delta_angles.astype(np.int16)[0],pd.DataFrame(chamfer['body'][0]).fillna(np.nan).to_numpy()[:,0],angle_name,ax[1],showfliers = False)\n",
    "ax[0].set_xlabel('$\\delta_{pitch}$')\n",
    "ax[0].set_ylabel('CD [µm]')\n",
    "ax[0].set_title('wing CD')\n",
    "\n",
    "ax[1].set_xlabel('$\\delta_{pitch}$')\n",
    "ax[1].set_ylabel('')\n",
    "ax[1].set_title('body CD')\n",
    "\n",
    "fig.suptitle('$\\delta_{yaw}=\\delta_{roll} = 10 ^\\circ$')\n",
    "plt.tight_layout()\n",
    "\n",
    "fig.savefig(f'{path_figures}file_save_name', transparent=True, dpi=300, format='svg', bbox_inches='tight')\n"
   ]
  },
  {
   "cell_type": "code",
   "execution_count": 32,
   "metadata": {},
   "outputs": [
    {
     "data": {
      "text/plain": [
       "['mov_134_frame_1650']"
      ]
     },
     "execution_count": 32,
     "metadata": {},
     "output_type": "execute_result"
    }
   ],
   "source": [
    "frame_list = [mov_name for mov_name in sweep_eval.sweep.keys() if sweep_eval.sweep[mov_name][0] == 'Fail']\n",
    "frame_list"
   ]
  },
  {
   "cell_type": "code",
   "execution_count": 38,
   "metadata": {},
   "outputs": [
    {
     "data": {
      "text/plain": [
       "['1650']"
      ]
     },
     "execution_count": 38,
     "metadata": {},
     "output_type": "execute_result"
    }
   ],
   "source": [
    "[mov_name.split('_')[3]  for mov_name in list(nominal_initial_angles.keys()) if mov_name.split('_')[3] == '1650']"
   ]
  },
  {
   "cell_type": "code",
   "execution_count": 40,
   "metadata": {},
   "outputs": [
    {
     "data": {
      "text/plain": [
       "array([-40., -30., -20., -10.,  10.,  20.,  30.,  40.,  50.])"
      ]
     },
     "execution_count": 40,
     "metadata": {},
     "output_type": "execute_result"
    }
   ],
   "source": [
    "pitch_grid = np.hstack((np.arange(-40.0,0,10),np.arange(10.0,60,10)))\n",
    "pitch_grid"
   ]
  },
  {
   "cell_type": "code",
   "execution_count": 5,
   "metadata": {},
   "outputs": [],
   "source": [
    "import pickle\n",
    "import numpy as np\n",
    "input_dir_ini = 'G:/My Drive/Research/gaussian_splatting/gaussian_splatting_input/evaluation'\n",
    "\n",
    "with open(f'{input_dir_ini}/nominal_initial_angles.pkl', 'rb') as handle:\n",
    "    nominal_initial_angles = pickle.load(handle)\n",
    "\n",
    "\n",
    "body_ang = np.vstack([nominal_initial_angles['body_angles'] for nominal_initial_angles in nominal_initial_angles.values()])\n",
    "lw_ang = np.vstack([nominal_initial_angles['left_wing_angles'] for nominal_initial_angles in nominal_initial_angles.values()])\n",
    "rw_ang = np.vstack([nominal_initial_angles['right_wing_angles'] for nominal_initial_angles in nominal_initial_angles.values()])"
   ]
  },
  {
   "cell_type": "code",
   "execution_count": 1,
   "metadata": {},
   "outputs": [
    {
     "ename": "NameError",
     "evalue": "name 'input_dir' is not defined",
     "output_type": "error",
     "traceback": [
      "\u001b[1;31m---------------------------------------------------------------------------\u001b[0m",
      "\u001b[1;31mNameError\u001b[0m                                 Traceback (most recent call last)",
      "Cell \u001b[1;32mIn[1], line 9\u001b[0m\n\u001b[0;32m      7\u001b[0m idx_iter \u001b[38;5;241m=\u001b[39m \u001b[38;5;241m9\u001b[39m\n\u001b[0;32m      8\u001b[0m all_frames \u001b[38;5;241m=\u001b[39m []\n\u001b[1;32m----> 9\u001b[0m file_path \u001b[38;5;241m=\u001b[39m \u001b[38;5;124mf\u001b[39m\u001b[38;5;124m'\u001b[39m\u001b[38;5;132;01m{\u001b[39;00minput_dir\u001b[38;5;132;01m}\u001b[39;00m\u001b[38;5;124m/frames_yaw_sweep_iteration_\u001b[39m\u001b[38;5;132;01m{\u001b[39;00miteration\u001b[38;5;132;01m}\u001b[39;00m\u001b[38;5;124m.pkl\u001b[39m\u001b[38;5;124m'\u001b[39m\n\u001b[0;32m     10\u001b[0m file_path_save_hull \u001b[38;5;241m=\u001b[39m \u001b[38;5;124mf\u001b[39m\u001b[38;5;124m'\u001b[39m\u001b[38;5;124mD:/Documents/gaussian_model_output/fly_yaw_sweep_m20_20/hull_body.pkl\u001b[39m\u001b[38;5;124m'\u001b[39m\n\u001b[0;32m     13\u001b[0m \u001b[38;5;28;01mdef\u001b[39;00m \u001b[38;5;21mload_frame_all_sweep\u001b[39m(idx_iter,mov_name,iteration,letedict,frames):\n",
      "\u001b[1;31mNameError\u001b[0m: name 'input_dir' is not defined"
     ]
    }
   ],
   "source": [
    "# load model frames and hull\n",
    "\n",
    "\n",
    "\n",
    "letedict = {'num_of_bins' : 10,'perc_wing_for_le' : 1, 'wing_length_snip':0.25}\n",
    "iteration = 1000\n",
    "idx_iter = 9\n",
    "all_frames = []\n",
    "file_path = f'{input_dir}/frames_yaw_sweep_iteration_{iteration}.pkl'\n",
    "file_path_save_hull = f'D:/Documents/gaussian_model_output/fly_yaw_sweep_m20_20/hull_body.pkl'\n",
    "\n",
    "\n",
    "def load_frame_all_sweep(idx_iter,mov_name,iteration,letedict,frames):\n",
    "    mov = int(mov_name.split('_')[1]) \n",
    "    frame0 = int(mov_name.split('_')[3]) \n",
    "    image_path =  f'{input_path_for_image}/mov{mov}_2023_08_09_60ms/'\n",
    "    file_name = f'fly_model_scale_iter{idx_iter}'\n",
    "    interest_points_path = f'G:/My Drive/Research/gaussian_splatting/gaussian_splatting_input/evaluation/points/mov{mov}'\n",
    "    \n",
    "    with open(f'{input_dir}/results/{frame0}/{file_name}_results.pkl', 'rb') as handle:\n",
    "        output_angles_weights = pickle.load(handle)\n",
    "    \n",
    "    frame_eval = Evaluation(interest_points_path,image_path,frame0,input_dir,output_angles_weights,frame0,iteration,file_name,letedict = letedict,frames_dict = frames)\n",
    "    for source_attr, target_attr, output_attr in frame_eval.projection_tasks:\n",
    "        frame_eval.get_projected_and_store(frame_eval, source_attr, target_attr, output_attr)\n",
    "    return frame_eval\n",
    "\n",
    "\n",
    "\n",
    "# generate frames file if it doesnt exist\n",
    "if os.path.isfile(file_path):\n",
    "    with open(file_path, \"rb\") as input_file:\n",
    "       all_movs = pickle.load(input_file)\n",
    "else:\n",
    "    all_movs = {}\n",
    "    from tqdm import tqdm\n",
    "    for mov_name in tqdm(list(nominal_initial_angles.keys())[1:]):\n",
    "        try:\n",
    "            all_movs[mov_name] = [load_frame_all_sweep(idx_iter,mov_name,iteration,letedict,frames) for idx_iter in range(sweep_size)]        \n",
    "        except:\n",
    "            continue\n",
    "\n",
    "# calculate errors\n",
    "for mov_name in tqdm(list(all_movs.keys())[1:]):\n",
    "        [frame.calculate_chamfler() for frame in all_movs[mov_name]]  \n",
    "\n",
    "Utils.pickle_file(all_movs,file_path)\n",
    "print(f'frames saved: {file_path}')\n",
    "\n",
    "\n",
    "# generate hull file if it doesnt exist (body hull for ground truth)\n",
    "if os.path.isfile(file_path_save_hull):\n",
    "    with open(file_path_save_hull, \"rb\") as input_file:\n",
    "       hull_movs = pickle.load(input_file)\n",
    "else:\n",
    "    Utils.make_body_hull_file(nominal_initial_angles,file_path_save_hull)\n",
    "\n",
    "zbuff_hull = {movname: Utils.load_body_hull_calc_xbody(all_movs[movname][0], hull_movs[movname]) for movname in tqdm(list(all_movs.keys())[1:])}\n",
    "dot_vec = [[frame.load_hull_calc_xbody_dot_per_idx(zbuff_hull[mov_name]) for frame in all_movs[mov_name]] for mov_name in tqdm(list(all_movs.keys())[1:])]\n"
   ]
  },
  {
   "cell_type": "code",
   "execution_count": 5,
   "metadata": {},
   "outputs": [],
   "source": [
    "delta_angles = np.array([  0., -40., -30., -20., -10.,  10.,  20.,  30.,  40.])\n",
    "\n",
    "\n"
   ]
  },
  {
   "cell_type": "code",
   "execution_count": 6,
   "metadata": {},
   "outputs": [],
   "source": [
    "\n",
    "\n",
    "# Calculate chamfer distance for wings and body\n",
    "file_path = f'{input_dir}/chamfer.pkl'\n",
    "\n",
    "if os.path.isfile(file_path):\n",
    "    with open(file_path, \"rb\") as input_file:\n",
    "        chamfer = pickle.load(input_file)\n",
    "\n",
    "else:\n",
    "    chamfer_2d_wing = np.vstack([[frame.error_2d_chamfer for frame in all_movs[mov_name]] for mov_name in list(all_movs.keys())[1:]]) /2\n",
    "    chamfer_stats_2d_wing = Utils.get_camfer_stats(angle_name,delta_angles,chamfer_2d_wing)\n",
    "\n",
    "    chamfer_3d_wing = np.vstack([[frame.error_3d_chamfer for frame in all_movs[mov_name]] for mov_name in list(all_movs.keys())[1:]])*1000/2\n",
    "    chamfer_stats_3d_wing = Utils.get_camfer_stats(angle_name,delta_angles,chamfer_3d_wing)\n",
    "\n",
    "    chamfer_3d_body = np.vstack([[frame.calculate_chamfler_body() for frame in all_movs[mov_name]] for mov_name in tqdm(list(all_movs.keys())[1:])])\n",
    "    chamfer_stats_3d_body = Utils.get_camfer_stats(angle_name,delta_angles,chamfer_3d_body)\n",
    "\n",
    "    chamfer_2d_body = np.vstack([[frame.calculate_chamfler_body_2d() for frame in all_movs[mov_name]] for mov_name in tqdm(list(all_movs.keys())[1:])])\n",
    "    chamfer_stats_2d_body = Utils.get_camfer_stats(angle_name,delta_angles,chamfer_2d_body)\n",
    "\n",
    "\n",
    "    chamfer_dict_wing = {'chamfer_2d':[chamfer_2d_wing,chamfer_stats_2d_wing],'chamfer_3d':[chamfer_3d_wing,chamfer_stats_3d_wing]}\n",
    "    chamfer_dict_body = {'chamfer_2d':[chamfer_2d_body,chamfer_stats_2d_body],'chamfer_3d':[chamfer_3d_body,chamfer_stats_3d_body]}\n",
    "    chamfer = {'wing': chamfer_dict_wing,'body':chamfer_dict_body}\n",
    "\n",
    "\n",
    "    Utils.pickle_file(chamfer,file_path)\n",
    "    print(f'frames saved: {file_path}')\n"
   ]
  },
  {
   "cell_type": "code",
   "execution_count": 10,
   "metadata": {},
   "outputs": [
    {
     "data": {
      "text/plain": [
       "(149, 9)"
      ]
     },
     "execution_count": 10,
     "metadata": {},
     "output_type": "execute_result"
    }
   ],
   "source": [
    "sweep_eval.chamfer_3d_wing.shape"
   ]
  },
  {
   "cell_type": "code",
   "execution_count": null,
   "metadata": {},
   "outputs": [
    {
     "data": {
      "image/png": "[encoded data removed]",
      "text/plain": [
       "<Figure size 640x480 with 1 Axes>"
      ]
     },
     "metadata": {},
     "output_type": "display_data"
    },
    {
     "data": {
      "image/png": "[encoded data removed]",
      "text/plain": [
       "<Figure size 640x480 with 1 Axes>"
      ]
     },
     "metadata": {},
     "output_type": "display_data"
    },
    {
     "data": {
      "image/png": "[encoded data removed]",
      "text/plain": [
       "<Figure size 1000x500 with 1 Axes>"
      ]
     },
     "metadata": {},
     "output_type": "display_data"
    },
    {
     "data": {
      "text/plain": [
       "<Figure size 640x480 with 0 Axes>"
      ]
     },
     "metadata": {},
     "output_type": "display_data"
    }
   ],
   "source": []
  },
  {
   "cell_type": "code",
   "execution_count": null,
   "metadata": {},
   "outputs": [],
   "source": [
    "\n",
    "Plotters.plot_chamfer_frames_th(angle_name,chamfer_3d_body*1000,chamfer_stats_3d_body,np.arange(0.01*1000,1*1000,5))\n",
    "plt.savefig(f'{path_figures}{angle_name}_3d_frames_th_body', transparent=True, dpi='figure', format='svg')\n",
    "\n",
    "Plotters.plot_chamfer_frames_th(angle_name,chamfer_2d_body,chamfer_stats_2d_body,np.arange(0.1,5,0.01))\n",
    "plt.savefig(f'{path_figures}{angle_name}_2d_frames_th_body', transparent=True, dpi='figure', format='svg')\n",
    "\n",
    "Plotters.boxplot(delta_angles,chamfer_3d_wing,angle_name,showfliers = True)\n",
    "plt.savefig(f'{path_figures}{angle_name}_box_plot_body', transparent=True, dpi='figure', format='svg')\n",
    "\n",
    "\n"
   ]
  },
  {
   "cell_type": "code",
   "execution_count": 8,
   "metadata": {},
   "outputs": [
    {
     "data": {
      "text/plain": [
       "array([[ 0.00148255, -0.00599809, -0.00029748],\n",
       "       [ 0.0014929 , -0.00600822, -0.00032735],\n",
       "       [ 0.00143652, -0.00603636, -0.00034573],\n",
       "       ...,\n",
       "       [-0.00107844, -0.00839577, -0.00154583],\n",
       "       [-0.00129942, -0.0081327 , -0.00146116],\n",
       "       [-0.00145041, -0.00841917, -0.00115069]])"
      ]
     },
     "execution_count": 8,
     "metadata": {},
     "output_type": "execute_result"
    }
   ],
   "source": [
    "sweep_eval.zbuff_hull['mov_36_frame_1031']\n",
    "sweep_eval.zbuff_model['mov_36_frame_1031']"
   ]
  },
  {
   "cell_type": "code",
   "execution_count": 44,
   "metadata": {},
   "outputs": [],
   "source": [
    "hull_to_compare = {}\n",
    "pth = 'D:/Documents/gaussian_model_output/hull_evaluation'\n",
    "input_path_for_image = 'G:/My Drive/Research/gaussian_splatting/gaussian_splatting_input/'\n",
    "\n",
    "with open(f'{pth}/hull_files.txt', 'r') as f:\n",
    "    mov_hull_ini = [line.strip() for line in f]\n",
    "mov_frame = [(int(mov_name.split('_')[1]),int(mov_name.split('_')[3])) for mov_name in mov_hull_ini]\n",
    "\n",
    "hull_to_compare = {mov_name: FlyOutput(f'{input_path_for_image}/mov{mov_frame[0]}_2023_08_09_60ms/',mov_frame[1],f'{pth}/',None,mov_frame[1],iteration,f'',frames_dict = frames) for mov_frame,mov_name in zip(mov_frame,mov_hull_ini)}\n",
    "zbuff_hull = [all_movs[mov_name][0].homog_and_zbuff( hull_to_compare[mov_name].xyz) for mov_name in mov_hull_ini]\n",
    "zbuff_model = [all_movs[mov_name][0].homog_and_zbuff( all_movs[mov_name][0].xyz) for mov_name in mov_hull_ini]\n",
    "\n",
    "\n",
    "for mov_name in mov_hull_ini:\n",
    "    hull_to_compare[mov_name].zbuff_hull = all_movs[mov_name][0].homog_and_zbuff( all_movs[mov_name][0].xyz)\n",
    "\n",
    "for mov_name in mov_hull_ini:\n",
    "    all_movs[mov_name][0].zbuff_all = all_movs[mov_name][0].homog_and_zbuff( hull_to_compare[mov_name].xyz)\n",
    "\n",
    "\n"
   ]
  },
  {
   "cell_type": "code",
   "execution_count": 120,
   "metadata": {},
   "outputs": [
    {
     "data": {
      "text/plain": [
       "['mov_128_frame_1620',\n",
       " 'mov_78_frame_1708',\n",
       " 'mov_27_frame_695',\n",
       " 'mov_59_frame_1990',\n",
       " 'mov_94_frame_1675',\n",
       " 'mov_91_frame_3362',\n",
       " 'mov_56_frame_4245',\n",
       " 'mov_56_frame_4225',\n",
       " 'mov_59_frame_2364',\n",
       " 'mov_56_frame_3665',\n",
       " 'mov_56_frame_4230',\n",
       " 'mov_56_frame_5853']"
      ]
     },
     "execution_count": 120,
     "metadata": {},
     "output_type": "execute_result"
    }
   ],
   "source": [
    "[mov for idx,mov in enumerate(list(nominal_initial_angles.keys())) if mov not in list(all_movs.keys())]"
   ]
  },
  {
   "cell_type": "code",
   "execution_count": 119,
   "metadata": {},
   "outputs": [
    {
     "data": {
      "text/plain": [
       "[0, 92, 140, 143, 150, 157, 158, 159, 160, 161, 162, 163]"
      ]
     },
     "execution_count": 119,
     "metadata": {},
     "output_type": "execute_result"
    }
   ],
   "source": [
    "[idx for idx,mov in enumerate(list(nominal_initial_angles.keys())) if mov not in list(all_movs.keys())]"
   ]
  },
  {
   "cell_type": "code",
   "execution_count": 10,
   "metadata": {},
   "outputs": [
    {
     "name": "stderr",
     "output_type": "stream",
     "text": [
      "100%|██████████| 3/3 [00:00<00:00,  6.46it/s]\n"
     ]
    }
   ],
   "source": [
    "# load output of gs with hull initialization\n",
    "iteration = 2000\n",
    "path = 'D:/Documents/gaussian_model_output/hull_evaluation'\n",
    "hull_to_compare = {}\n",
    "for mov_name in tqdm(list(sweep_eval.sweep.keys())):\n",
    "    # try:\n",
    "        mov = int(mov_name.split('_')[1]) \n",
    "        frame = int(mov_name.split('_')[3]) \n",
    "        image_path =  f'G:/My Drive/Research/gaussian_splatting/gaussian_splatting_input/mov{mov}_2023_08_09_60ms/'\n",
    "        file_name = f''\n",
    "        output_angles_weights = None\n",
    "        interest_points_path = f'G:/My Drive/Research/gaussian_splatting/gaussian_splatting_input/evaluation/points/mov{mov}'\n",
    "        input_dir = f'{path}/'\n",
    "        hull_to_compare[mov_name] = FlyOutput(image_path,frame,input_dir,output_angles_weights,frame,iteration,file_name,frames_dict = frames)\n",
    "        hull_to_compare[mov_name].zbuff_hull = all_movs[mov_name][0].homog_and_zbuff( hull_to_compare[mov_name].xyz)\n",
    "        all_movs[mov_name][0].zbuff_all = all_movs[mov_name][0].homog_and_zbuff( all_movs[mov_name][0].xyz)\n",
    "    # except:\n",
    "    #     continue"
   ]
  },
  {
   "cell_type": "code",
   "execution_count": null,
   "metadata": {},
   "outputs": [
    {
     "data": {
      "text/plain": [
       "(array([1., 0., 1., 0., 0., 0., 0., 0., 0., 0., 0., 0., 0., 0., 0., 0., 0.,\n",
       "        0., 0., 0., 0., 0., 0., 0., 0., 0., 0., 0., 0., 1.]),\n",
       " array([0.01028649, 0.01061504, 0.0109436 , 0.01127215, 0.0116007 ,\n",
       "        0.01192926, 0.01225781, 0.01258636, 0.01291492, 0.01324347,\n",
       "        0.01357202, 0.01390058, 0.01422913, 0.01455768, 0.01488624,\n",
       "        0.01521479, 0.01554334, 0.0158719 , 0.01620045, 0.016529  ,\n",
       "        0.01685756, 0.01718611, 0.01751466, 0.01784322, 0.01817177,\n",
       "        0.01850033, 0.01882888, 0.01915743, 0.01948599, 0.01981454,\n",
       "        0.02014309]),\n",
       " <BarContainer object of 30 artists>)"
      ]
     },
     "execution_count": 3,
     "metadata": {},
     "output_type": "execute_result"
    },
    {
     "data": {
      "image/png": "[encoded data removed]",
      "text/plain": [
       "<Figure size 640x480 with 1 Axes>"
      ]
     },
     "metadata": {},
     "output_type": "display_data"
    }
   ],
   "source": [
    "# compare wing_\n",
    "\n",
    "\n",
    "def get_dist_ptclouds(points1,points2):\n",
    "    closest_to_hull_body = Utils.find_closest_points_inptclouds(points1,points2)\n",
    "    return np.sqrt(np.sum((closest_to_hull_body - points1)**2, axis = 1))\n",
    "\n",
    "\n",
    "def get_wing_body_from_hull(hull_points,gt_body,gt_wing):\n",
    "\n",
    "    closest_to_hull_body = get_dist_ptclouds(hull_points,gt_body)\n",
    "    closest_to_hull_wing = get_dist_ptclouds(hull_points,gt_wing)\n",
    "    wing = closest_to_hull_wing < closest_to_hull_body\n",
    "    body = closest_to_hull_body < closest_to_hull_wing\n",
    "    return hull_points[wing],hull_points[body]\n",
    "\n",
    "def devide_wings_to_parts(wing,span,num_of_parts = 4):\n",
    "    projected_on_span = np.dot(wing,span)\n",
    "    len_span = max(projected_on_span) - min(projected_on_span)\n",
    "    projected_parts = [projected_on_span[((projected_on_span - min(projected_on_span)) <= (len_span*idx/num_of_parts)) & ((projected_on_span - min(projected_on_span)) >= (len_span*(idx-1)/num_of_parts))]  for idx in range(1,num_of_parts + 1)]\n",
    "    parts_bound = []\n",
    "    for idx in range(len(projected_parts) - 1): \n",
    "        parts_bound.append([min(projected_parts[idx]),min(projected_parts[idx + 1])])\n",
    "    parts_bound.append([min(projected_parts[-1]),max(projected_parts[-1])])\n",
    "    return parts_bound\n",
    "\n",
    "\n",
    "def get_parts_wing(wing,devided_wing,span):\n",
    "    projected_on_span = np.dot(wing,span)\n",
    "    devided_bool = [(projected_on_span >= devided_wing[0]) & (projected_on_span <= devided_wing[1]) for devided_wing in devided_wing]\n",
    "    return  [wing[devided_bool] for devided_bool in devided_bool]\n",
    "\n",
    "def calculate_projection_on_z(points,mov_name ):\n",
    "    z_wing = all_movs[mov_name][0].get_principle_axes(points)[2]  # shape (3,)\n",
    "    centered = points - np.mean(points, axis=0)  # shape (N, 3)\n",
    "    return np.abs(np.dot(centered, z_wing) )\n",
    "\n",
    "# wing_hull,body_hull = [get_wing_body_from_hull(hull_to_compare[mov_name].zbuff_hull,np.vstack((all_movs[mov_name][0].hull_ew)),np.vstack((all_movs[mov_name][0].all_right_wing_tagged))) for mov_name in movs_to_compare]\n",
    "# wing_model,body_model = [get_wing_body_from_hull(all_movs[mov_name][0].zbuff_all,np.vstack((all_movs[mov_name][0].hull_ew)),np.vstack((all_movs[mov_name][0].all_right_wing_tagged))) for mov_name in movs_to_compare]\n",
    "\n",
    "\n",
    "def get_z_project_movie(mov_name,all_movs,hull_to_compare, gt_wing,gt_body):\n",
    "\n",
    "    wing_hull,body_hull = get_wing_body_from_hull(hull_to_compare[mov_name],gt_body,gt_wing)\n",
    "    wing_model,body_model = get_wing_body_from_hull(zbuff_model[mov_name],gt_body,gt_wing)\n",
    "\n",
    "    span = all_movs[mov_name][0].right_wing_span \n",
    "    devided_wing = devide_wings_to_parts(wing_hull,span,num_of_parts = 8)\n",
    "\n",
    "    \n",
    "    wing_hull_parts = get_parts_wing(wing_hull,devided_wing,span)\n",
    "    # wing_gt_parts = get_parts_wing(frame_wings,devided_wing,span)\n",
    "    wing_model_parts = get_parts_wing(wing_model,devided_wing,span)\n",
    "\n",
    "    wing_model_parts = [wing_part for wing_part in wing_model_parts if len(wing_part) > 5]\n",
    "    wing_hull_parts = [wing_hull_part for wing_model_part,wing_hull_part in zip(wing_model_parts,wing_hull_parts) if len(wing_model_part) > 5]\n",
    "\n",
    "    z_project_hull = np.hstack([calculate_projection_on_z(wing_hull_parts[part_num],mov_name ) for part_num in range(len(wing_hull_parts))])\n",
    "    z_project_model = np.hstack([calculate_projection_on_z(wing_model_parts[part_num],mov_name ) for part_num in range(len(wing_model_parts))])\n",
    "    return z_project_hull,z_project_model\n",
    "\n",
    "\n",
    "\n",
    "\n",
    "all_movs = sweep_eval.sweep.copy()\n",
    "zbuff_model = sweep_eval.zbuff_model\n",
    "hull_to_compare = sweep_eval.zbuff_hull\n",
    "\n",
    "movs_to_compare = [mov_name for mov_name in  list(hull_to_compare.keys())[1:] if (mov_name != 'mov_36_frame_223') | (mov_name != 'mov_59_frame_2027') | (mov_name in all_movs)]\n",
    "\n",
    "\n",
    "\n",
    "z_right_hull,z_right_model,z_left_hull,z_left_model = [],[],[],[]\n",
    "\n",
    "\n",
    "\n",
    "for mov_name in  movs_to_compare:\n",
    "        hull_wing = np.vstack((all_movs[mov_name][0].all_right_wing_tagged))\n",
    "        hull_body = np.vstack((all_movs[mov_name][0].hull_ew))\n",
    "        \n",
    "        z_right_project_hull,z_right_project_model = get_z_project_movie(mov_name,all_movs,hull_to_compare,hull_wing,hull_body)\n",
    "        z_right_hull.append(z_right_project_hull)\n",
    "        z_right_model.append(z_right_project_model)\n",
    "\n",
    "        hull_wing = np.vstack((all_movs[mov_name][0].all_left_wing_tagged))\n",
    "        hull_body = np.vstack((all_movs[mov_name][0].hull_ew))\n",
    "        \n",
    "        z_left_project_hull,z_left_project_model = get_z_project_movie(mov_name,all_movs,hull_to_compare,hull_wing,hull_body)\n",
    "        z_left_hull.append(z_left_project_hull)\n",
    "        z_left_model.append(z_left_project_model)\n",
    "\n",
    "z_hull = [(np.std(np.hstack((z_left_hull,z_right_hull)))*1000) for z_left_hull,z_right_hull in zip(z_left_hull,z_right_hull)]\n",
    "z_model = [(np.std(np.hstack((z_left_model,z_right_model)))*1000) for z_left_model,z_right_model in zip(z_left_model,z_right_model)]\n",
    "plt.hist(z_hull,alpha = 0.5,bins = 30)\n",
    "plt.hist(z_model,alpha = 0.5,bins = 30)\n",
    "\n",
    "\n"
   ]
  },
  {
   "cell_type": "code",
   "execution_count": 4,
   "metadata": {},
   "outputs": [
    {
     "data": {
      "text/plain": [
       "array([[-0.00716047, -0.01059498,  0.00698564],\n",
       "       [-0.00711189, -0.01062952,  0.00694761],\n",
       "       [-0.0070633 , -0.01066407,  0.00690959],\n",
       "       ...,\n",
       "       [-0.00905172, -0.01141336,  0.00557552],\n",
       "       [-0.00905436, -0.01152132,  0.00560449],\n",
       "       [-0.00905249, -0.01140912,  0.00550494]])"
      ]
     },
     "execution_count": 4,
     "metadata": {},
     "output_type": "execute_result"
    }
   ],
   "source": [
    "hull_to_compare['mov_36_frame_271']"
   ]
  },
  {
   "cell_type": "code",
   "execution_count": null,
   "metadata": {},
   "outputs": [
    {
     "data": {
      "text/plain": [
       "(array([1., 0., 0., 0., 0., 0., 0., 0., 0., 0., 0., 0., 0., 0., 0., 0., 0.,\n",
       "        0., 0., 0., 0., 0., 0., 0., 0., 0., 0., 0., 0., 1.]),\n",
       " array([0.01103614, 0.01132453, 0.01161293, 0.01190132, 0.01218972,\n",
       "        0.01247811, 0.01276651, 0.0130549 , 0.0133433 , 0.01363169,\n",
       "        0.01392009, 0.01420848, 0.01449688, 0.01478527, 0.01507367,\n",
       "        0.01536206, 0.01565046, 0.01593885, 0.01622725, 0.01651564,\n",
       "        0.01680404, 0.01709243, 0.01738083, 0.01766922, 0.01795762,\n",
       "        0.01824601, 0.01853441, 0.0188228 , 0.0191112 , 0.01939959,\n",
       "        0.01968799]),\n",
       " <BarContainer object of 30 artists>)"
      ]
     },
     "execution_count": 11,
     "metadata": {},
     "output_type": "execute_result"
    },
    {
     "data": {
      "image/png": "[encoded data removed]",
      "text/plain": [
       "<Figure size 640x480 with 1 Axes>"
      ]
     },
     "metadata": {},
     "output_type": "display_data"
    }
   ],
   "source": [
    "# compare wing_\n",
    "\n",
    "\n",
    "def get_dist_ptclouds(points1,points2):\n",
    "    closest_to_hull_body = Utils.find_closest_points_inptclouds(points1,points2)\n",
    "    return np.sqrt(np.sum((closest_to_hull_body - points1)**2, axis = 1))\n",
    "\n",
    "\n",
    "def get_wing_body_from_hull(hull_points,gt_body,gt_wing):\n",
    "\n",
    "    closest_to_hull_body = get_dist_ptclouds(hull_points,gt_body)\n",
    "    closest_to_hull_wing = get_dist_ptclouds(hull_points,gt_wing)\n",
    "    wing = closest_to_hull_wing < closest_to_hull_body\n",
    "    body = closest_to_hull_body < closest_to_hull_wing\n",
    "    return hull_points[wing],hull_points[body]\n",
    "\n",
    "def devide_wings_to_parts(wing,span,num_of_parts = 4):\n",
    "    projected_on_span = np.dot(wing,span)\n",
    "    len_span = max(projected_on_span) - min(projected_on_span)\n",
    "    projected_parts = [projected_on_span[((projected_on_span - min(projected_on_span)) <= (len_span*idx/num_of_parts)) & ((projected_on_span - min(projected_on_span)) >= (len_span*(idx-1)/num_of_parts))]  for idx in range(1,num_of_parts + 1)]\n",
    "    parts_bound = []\n",
    "    for idx in range(len(projected_parts) - 1): \n",
    "        parts_bound.append([min(projected_parts[idx]),min(projected_parts[idx + 1])])\n",
    "    parts_bound.append([min(projected_parts[-1]),max(projected_parts[-1])])\n",
    "    return parts_bound\n",
    "\n",
    "\n",
    "def get_parts_wing(wing,devided_wing,span):\n",
    "    projected_on_span = np.dot(wing,span)\n",
    "    devided_bool = [(projected_on_span >= devided_wing[0]) & (projected_on_span <= devided_wing[1]) for devided_wing in devided_wing]\n",
    "    return  [wing[devided_bool] for devided_bool in devided_bool]\n",
    "\n",
    "def calculate_projection_on_z(points,mov_name ):\n",
    "    z_wing = all_movs[mov_name][0].get_principle_axes(points)[2]  # shape (3,)\n",
    "    centered = points - np.mean(points, axis=0)  # shape (N, 3)\n",
    "    return np.abs(np.dot(centered, z_wing) )\n",
    "\n",
    "\n",
    "all_movs = sweep_eval.sweep.copy()\n",
    "\n",
    "movs_to_compare = [mov_name for mov_name in  list(hull_to_compare.keys())[1:] if (mov_name != 'mov_36_frame_223') | (mov_name != 'mov_59_frame_2027') | (mov_name in all_movs)]\n",
    "# wing_hull,body_hull = [get_wing_body_from_hull(hull_to_compare[mov_name].zbuff_hull,np.vstack((all_movs[mov_name][0].hull_ew)),np.vstack((all_movs[mov_name][0].all_right_wing_tagged))) for mov_name in movs_to_compare]\n",
    "# wing_model,body_model = [get_wing_body_from_hull(all_movs[mov_name][0].zbuff_all,np.vstack((all_movs[mov_name][0].hull_ew)),np.vstack((all_movs[mov_name][0].all_right_wing_tagged))) for mov_name in movs_to_compare]\n",
    "\n",
    "\n",
    "def get_z_project_movie(mov_name,all_movs,hull_to_compare, gt_wing,gt_body):\n",
    "\n",
    "    wing_hull,body_hull = get_wing_body_from_hull(hull_to_compare[mov_name].zbuff_hull,gt_body,gt_wing)\n",
    "    wing_model,body_model = get_wing_body_from_hull(all_movs[mov_name][0].zbuff_all,gt_body,gt_wing)\n",
    "\n",
    "    span = all_movs[mov_name][0].right_wing_span \n",
    "    devided_wing = devide_wings_to_parts(wing_hull,span,num_of_parts = 8)\n",
    "    wing_hull_parts = get_parts_wing(wing_hull,devided_wing,span)\n",
    "    # wing_gt_parts = get_parts_wing(frame_wings,devided_wing,span)\n",
    "    wing_model_parts = get_parts_wing(wing_model,devided_wing,span)\n",
    "\n",
    "    wing_model_parts = [wing_part for wing_part in wing_model_parts if len(wing_part) > 5]\n",
    "    wing_hull_parts = [wing_hull_part for wing_model_part,wing_hull_part in zip(wing_model_parts,wing_hull_parts) if len(wing_model_part) > 5]\n",
    "\n",
    "    z_project_hull = np.hstack([calculate_projection_on_z(wing_hull_parts[part_num],mov_name ) for part_num in range(len(wing_hull_parts))])\n",
    "    z_project_model = np.hstack([calculate_projection_on_z(wing_model_parts[part_num],mov_name ) for part_num in range(len(wing_model_parts))])\n",
    "    return z_project_hull,z_project_model\n",
    "\n",
    "\n",
    "\n",
    "\n",
    "movs_to_compare = [mov_name for mov_name in  list(hull_to_compare.keys())[1:] if (mov_name != 'mov_36_frame_223') & (mov_name != 'mov_59_frame_2027') & (mov_name in all_movs)]\n",
    "\n",
    "\n",
    "z_right_hull,z_right_model,z_left_hull,z_left_model = [],[],[],[]\n",
    "\n",
    "\n",
    "\n",
    "for mov_name in  movs_to_compare:\n",
    "        hull_wing = np.vstack((all_movs[mov_name][0].all_right_wing_tagged))\n",
    "        hull_body = np.vstack((all_movs[mov_name][0].hull_ew))\n",
    "        \n",
    "        z_right_project_hull,z_right_project_model = get_z_project_movie(mov_name,all_movs,hull_to_compare,hull_wing,hull_body)\n",
    "        z_right_hull.append(z_right_project_hull)\n",
    "        z_right_model.append(z_right_project_model)\n",
    "\n",
    "        hull_wing = np.vstack((all_movs[mov_name][0].all_left_wing_tagged))\n",
    "        hull_body = np.vstack((all_movs[mov_name][0].hull_ew))\n",
    "        \n",
    "        z_left_project_hull,z_left_project_model = get_z_project_movie(mov_name,all_movs,hull_to_compare,hull_wing,hull_body)\n",
    "        z_left_hull.append(z_left_project_hull)\n",
    "        z_left_model.append(z_left_project_model)\n",
    "\n",
    "z_hull = [(np.std(np.hstack((z_left_hull,z_right_hull)))*1000) for z_left_hull,z_right_hull in zip(z_left_hull,z_right_hull)]\n",
    "z_model = [(np.std(np.hstack((z_left_model,z_right_model)))*1000) for z_left_model,z_right_model in zip(z_left_model,z_right_model)]\n",
    "plt.hist(z_hull,alpha = 0.5,bins = 30)\n",
    "plt.hist(z_model,alpha = 0.5,bins = 30)\n",
    "\n",
    "\n"
   ]
  },
  {
   "cell_type": "code",
   "execution_count": 569,
   "metadata": {},
   "outputs": [
    {
     "data": {
      "text/plain": [
       "array([0.5256, 0.6404, 0.6269, 0.146 , 0.51  , 0.82  , 2.57  , 0.4101,\n",
       "       0.1608, 3.77  , 1.5   , 1.0976, 2.04  , 1.61  , 1.36  , 1.36  ,\n",
       "       0.85  , 0.9389, 1.1124, 1.2489, 1.09  , 2.    , 1.64  , 1.61  ,\n",
       "       0.82  , 0.76  , 1.65  ])"
      ]
     },
     "execution_count": 569,
     "metadata": {},
     "output_type": "execute_result"
    }
   ],
   "source": [
    "# typical length\n",
    "occlusion_path = 'G:/My Drive/Research/gaussian_splatting/gaussian_splatting_input/points_occlusion.csv'\n",
    "oc_table = pd.read_csv(occlusion_path)\n",
    "\n",
    "np.sum((oc_table[['x0','y0','z0']].to_numpy() - oc_table[['x1','y1','z1']].to_numpy())**2,axis = 1)"
   ]
  },
  {
   "cell_type": "code",
   "execution_count": 93,
   "metadata": {},
   "outputs": [],
   "source": [
    "# plot ground truth \n",
    "\n",
    "mov_name ='mov_36_frame_271'\n",
    "\n",
    "frame_body = all_movs[mov_name][0].hull_ew\n",
    "frame_wings_right = all_movs[mov_name][0].all_right_wing_tagged\n",
    "frame_wings_left = all_movs[mov_name][0].all_left_wing_tagged\n",
    "\n",
    "\n",
    "\n",
    "colors = ['red','blue','green','black','yellow']*4\n",
    "fig = go.Figure()\n",
    "Plotters.scatter3d(fig,frame_body,'lime',4,'right wing boundary te',show_colorbar = False,mode=' markers')\n",
    "Plotters.scatter3d(fig,frame_wings_right,'firebrick',8,'right wing boundary te',show_colorbar = False,mode=' markers')\n",
    "[Plotters.scatter3d(fig,frame_wings_left,'slateblue',8,'right wing boundary te',show_colorbar = False,mode=' markers') for color,partwing in zip(colors,wing_hull_parts)]\n",
    "\n",
    "fig.update_layout(\n",
    "    scene=dict(\n",
    "        xaxis=dict(\n",
    "            visible=False,\n",
    "            showgrid=False,\n",
    "            showticklabels=False,\n",
    "            showline=False,\n",
    "            zeroline=False\n",
    "        ),\n",
    "        yaxis=dict(\n",
    "            visible=False,\n",
    "            showgrid=False,\n",
    "            showticklabels=False,\n",
    "            showline=False,\n",
    "            zeroline=False\n",
    "        ),\n",
    "        zaxis=dict(\n",
    "            visible=False,\n",
    "            showgrid=False,\n",
    "            showticklabels=False,\n",
    "            showline=False,\n",
    "            zeroline=False\n",
    "        ),\n",
    "        bgcolor='white'\n",
    "    )\n",
    ")\n",
    "fig.show()\n"
   ]
  },
  {
   "cell_type": "code",
   "execution_count": 15,
   "metadata": {},
   "outputs": [
    {
     "data": {
      "text/plain": [
       "array([[ 7.69359261e-04, -8.98061898e-03,  2.39101816e-04],\n",
       "       [ 9.68389529e-04, -9.04704294e-03,  3.65665633e-04],\n",
       "       [ 1.21541922e-03, -9.14201455e-03,  4.24870575e-04],\n",
       "       [ 1.38024463e-03, -9.20067784e-03,  4.71486480e-04],\n",
       "       [ 1.60045716e-03, -9.23335970e-03,  5.39422821e-04],\n",
       "       [ 1.76742893e-03, -9.24808724e-03,  5.90479802e-04],\n",
       "       [ 1.96238485e-03, -9.25760427e-03,  5.69259485e-04],\n",
       "       [ 2.19716073e-03, -9.24146970e-03,  4.76593022e-04],\n",
       "       [ 1.51358090e-03, -9.04865425e-03, -5.26393218e-04],\n",
       "       [ 1.12211622e-03, -9.02437488e-03, -6.60040896e-04],\n",
       "       [ 8.24914360e-04, -8.98754804e-03, -6.80847275e-04],\n",
       "       [ 1.76373746e-03, -9.06943221e-03, -4.08006067e-04],\n",
       "       [ 1.90991108e-03, -9.05077098e-03, -3.23896036e-04],\n",
       "       [ 2.19784915e-03, -9.06030833e-03, -7.63870674e-05],\n",
       "       [ 2.32798015e-03, -9.09422553e-03,  1.20287293e-04],\n",
       "       [ 2.32277469e-03, -9.20759220e-03,  3.17629604e-04],\n",
       "       [ 6.03731630e-04, -8.90294545e-03, -6.67412017e-04]])"
      ]
     },
     "execution_count": 15,
     "metadata": {},
     "output_type": "execute_result"
    }
   ],
   "source": [
    "sweep_eval.sweep['mov_36_frame_1031'][0].right_wing_tagged"
   ]
  },
  {
   "cell_type": "code",
   "execution_count": 77,
   "metadata": {},
   "outputs": [
    {
     "data": {
      "text/plain": [
       "0.9210458516862461"
      ]
     },
     "execution_count": 77,
     "metadata": {},
     "output_type": "execute_result"
    }
   ],
   "source": [
    "\n",
    "spn[0]\n"
   ]
  },
  {
   "cell_type": "code",
   "execution_count": 2,
   "metadata": {},
   "outputs": [
    {
     "ename": "NameError",
     "evalue": "name 'reordered' is not defined",
     "output_type": "error",
     "traceback": [
      "\u001b[1;31m---------------------------------------------------------------------------\u001b[0m",
      "\u001b[1;31mNameError\u001b[0m                                 Traceback (most recent call last)",
      "Cell \u001b[1;32mIn[2], line 2\u001b[0m\n\u001b[0;32m      1\u001b[0m spn \u001b[38;5;241m=\u001b[39m np\u001b[38;5;241m.\u001b[39matleast_2d(sweep_eval\u001b[38;5;241m.\u001b[39msweep[\u001b[38;5;124m'\u001b[39m\u001b[38;5;124mmov_36_frame_1031\u001b[39m\u001b[38;5;124m'\u001b[39m][\u001b[38;5;241m0\u001b[39m]\u001b[38;5;241m.\u001b[39mright_gt_wing_span)\n\u001b[1;32m----> 2\u001b[0m projected_chord \u001b[38;5;241m=\u001b[39m np\u001b[38;5;241m.\u001b[39mdot(\u001b[43mreordered\u001b[49m \u001b[38;5;241m-\u001b[39m np\u001b[38;5;241m.\u001b[39mmean(reordered, axis \u001b[38;5;241m=\u001b[39m \u001b[38;5;241m0\u001b[39m),chord[\u001b[38;5;241m0\u001b[39m])\n\u001b[0;32m      3\u001b[0m projected_span \u001b[38;5;241m=\u001b[39m np\u001b[38;5;241m.\u001b[39mdot(reordered \u001b[38;5;241m-\u001b[39m np\u001b[38;5;241m.\u001b[39mmean(reordered, axis \u001b[38;5;241m=\u001b[39m \u001b[38;5;241m0\u001b[39m),spn[\u001b[38;5;241m0\u001b[39m])\n\u001b[0;32m      6\u001b[0m np\u001b[38;5;241m.\u001b[39margmin(\u001b[38;5;28msum\u001b[39m([\u001b[38;5;28mmin\u001b[39m(projected_chord),\u001b[38;5;28mmax\u001b[39m(projected_chord)])\u001b[38;5;241m/\u001b[39m\u001b[38;5;241m2\u001b[39m \u001b[38;5;241m-\u001b[39m projected_chord)\n",
      "\u001b[1;31mNameError\u001b[0m: name 'reordered' is not defined"
     ]
    }
   ],
   "source": [
    "spn = np.atleast_2d(sweep_eval.sweep['mov_36_frame_1031'][0].right_gt_wing_span)\n",
    "projected_chord = np.dot(reordered - np.mean(reordered, axis = 0),chord[0])\n",
    "projected_span = np.dot(reordered - np.mean(reordered, axis = 0),spn[0])\n",
    "\n",
    "\n",
    "np.argmin(sum([min(projected_chord),max(projected_chord)])/2 - projected_chord)\n",
    "middle_chord = sum([min(projected_chord),max(projected_chord)])/2\n",
    "le = reordered[projected_chord > middle_chord,:]\n",
    "\n",
    "te = reordered[projected_chord < middle_chord,:]\n",
    "tip = reordered[np.argmax(projected_span),:]\n",
    "tip\n",
    "\n",
    "spn = (tip - np.mean(reordered, axis = 0))/np.linalg.norm((tip - np.mean(reordered, axis = 0)))\n"
   ]
  },
  {
   "cell_type": "code",
   "execution_count": 7,
   "metadata": {},
   "outputs": [
    {
     "data": {
      "text/plain": [
       "array([[ 7.69359261e-04, -8.98061898e-03,  2.39101816e-04],\n",
       "       [ 9.68389529e-04, -9.04704294e-03,  3.65665633e-04],\n",
       "       [ 1.21541922e-03, -9.14201455e-03,  4.24870575e-04],\n",
       "       [ 1.38024463e-03, -9.20067784e-03,  4.71486480e-04],\n",
       "       [ 1.60045716e-03, -9.23335970e-03,  5.39422821e-04],\n",
       "       [ 1.76742893e-03, -9.24808724e-03,  5.90479802e-04],\n",
       "       [ 1.96238485e-03, -9.25760427e-03,  5.69259485e-04],\n",
       "       [ 2.19716073e-03, -9.24146970e-03,  4.76593022e-04],\n",
       "       [ 2.32277469e-03, -9.20759220e-03,  3.17629604e-04],\n",
       "       [ 2.32798015e-03, -9.09422553e-03,  1.20287293e-04],\n",
       "       [ 2.19784915e-03, -9.06030833e-03, -7.63870674e-05],\n",
       "       [ 1.90991108e-03, -9.05077098e-03, -3.23896036e-04],\n",
       "       [ 1.76373746e-03, -9.06943221e-03, -4.08006067e-04],\n",
       "       [ 1.51358090e-03, -9.04865425e-03, -5.26393218e-04],\n",
       "       [ 1.12211622e-03, -9.02437488e-03, -6.60040896e-04],\n",
       "       [ 8.24914360e-04, -8.98754804e-03, -6.80847275e-04],\n",
       "       [ 6.03731630e-04, -8.90294545e-03, -6.67412017e-04]])"
      ]
     },
     "execution_count": 7,
     "metadata": {},
     "output_type": "execute_result"
    }
   ],
   "source": [
    "sweep_eval.sweep['mov_36_frame_1031'][0].right_wing_tagged"
   ]
  },
  {
   "cell_type": "code",
   "execution_count": 10,
   "metadata": {},
   "outputs": [],
   "source": [
    "\n",
    "\n",
    "\n",
    "chord = np.atleast_2d(sweep_eval.sweep['mov_36_frame_1031'][0].right_gt_wing_chord)\n",
    "\n",
    "toplot = sweep_eval.sweep['mov_36_frame_1031'][0]\n",
    "\n",
    "reordered = toplot.right_wing_tagged\n",
    "\n",
    "# t = np.linspace(-0.001, 0.0015, 100)  # Small range since your data seems very small-scale\n",
    "\n",
    "# r_line_points = np.mean(reordered, axis = 0) + t[:, np.newaxis] * spn\n",
    "# l_line_points = np.mean(reordered, axis = 0) + t[:, np.newaxis] * chord\n",
    "\n",
    "# le = reordered[np.dot(reordered - np.mean(reordered, axis = 0),chord[0])> 0 ,:]\n",
    "\n",
    "\n",
    "# le,te = toplot.get_wing_le_te(reordered - np.mean(reordered, axis = 0),-spn[0],chord[0], perc_wing = 0.7,num_of_bins = 30)\n",
    "\n",
    "le = reordered[0:reordered.shape[0]//2,:]\n",
    "te = reordered[reordered.shape[0]//2:,:]\n",
    "\n",
    "\n",
    "colors = ['red','blue','green','black','yellow']*4\n",
    "fig = go.Figure()\n",
    "Plotters.scatter3d(fig,toplot.right_wing_tagged,'lime',4,'right wing boundary te',show_colorbar = False,mode=' markers')\n",
    "Plotters.scatter3d(fig,toplot.body,'magenta',8,'right wing boundary te',show_colorbar = False,mode=' markers')\n",
    "# Plotters.scatter3d(fig,r_line_points,'black',4,'right wing boundary te',show_colorbar = False,mode=' markers') \n",
    "Plotters.scatter3d(fig,le,'black',4,'right wing boundary te',show_colorbar = False,mode=' markers') \n",
    "# Plotters.scatter3d(fig,l_line_points,'black',4,'right wing boundary te',show_colorbar = False,mode=' markers') \n",
    "\n",
    "fig.show()"
   ]
  },
  {
   "cell_type": "code",
   "execution_count": null,
   "metadata": {},
   "outputs": [],
   "source": [
    "# plot wing parts  (each part has its normal, we compare the width of the model to the width of the hull for each part)\n",
    "\n",
    "\n",
    "mov_name = 'mov_36_frame_981'\n",
    "\n",
    "\n",
    "frame_body = all_movs[mov_name][0].hull_ew\n",
    "frame_wings = all_movs[mov_name][0].all_right_wing_tagged\n",
    "hull_wing = np.vstack((frame_wings))\n",
    "hull_body = np.vstack((frame_body))\n",
    "\n",
    "\n",
    "wing_hull,body_hull = get_wing_body_from_hull(hull_to_compare[mov_name].zbuff_hull,hull_body,hull_wing)\n",
    "wing_model,body_model = get_wing_body_from_hull(all_movs[mov_name][0].zbuff_all,hull_body,hull_wing)\n",
    "\n",
    "span = all_movs[mov_name][0].right_wing_span \n",
    "devided_wing = devide_wings_to_parts(wing_hull,all_movs[mov_name][0].right_wing_span ,num_of_parts = 10)\n",
    "body = np.vstack((frame_body))\n",
    "\n",
    "\n",
    "wing_hull_parts = get_parts_wing(wing_hull,devided_wing,span)\n",
    "wing_gt_parts = get_parts_wing(frame_wings,devided_wing,span)\n",
    "wing_model_parts = get_parts_wing(wing_model,devided_wing,span)\n",
    "\n",
    "\n",
    "\n",
    "\n",
    "colors = ['red','blue','green','black','yellow']*4\n",
    "fig = go.Figure()\n",
    "Plotters.scatter3d(fig,body_hull,'lime',4,'right wing boundary te',show_colorbar = False,mode=' markers')\n",
    "Plotters.scatter3d(fig,frame_wings,'magenta',8,'right wing boundary te',show_colorbar = False,mode=' markers')\n",
    "[Plotters.scatter3d(fig,partwing,color,4,'right wing boundary te',show_colorbar = False,mode=' markers') for color,partwing in zip(colors,wing_hull_parts)]\n",
    "fig.show()\n",
    "\n",
    "\n",
    "colors = ['red','blue','green','black','yellow']*4\n",
    "fig = go.Figure()\n",
    "Plotters.scatter3d(fig,body,'lime',4,'right wing boundary te',show_colorbar = False,mode=' markers')\n",
    "Plotters.scatter3d(fig,frame_wings,'magenta',8,'right wing boundary te',show_colorbar = False,mode=' markers')\n",
    "[Plotters.scatter3d(fig,partwing,color,4,'right wing boundary te',show_colorbar = False,mode=' markers') for color,partwing in zip(colors,wing_model_parts)]\n",
    "fig.show()\n",
    "\n"
   ]
  },
  {
   "cell_type": "code",
   "execution_count": null,
   "metadata": {},
   "outputs": [
    {
     "name": "stdout",
     "output_type": "stream",
     "text": [
      "Saved animation to: D:/Documents/gaussian_model_output//fly_yaw_delta10_sweep_m40_40/animated_plot.html\n"
     ]
    }
   ],
   "source": []
  },
  {
   "cell_type": "code",
   "execution_count": null,
   "metadata": {},
   "outputs": [],
   "source": [
    "# initial angles of ground truth data\n",
    "\n",
    "\n",
    "\n",
    "bod, right_wing,left_wing = [],[],[]\n",
    "mov_names = list(nominal_initial_angles.keys())\n",
    "for mov_name in mov_names[2:4]:\n",
    "    mov = int(mov_name.split('_')[1]) \n",
    "    frame = int(mov_name.split('_')[3]) \n",
    "    input_dir = f'{path_output}/{model_name}'\n",
    "    path = f'D:/Documents/gaussian_model_output/{model_name}/{frame}/initial/'\n",
    "    dir_names = [name for name in os.listdir(path) if os.path.isfile(os.path.join(path, name))]\n",
    "    ini_angles = {idx:open_file(f'{path}/{dir}') for idx,dir in enumerate(dir_names)}\n",
    "\n",
    "    bod.append(ini_angles[0]['body_angles'] )\n",
    "    right_wing.append(ini_angles[0]['right_wing_angles'] )\n",
    "    left_wing.append(ini_angles[0]['left_wing_angles'] )\n",
    "\n",
    "# right_wing = np.vstack(right_wing)\n",
    "plt.figure(),plt.plot(right_wing[:,0],right_wing[:,2],'*')\n",
    "plt.figure(),plt.plot(left_wing)\n"
   ]
  },
  {
   "cell_type": "code",
   "execution_count": null,
   "metadata": {},
   "outputs": [],
   "source": [
    "import open3d as o3d\n",
    "points = all_movs['mov_121_frame_2000'][0].right_wing\n",
    "\n",
    "# Load or create your point cloud\n",
    "pcd = o3d.geometry.PointCloud()\n",
    "pcd.points = o3d.utility.Vector3dVector(points)\n",
    "\n",
    "# Estimate normals if not available\n",
    "pcd.estimate_normals(search_param=o3d.geometry.KDTreeSearchParamHybrid(radius=5, max_nn=30))\n",
    "pcd.normalize_normals()\n",
    "\n",
    "\n",
    "# Run Poisson reconstruction\n",
    "mesh, densities = o3d.geometry.TriangleMesh.create_from_point_cloud_poisson(pcd, depth=9)\n",
    "mesh.compute_vertex_normals()\n",
    "\n",
    "# Visualize\n",
    "o3d.visualization.draw_geometries([mesh])"
   ]
  },
  {
   "cell_type": "code",
   "execution_count": null,
   "metadata": {},
   "outputs": [],
   "source": [
    "from skimage.measure import marching_cubes\n",
    "import trimesh\n",
    "from scipy.ndimage import gaussian_filter\n",
    "from scipy.ndimage import distance_transform_edt\n",
    "\n",
    "grid_size = 100 \n",
    "points = all_movs['mov_121_frame_2000'][0].xyz_rotated\n",
    "volume = np.zeros((grid_size, grid_size, grid_size), dtype=np.float32)\n",
    "\n",
    "# 3. Convert point coordinates to voxel indices\n",
    "min_bounds = points.min(axis=0)\n",
    "max_bounds = points.max(axis=0)\n",
    "scale = (grid_size - 1) / (max_bounds - min_bounds)\n",
    "voxel_indices = ((points - min_bounds) * scale).astype(np.int32)\n",
    "\n",
    "# Fill the volume\n",
    "for x, y, z in voxel_indices:\n",
    "    volume[x, y, z] = 1.0\n",
    "# Optional: smooth the volume\n",
    "volume = gaussian_filter(volume, sigma=0.2)\n",
    "\n",
    "# 1. Compute Signed Distance Field (SDF)\n",
    "# Outside = distance from 0s to 1s\n",
    "outside = distance_transform_edt(volume == 0)\n",
    "\n",
    "# Inside = distance from 1s to 0s\n",
    "inside = distance_transform_edt(volume == 1)\n",
    "\n",
    "# Signed distance field: negative inside, positive outside\n",
    "sdf = outside - inside\n",
    "\n",
    "# 2. Apply marching cubes on the zero level set (surface boundary)\n",
    "# verts, faces, normals, values = marching_cubes(sdf, level=0.0)\n",
    "verts, faces,normals, values = marching_cubes(sdf,0,allow_degenerate=False,spacing=(1, 1, 1))  \n",
    "# 5. Create mesh and export/visualize\n",
    "verts = verts / scale + min_bounds\n",
    "\n",
    "mesh = trimesh.Trimesh(vertices=verts, faces=faces, vertex_normals=normals)\n",
    "\n",
    "mesh.show()  # pop\n",
    "mesh.export('mesh.obj')"
   ]
  },
  {
   "cell_type": "code",
   "execution_count": null,
   "metadata": {},
   "outputs": [],
   "source": [
    "import open3d as o3d\n",
    "import numpy as np\n",
    "points = all_movs['mov_121_frame_2000'][0].body\n",
    "\n",
    "pcd = o3d.geometry.PointCloud()\n",
    "pcd.points = o3d.utility.Vector3dVector(points)\n",
    "\n",
    "# 2. Estimate normals (required for Poisson)\n",
    "pcd.estimate_normals(search_param=o3d.geometry.KDTreeSearchParamHybrid(radius=0.05, max_nn=30))\n",
    "pcd.orient_normals_consistent_tangent_plane(10)  # Optional: improve consistency\n",
    "\n",
    "# 3. Apply Poisson surface reconstruction\n",
    "mesh, densities = o3d.geometry.TriangleMesh.create_from_point_cloud_poisson(pcd, depth=4)  # try 8–11\n",
    "\n",
    "# 4. Crop to bounding box (optional, removes far artifacts)\n",
    "bbox = pcd.get_axis_aligned_bounding_box().scale(1.05, pcd.get_center())\n",
    "mesh = mesh.crop(bbox)\n",
    "\n",
    "# 5. Visualize\n",
    "o3d.visualization.draw_geometries([mesh])mesh = o3d.geometry.TriangleMesh()\n",
    "mesh.vertices = o3d.utility.Vector3dVector(verts)\n",
    "mesh.triangles = o3d.utility.Vector3iVector(faces)\n",
    "mesh.compute_vertex_normals()\n",
    "\n",
    "# Sample points on the surface\n",
    "pcd = mesh.sample_points_poisson_disk(number_of_points=50000)\n",
    "\n",
    "# Estimate normals again if needed\n",
    "pcd.estimate_normals()\n",
    "\n",
    "# Run Poisson\n",
    "mesh_poisson, _ = o3d.geometry.TriangleMesh.create_from_point_cloud_poisson(pcd, depth=8)"
   ]
  },
  {
   "cell_type": "code",
   "execution_count": 4,
   "metadata": {},
   "outputs": [
    {
     "ename": "NameError",
     "evalue": "name 'vxhull_hull' is not defined",
     "output_type": "error",
     "traceback": [
      "\u001b[1;31m---------------------------------------------------------------------------\u001b[0m",
      "\u001b[1;31mNameError\u001b[0m                                 Traceback (most recent call last)",
      "Cell \u001b[1;32mIn[4], line 4\u001b[0m\n\u001b[0;32m      2\u001b[0m \u001b[38;5;28;01mfrom\u001b[39;00m \u001b[38;5;21;01mscipy\u001b[39;00m\u001b[38;5;21;01m.\u001b[39;00m\u001b[38;5;21;01mspatial\u001b[39;00m \u001b[38;5;28;01mimport\u001b[39;00m cKDTree\n\u001b[0;32m      3\u001b[0m \u001b[38;5;66;03m# Two 3D point clouds: A (Nx3), B (Mx3)\u001b[39;00m\n\u001b[1;32m----> 4\u001b[0m A \u001b[38;5;241m=\u001b[39m np\u001b[38;5;241m.\u001b[39mvstack(\u001b[43mvxhull_hull\u001b[49m)\n\u001b[0;32m      5\u001b[0m B \u001b[38;5;241m=\u001b[39m np\u001b[38;5;241m.\u001b[39mvstack(wakk)\n\u001b[0;32m      6\u001b[0m \u001b[38;5;66;03m# A = np.vstack(wakk)\u001b[39;00m\n\u001b[0;32m      7\u001b[0m \n\u001b[0;32m      8\u001b[0m \u001b[38;5;66;03m# Build KDTree on B\u001b[39;00m\n",
      "\u001b[1;31mNameError\u001b[0m: name 'vxhull_hull' is not defined"
     ]
    }
   ],
   "source": [
    "import numpy as np\n",
    "from scipy.spatial import cKDTree\n",
    "# Two 3D point clouds: A (Nx3), B (Mx3)\n",
    "A = np.vstack(vxhull_hull)\n",
    "B = np.vstack(wakk)\n",
    "# A = np.vstack(wakk)\n",
    "\n",
    "# Build KDTree on B\n",
    "tree = cKDTree(B)\n",
    "\n",
    "# For each point in A, find closest in B\n",
    "distances, indices = tree.query(A)  # distances: (N,), indices: (N,)\n",
    "\n",
    "# Closest points from B\n",
    "closest_points = B[indices]\n",
    "\n",
    "\n",
    "def find_closest_points_inptclouds(points1,points2):\n",
    "    # Two 3D point clouds: points1 (Nx3), points2 (Mx3)\n",
    "    tree = cKDTree(points2)\n",
    "\n",
    "    # For each point in A, find closest in B\n",
    "    distances, indices = tree.query(points1)  # distances: (N,), indices: (N,)\n",
    "\n",
    "    # Closest points from B\n",
    "    closest_points = points2[indices]\n",
    "    return closest_points\n",
    "\n",
    "\n",
    "\n",
    "closest_points = find_closest_points_inptclouds(np.vstack(vxhull_hull),np.vstack(wakk))\n",
    "errors_3d_1 = np.sqrt(np.sum((closest_points - np.vstack(vxhull_hull))**2,axis = 1))  # L2 distance per point\n",
    "\n",
    "\n",
    "closest_points = find_closest_points_inptclouds(np.vstack(wakk),np.vstack(vxhull_hull))\n",
    "errors_3d_2 = np.sqrt(np.sum((closest_points - np.vstack(wakk))**2,axis = 1))  # L2 distance per point\n",
    "\n",
    "\n",
    "np.mean(errors_3d_1) + np.mean(errors_3d_2)\n",
    "\n",
    "\n",
    "def calc2d_error(frame,fitted,original):\n",
    "    bound_on_ew = (frame.ew_to_lab.T @ fitted.T ).T\n",
    "    interest_to_ew = (frame.ew_to_lab.T @ original.T).T\n",
    "    projected_interest = [np.fliplr(frame2d.project_with_proj_mat(interest_to_ew)[:,0:2]) for frame2d in frame.frames]\n",
    "    projected_gs = [np.fliplr(frame2d.project_with_proj_mat(bound_on_ew)[:,0:2]) for frame2d in frame.frames]\n",
    "    diff = np.vstack(projected_interest) - np.vstack(projected_gs)\n",
    "    errors_2d = np.linalg.norm(diff, axis=1)  # Euclidean reprojection error per point\n",
    "    errors_2d_l1 = np.sum(np.abs(diff),axis = 1)  # Euclidean reprojection error per point\n",
    "    return errors_2d,errors_2d_l1\n",
    "    \n",
    "# errors_2d,errors_2d_l1 = calc2d_error(frame,closest_points,A)\n",
    "chamfer = 0.5*(np.mean(errors_3d_1) + np.mean(errors_3d_2))*1000\n",
    "chamfer\n"
   ]
  },
  {
   "cell_type": "code",
   "execution_count": 86,
   "metadata": {},
   "outputs": [
    {
     "name": "stdout",
     "output_type": "stream",
     "text": [
      "[0.01277063 0.00457726 0.00331197] [0.01271207 0.00457384 0.00345333]\n"
     ]
    }
   ],
   "source": [
    "print(np.mean(np.vstack(vxhull_hull),axis = 0),np.mean(np.vstack(wakk),axis = 0))"
   ]
  },
  {
   "cell_type": "code",
   "execution_count": 3,
   "metadata": {},
   "outputs": [],
   "source": [
    "\n",
    "frame = all_frames[0]\n",
    "\n",
    "fig = go.Figure()\n",
    "Plotters.scatter3d(fig,frame.right_wing_tagged,'crimson',4,'right wing boundary le',show_colorbar = False,mode='lines + markers')\n",
    "# Plotters.scatter3d(fig,frame.right_wing_tagged,'crimson',4,'right wing boundary te',show_colorbar = False,mode='lines + markers')\n",
    "\n",
    "Plotters.scatter3d(fig,frame.right_wing_boundary,'crimson',4,'right wing boundary le',show_colorbar = False,mode='lines + markers')\n",
    "# Plotters.scatter3d(fig,frame.right_wing_boundary,'crimson',4,'right wing boundary te',show_colorbar = False,mode='lines + markers')\n",
    "\n",
    "# Plotters.scatter3d(fig,frame.right_wing,'red',2,'right wing',show_colorbar = False,mode=' markers')\n",
    "# Plotters.scatter3d(fig,frame.right_wing_tagged_le,'magenta',6,'tagged points le',show_colorbar = False,mode=' lines + markers')\n",
    "\n",
    "Plotters.scatter3d(fig,frame.bound_on_interest_rw_te,'black',6,'fitted on boundary tag le',show_colorbar = False,mode='  markers')\n",
    "Plotters.scatter3d(fig,frame.interest_on_bound_rw_te,'gray',6,'fitted on boundary tag te',show_colorbar = False,mode='  markers')\n",
    "\n",
    "\n",
    "Plotters.scatter3d(fig,frame.left_wing_tagged,'crimson',4,'right wing boundary le',show_colorbar = False,mode='lines + markers')\n",
    "# Plotters.scatter3d(fig,frame.right_wing_tagged,'crimson',4,'right wing boundary te',show_colorbar = False,mode='lines + markers')\n",
    "\n",
    "Plotters.scatter3d(fig,frame.left_wing_boundary,'crimson',4,'right wing boundary le',show_colorbar = False,mode='lines + markers')\n",
    "# Plotters.scatter3d(fig,frame.right_wing_boundary,'crimson',4,'right wing boundary te',show_colorbar = False,mode='lines + markers')\n",
    "\n",
    "# Plotters.scatter3d(fig,frame.right_wing,'red',2,'right wing',show_colorbar = False,mode=' markers')\n",
    "# Plotters.scatter3d(fig,frame.right_wing_tagged_le,'magenta',6,'tagged points le',show_colorbar = False,mode=' lines + markers')\n",
    "\n",
    "Plotters.scatter3d(fig,frame.bound_on_interest_lw_te,'black',6,'fitted on boundary tag le',show_colorbar = False,mode='  markers')\n",
    "Plotters.scatter3d(fig,frame.interest_on_bound_lw_te,'gray',6,'fitted on boundary tag te',show_colorbar = False,mode='  markers')\n",
    "\n",
    "\n",
    "# # Plotters.scatter3d(fig,frame.right_wing_tagged_te,'magenta',6,'tagged points le',show_colorbar = False,mode=' lines + markers')\n",
    "# Plotters.scatter3d(fig,frame.bound_on_interest_rw_te,'black',6,'boundary on fitted tag le',show_colorbar = False,mode=' lines + markers')\n",
    "# Plotters.scatter3d(fig,frame.bound_on_interest_rw_le,'black',4,'fitted boundary',show_colorbar = False)\n",
    "# Plotters.scatter3d(fig,frame.left_wing_boundary_le,'#1f77b4',3,'left wing boundary',show_colorbar = False,mode='lines + markers')\n",
    "# # Plotters.scatter3d(fig,frame.left_wing,'blue',2,'left wing',show_colorbar = False,mode=' markers')\n",
    "# Plotters.scatter3d(fig,frame.left_wing_tagged_le,'#17becf',6,'tagged points',show_colorbar = False,mode=' lines +markers')\n",
    "# Plotters.scatter3d(fig,frame.bound_on_interest_lw_le,'black',4,'fitted boundary',show_colorbar = False)\n",
    "\n",
    "Plotters.scatter3d(fig,frame.body,'green',4,'body',show_colorbar = False,mode=' markers')\n",
    "\n",
    "fig.show()"
   ]
  },
  {
   "cell_type": "code",
   "execution_count": 8,
   "metadata": {},
   "outputs": [],
   "source": [
    "\n",
    "frame = all_frames[0]\n",
    "\n",
    "fig = go.Figure()\n",
    "Plotters.scatter3d(fig,frame.right_wing_boundary_le,'crimson',4,'right wing boundary le',show_colorbar = False,mode='lines + markers')\n",
    "Plotters.scatter3d(fig,frame.right_wing_boundary_te,'crimson',4,'right wing boundary te',show_colorbar = False,mode='lines + markers')\n",
    "\n",
    "# Plotters.scatter3d(fig,frame.right_wing,'red',2,'right wing',show_colorbar = False,mode=' markers')\n",
    "Plotters.scatter3d(fig,frame.right_wing_tagged_le,'magenta',6,'tagged points le',show_colorbar = False,mode=' lines + markers')\n",
    "\n",
    "# Plotters.scatter3d(fig,frame.bound_on_interest_rw_le,'black',6,'boundary on fitted tag le',show_colorbar = False,mode=' lines + markers')\n",
    "Plotters.scatter3d(fig,frame.bound_on_interest_rw_te,'gray',6,'boundary on fitted tag te',show_colorbar = False,mode=' lines + markers')\n",
    "\n",
    "Plotters.scatter3d(fig,frame.right_wing_tagged_te,'magenta',6,'tagged points le',show_colorbar = False,mode=' lines + markers')\n",
    "Plotters.scatter3d(fig,frame.bound_on_interest_rw_te,'black',6,'boundary on fitted tag le',show_colorbar = False,mode=' lines + markers')\n",
    "# Plotters.scatter3d(fig,frame.bound_on_interest_rw_le,'black',4,'fitted boundary',show_colorbar = False)\n",
    "# Plotters.scatter3d(fig,frame.left_wing_boundary_le,'#1f77b4',3,'left wing boundary',show_colorbar = False,mode='lines + markers')\n",
    "# Plotters.scatter3d(fig,frame.left_wing,'blue',2,'left wing',show_colorbar = False,mode=' markers')\n",
    "# Plotters.scatter3d(fig,frame.left_wing_tagged_le,'#17becf',6,'tagged points',show_colorbar = False,mode=' lines +markers')\n",
    "# Plotters.scatter3d(fig,frame.bound_on_interest_lw_le,'black',4,'fitted boundary',show_colorbar = False)\n",
    "\n",
    "Plotters.scatter3d(fig,frame.body,'green',4,'body',show_colorbar = False,mode=' markers')\n",
    "\n",
    "fig.show()"
   ]
  },
  {
   "cell_type": "code",
   "execution_count": 6,
   "metadata": {},
   "outputs": [],
   "source": [
    "frame.right_wing_boundary_le\n",
    "frame.right_wing_tagged_le\n",
    "\n",
    "fig = go.Figure()\n",
    "Plotters.scatter3d(fig,frame.right_wing_boundary_le,'crimson',4,'right wing boundary',show_colorbar = False,mode='lines + markers')\n",
    "Plotters.scatter3d(fig,frame.right_wing_tagged_le,'magenta',6,'tagged points',show_colorbar = False,mode=' markers')\n",
    "\n",
    "Plotters.scatter3d(fig,frame.body,'green',4,'body',show_colorbar = False,mode=' markers')\n",
    "\n",
    "fig.show()"
   ]
  },
  {
   "cell_type": "code",
   "execution_count": 5,
   "metadata": {},
   "outputs": [
    {
     "ename": "AttributeError",
     "evalue": "'Evaluation' object has no attribute 'interest_left_wing_boundry'",
     "output_type": "error",
     "traceback": [
      "\u001b[1;31m---------------------------------------------------------------------------\u001b[0m",
      "\u001b[1;31mAttributeError\u001b[0m                            Traceback (most recent call last)",
      "Cell \u001b[1;32mIn[5], line 9\u001b[0m\n\u001b[0;32m      7\u001b[0m fig \u001b[38;5;241m=\u001b[39m go\u001b[38;5;241m.\u001b[39mFigure()\n\u001b[0;32m      8\u001b[0m Plotters\u001b[38;5;241m.\u001b[39mscatter3d(fig,frame\u001b[38;5;241m.\u001b[39mleft_wing_boundary,\u001b[38;5;124m'\u001b[39m\u001b[38;5;124mcrimson\u001b[39m\u001b[38;5;124m'\u001b[39m,\u001b[38;5;241m4\u001b[39m,\u001b[38;5;124m'\u001b[39m\u001b[38;5;124mright wing boundary\u001b[39m\u001b[38;5;124m'\u001b[39m,show_colorbar \u001b[38;5;241m=\u001b[39m \u001b[38;5;28;01mFalse\u001b[39;00m,mode\u001b[38;5;241m=\u001b[39m\u001b[38;5;124m'\u001b[39m\u001b[38;5;124mlines + markers\u001b[39m\u001b[38;5;124m'\u001b[39m)\n\u001b[1;32m----> 9\u001b[0m Plotters\u001b[38;5;241m.\u001b[39mscatter3d(fig,\u001b[43mframe\u001b[49m\u001b[38;5;241;43m.\u001b[39;49m\u001b[43minterest_left_wing_boundry\u001b[49m,\u001b[38;5;124m'\u001b[39m\u001b[38;5;124mmagenta\u001b[39m\u001b[38;5;124m'\u001b[39m,\u001b[38;5;241m6\u001b[39m,\u001b[38;5;124m'\u001b[39m\u001b[38;5;124mtagged points\u001b[39m\u001b[38;5;124m'\u001b[39m,show_colorbar \u001b[38;5;241m=\u001b[39m \u001b[38;5;28;01mFalse\u001b[39;00m,mode\u001b[38;5;241m=\u001b[39m\u001b[38;5;124m'\u001b[39m\u001b[38;5;124m markers\u001b[39m\u001b[38;5;124m'\u001b[39m)\n\u001b[0;32m     11\u001b[0m Plotters\u001b[38;5;241m.\u001b[39mscatter3d(fig,frame\u001b[38;5;241m.\u001b[39mbody,\u001b[38;5;124m'\u001b[39m\u001b[38;5;124mgreen\u001b[39m\u001b[38;5;124m'\u001b[39m,\u001b[38;5;241m4\u001b[39m,\u001b[38;5;124m'\u001b[39m\u001b[38;5;124mbody\u001b[39m\u001b[38;5;124m'\u001b[39m,show_colorbar \u001b[38;5;241m=\u001b[39m \u001b[38;5;28;01mFalse\u001b[39;00m,mode\u001b[38;5;241m=\u001b[39m\u001b[38;5;124m'\u001b[39m\u001b[38;5;124m markers\u001b[39m\u001b[38;5;124m'\u001b[39m)\n\u001b[0;32m     13\u001b[0m fig\u001b[38;5;241m.\u001b[39mshow()\n",
      "\u001b[1;31mAttributeError\u001b[0m: 'Evaluation' object has no attribute 'interest_left_wing_boundry'"
     ]
    }
   ],
   "source": [
    "frame = all_frames[0]\n",
    "\n",
    "\n",
    "\n",
    "\n",
    "\n",
    "fig = go.Figure()\n",
    "Plotters.scatter3d(fig,frame.left_wing_boundary,'crimson',4,'right wing boundary',show_colorbar = False,mode='lines + markers')\n",
    "Plotters.scatter3d(fig,frame.interest_left_wing_boundry,'magenta',6,'tagged points',show_colorbar = False,mode=' markers')\n",
    "\n",
    "Plotters.scatter3d(fig,frame.body,'green',4,'body',show_colorbar = False,mode=' markers')\n",
    "\n",
    "fig.show()"
   ]
  },
  {
   "cell_type": "code",
   "execution_count": 58,
   "metadata": {},
   "outputs": [
    {
     "data": {
      "text/plain": [
       "[<matplotlib.lines.Line2D at 0x1d7d2640910>]"
      ]
     },
     "execution_count": 58,
     "metadata": {},
     "output_type": "execute_result"
    }
   ],
   "source": [
    "frame = all_frames[0]\n",
    "right_bound = frame.right_wing_boundary \n",
    "right_bound_center =  right_bound - np.mean(right_bound,axis = 0)\n",
    "chord = frame.right_wing_chord\n",
    "span = frame.right_wing_span\n",
    "left_bound_chord = np.dot(right_bound_center,chord)\n",
    "left_bound_span = np.dot(right_bound_center,span)\n",
    "\n",
    "points = np.column_stack((left_bound_span,left_bound_chord))\n",
    "idx_to_roll = np.argmin(left_bound_span)\n",
    "\n",
    "plt.plot(left_bound_span,left_bound_chord)\n"
   ]
  },
  {
   "cell_type": "code",
   "execution_count": 13,
   "metadata": {},
   "outputs": [
    {
     "data": {
      "text/plain": [
       "[1620,\n",
       " 1031,\n",
       " 352,\n",
       " 443,\n",
       " 271,\n",
       " 492,\n",
       " 865,\n",
       " 223,\n",
       " 261,\n",
       " 1049,\n",
       " 482,\n",
       " 1053,\n",
       " 981,\n",
       " 252,\n",
       " 238,\n",
       " 890,\n",
       " 983,\n",
       " 1166,\n",
       " 960,\n",
       " 834,\n",
       " 757,\n",
       " 483,\n",
       " 839,\n",
       " 1104,\n",
       " 1692,\n",
       " 863,\n",
       " 854,\n",
       " 1341,\n",
       " 943,\n",
       " 958,\n",
       " 1650,\n",
       " 384,\n",
       " 2055,\n",
       " 1250,\n",
       " 1215,\n",
       " 969,\n",
       " 418,\n",
       " 1257,\n",
       " 1060,\n",
       " 436,\n",
       " 4272,\n",
       " 2346,\n",
       " 3605,\n",
       " 4211,\n",
       " 2926,\n",
       " 2347,\n",
       " 2366,\n",
       " 2656,\n",
       " 3190,\n",
       " 2618,\n",
       " 2984,\n",
       " 3186,\n",
       " 1012,\n",
       " 2979,\n",
       " 4213,\n",
       " 4448,\n",
       " 1499,\n",
       " 4205,\n",
       " 4373,\n",
       " 2532,\n",
       " 306,\n",
       " 2088,\n",
       " 318,\n",
       " 505,\n",
       " 2000,\n",
       " 296,\n",
       " 2097,\n",
       " 2774,\n",
       " 292,\n",
       " 1625,\n",
       " 2870,\n",
       " 1762,\n",
       " 334,\n",
       " 2553,\n",
       " 2565,\n",
       " 344,\n",
       " 3903,\n",
       " 2195,\n",
       " 2390,\n",
       " 2245,\n",
       " 3075,\n",
       " 2939,\n",
       " 1834,\n",
       " 3163,\n",
       " 2237,\n",
       " 4255,\n",
       " 2961,\n",
       " 920,\n",
       " 2935,\n",
       " 2129,\n",
       " 493,\n",
       " 488,\n",
       " 2216,\n",
       " 3115,\n",
       " 480,\n",
       " 1085,\n",
       " 2011,\n",
       " 4950,\n",
       " 3771,\n",
       " 405,\n",
       " 5817,\n",
       " 3698,\n",
       " 3099,\n",
       " 4696,\n",
       " 1695,\n",
       " 413,\n",
       " 4617,\n",
       " 1003,\n",
       " 3159,\n",
       " 3090,\n",
       " 3893,\n",
       " 5869,\n",
       " 489,\n",
       " 2033,\n",
       " 5715,\n",
       " 5656,\n",
       " 5865,\n",
       " 4601,\n",
       " 2672,\n",
       " 2156,\n",
       " 4954,\n",
       " 2036,\n",
       " 1165,\n",
       " 4538,\n",
       " 3578,\n",
       " 2872,\n",
       " 1248,\n",
       " 2657,\n",
       " 1157,\n",
       " 2708,\n",
       " 4690,\n",
       " 2783,\n",
       " 681,\n",
       " 2016,\n",
       " 2027,\n",
       " 1950,\n",
       " 691,\n",
       " 3096,\n",
       " 1975,\n",
       " 3068,\n",
       " 1923,\n",
       " 5369,\n",
       " 5818,\n",
       " 1266,\n",
       " 3702,\n",
       " 1194,\n",
       " 3706,\n",
       " 5290,\n",
       " 1568,\n",
       " 1485,\n",
       " 3741,\n",
       " 1246]"
      ]
     },
     "execution_count": 13,
     "metadata": {},
     "output_type": "execute_result"
    }
   ],
   "source": [
    "[int(mov_name.split('_')[3])\n",
    "  for mov_name in all_movs.keys()]"
   ]
  },
  {
   "cell_type": "code",
   "execution_count": 118,
   "metadata": {},
   "outputs": [
    {
     "ename": "NameError",
     "evalue": "name 'all_movs' is not defined",
     "output_type": "error",
     "traceback": [
      "\u001b[1;31m---------------------------------------------------------------------------\u001b[0m",
      "\u001b[1;31mNameError\u001b[0m                                 Traceback (most recent call last)",
      "Cell \u001b[1;32mIn[118], line 10\u001b[0m\n\u001b[0;32m      8\u001b[0m framestart \u001b[38;5;241m=\u001b[39m \u001b[38;5;241m1031\u001b[39m\n\u001b[0;32m      9\u001b[0m frame_end \u001b[38;5;241m=\u001b[39m \u001b[38;5;241m1032\u001b[39m\n\u001b[1;32m---> 10\u001b[0m frames \u001b[38;5;241m=\u001b[39m [\u001b[38;5;28mint\u001b[39m(mov_name\u001b[38;5;241m.\u001b[39msplit(\u001b[38;5;124m'\u001b[39m\u001b[38;5;124m_\u001b[39m\u001b[38;5;124m'\u001b[39m)[\u001b[38;5;241m3\u001b[39m]) \u001b[38;5;28;01mfor\u001b[39;00m mov_name \u001b[38;5;129;01min\u001b[39;00m \u001b[43mall_movs\u001b[49m\u001b[38;5;241m.\u001b[39mkeys()]\n\u001b[0;32m     12\u001b[0m output_path \u001b[38;5;241m=\u001b[39m \u001b[38;5;124mf\u001b[39m\u001b[38;5;124m'\u001b[39m\u001b[38;5;132;01m{\u001b[39;00mpath_output\u001b[38;5;132;01m}\u001b[39;00m\u001b[38;5;124m/\u001b[39m\u001b[38;5;132;01m{\u001b[39;00mmodel_name\u001b[38;5;132;01m}\u001b[39;00m\u001b[38;5;124m/animated_plot.html\u001b[39m\u001b[38;5;124m'\u001b[39m\n\u001b[0;32m     15\u001b[0m \u001b[38;5;66;03m# === HELPERS ===\u001b[39;00m\n",
      "\u001b[1;31mNameError\u001b[0m: name 'all_movs' is not defined"
     ]
    }
   ],
   "source": [
    "import plotly.graph_objects as go\n",
    "import numpy as np\n",
    "\n",
    "\n",
    "color_list = ['lime','crimson','magenta','magenta','dodgerblue','blue','blue','black','orange']\n",
    "name_list = ['body','right wing','right wing le','right wing te','left wing','left wing le','left wing te','Ground truth','gaussian points']\n",
    "size_list = [2,2,4,4,2,4,4,5,5]\n",
    "framestart = 1031\n",
    "frame_end = 1032\n",
    "frames = [int(mov_name.split('_')[3]) for mov_name in all_movs.keys()]\n",
    "\n",
    "output_path = f'{path_output}/{model_name}/animated_plot.html'\n",
    "\n",
    "\n",
    "# === HELPERS ===\n",
    "\n",
    "def create_scatter3d(xyz, color,name,size = 2):\n",
    "    \"\"\"Create a single 3D scatter trace for a specific part.\"\"\"\n",
    "    return go.Scatter3d(\n",
    "        x=xyz[:, 0],\n",
    "        y=xyz[:, 1],\n",
    "        z=xyz[:, 2],\n",
    "        mode=\"markers\",\n",
    "        name = name,\n",
    "        marker=dict(size=size, opacity=1, color=color, colorscale='gray'),\n",
    "    )\n",
    "\n",
    "\n",
    "def get_global_bounds(xyz_list):\n",
    "    \"\"\"Compute global min and max coordinates over all frames for consistent axis scaling.\"\"\"\n",
    "    return np.min(xyz_list, axis=0), np.max(xyz_list, axis=0)\n",
    "\n",
    "\n",
    "def create_frame(parts_list, color_list,size_list, frame_name,name_list):\n",
    "    \"\"\"Create one animation frame with all parts for a given timestep.\"\"\"\n",
    "    data = [\n",
    "        create_scatter3d(part, color,name,size)\n",
    "        for part, color,size,name in zip(parts_list, color_list, size_list,name_list)\n",
    "    ]\n",
    "    return go.Frame(data=data, name=frame_name)\n",
    "\n",
    "\n",
    "def create_play_pause_buttons():\n",
    "    \"\"\"Return Play/Pause button definitions for animation.\"\"\"\n",
    "    return [\n",
    "        {\n",
    "            \"buttons\": [\n",
    "                {\n",
    "                    \"args\": [None, {\"frame\": {\"duration\": 100, \"redraw\": True}, \"fromcurrent\": True}],\n",
    "                    \"label\": \"Play\",\n",
    "                    \"method\": \"animate\",\n",
    "                },\n",
    "                {\n",
    "                    \"args\": [[None], {\"frame\": {\"duration\": 0, \"redraw\": True}, \"mode\": \"immediate\"}],\n",
    "                    \"label\": \"Pause\",\n",
    "                    \"method\": \"animate\",\n",
    "                },\n",
    "            ],\n",
    "            \"direction\": \"left\",\n",
    "            \"pad\": {\"r\": 10, \"t\": 87},\n",
    "            \"showactive\": False,\n",
    "            \"type\": \"buttons\",\n",
    "            \"x\": 0.1,\n",
    "            \"xanchor\": \"right\",\n",
    "            \"y\": 0,\n",
    "            \"yanchor\": \"top\",\n",
    "        }\n",
    "    ]\n",
    "\n",
    "def create_slider(frame_nums):\n",
    "    \"\"\"Create a slider using actual frame numbers.\"\"\"\n",
    "    return [\n",
    "        {\n",
    "            \"active\": 0,\n",
    "            \"steps\": [\n",
    "                {\n",
    "                    \"args\": [[str(i)], {\"frame\": {\"duration\": 100, \"redraw\": True}, \"mode\": \"immediate\"}],\n",
    "                    \"label\": str(frame_num),\n",
    "                    \"method\": \"animate\",\n",
    "                }\n",
    "                for i, frame_num in enumerate(frame_nums)\n",
    "            ],\n",
    "        }\n",
    "    ]\n",
    "\n",
    "\n",
    "# === MAIN FUNCTION ===\n",
    "\n",
    "def create_3d_animation(frames_list, color_list,xyz_all_frames,size_list,name_list):\n",
    "    \"\"\"Build and show the 3D animation.\"\"\"\n",
    "    # frame_nums = [f.frame_num for f in frames_list[framestart - frame0:frame_end - frame0]]\n",
    "    frame_nums = [frame.frame_num for frame in frames_list]\n",
    "    min_xyz, max_xyz = get_global_bounds(xyz_all_frames)\n",
    "\n",
    "    # Initial frame data\n",
    "    intial_parts = [frames_list[0].body,frames_list[0].right_wing,frames_list[0].right_wing_le,frames_list[0].right_wing_te,frames_list[0].left_wing,frames_list[0].left_wing_le,frames_list[0].left_wing_te, frames_list[0].rotated_points_3d]\n",
    "    initial_data = [\n",
    "        create_scatter3d(part, color,name,size)\n",
    "        for  part,color,size,name in zip(intial_parts, color_list,size_list,name_list)\n",
    "    ]\n",
    "    bounding_box_trace = go.Scatter3d(\n",
    "\n",
    "    mode='markers',\n",
    "    marker=dict(size=0.1, color='rgba(0,0,0,0)'),\n",
    "    showlegend=False\n",
    "    )\n",
    "    initial_data.append(bounding_box_trace)\n",
    "    # Create frames for animation\n",
    "    frames_data = [\n",
    "        create_frame([xyz_frame.body,xyz_frame.right_wing,xyz_frame.right_wing_le,xyz_frame.right_wing_te,xyz_frame.left_wing,xyz_frame.left_wing_le,xyz_frame.left_wing_te, xyz_frame.rotated_points_3d], color_list,size_list, str(i),name_list)\n",
    "        for i, xyz_frame in enumerate(frames_list)\n",
    "    ]\n",
    "\n",
    "    # Build full figure\n",
    "    fig = go.Figure(\n",
    "        data=initial_data,\n",
    "        layout=go.Layout(\n",
    "            scene=dict(\n",
    "                xaxis_title=\"X\",\n",
    "                yaxis_title=\"Y\",\n",
    "                zaxis_title=\"Z\",\n",
    "            ),\n",
    "            updatemenus=create_play_pause_buttons(),\n",
    "            sliders=create_slider(frame_nums),\n",
    "        ),\n",
    "        frames=frames_data,\n",
    "    )\n",
    "\n",
    "    fig.show()\n",
    "    fig.write_html(output_path)\n",
    "    print(f\"Saved animation to: {output_path}\")\n",
    "\n",
    "frame_list = [all_movs[mov_name][1] for mov_name in all_movs.keys()]\n",
    "xyz_all_frames = np.vstack([frame.xyz_rotated*1000 for frame in frame_list])\n",
    "create_3d_animation(frame_list, color_list,xyz_all_frames,size_list,name_list)\n",
    "\n",
    "\n",
    "\n",
    "\n",
    "    # point_3d_per_frame.append(np.vstack(points_3d))\n",
    "    # gaussians_interest_points.append(gaussian_points)"
   ]
  },
  {
   "cell_type": "code",
   "execution_count": null,
   "metadata": {},
   "outputs": [
    {
     "data": {
      "text/plain": [
       "[<Evaluation.Evaluation at 0x1e809a5b5b0>,\n",
       " <Evaluation.Evaluation at 0x1e809a5ab60>,\n",
       " <Evaluation.Evaluation at 0x1e809bb2ad0>,\n",
       " <Evaluation.Evaluation at 0x1e80b75eb30>,\n",
       " <Evaluation.Evaluation at 0x1e80d7872e0>,\n",
       " <Evaluation.Evaluation at 0x1e80d80ba90>,\n",
       " <Evaluation.Evaluation at 0x1e80f850280>,\n",
       " <Evaluation.Evaluation at 0x1e80f8d4a30>,\n",
       " <Evaluation.Evaluation at 0x1e8109251e0>,\n",
       " <Evaluation.Evaluation at 0x1e810999990>,\n",
       " <Evaluation.Evaluation at 0x1e8129c2140>,\n",
       " <Evaluation.Evaluation at 0x1e812a468f0>,\n",
       " <Evaluation.Evaluation at 0x1e813b9f0a0>,\n",
       " <Evaluation.Evaluation at 0x1e813c23850>,\n",
       " <Evaluation.Evaluation at 0x1e815c54040>,\n",
       " <Evaluation.Evaluation at 0x1e815cdc7c0>,\n",
       " <Evaluation.Evaluation at 0x1e816d20f70>,\n",
       " <Evaluation.Evaluation at 0x1e816dad720>,\n",
       " <Evaluation.Evaluation at 0x1e818dcded0>,\n",
       " <Evaluation.Evaluation at 0x1e818e56680>,\n",
       " <Evaluation.Evaluation at 0x1e819e92e30>,\n",
       " <Evaluation.Evaluation at 0x1e819f1f5e0>,\n",
       " <Evaluation.Evaluation at 0x1e812acbd90>,\n",
       " <Evaluation.Evaluation at 0x1e812b7c580>,\n",
       " <Evaluation.Evaluation at 0x1e81d13cd30>,\n",
       " <Evaluation.Evaluation at 0x1e81d1b94e0>,\n",
       " <Evaluation.Evaluation at 0x1e81f1d9c90>,\n",
       " <Evaluation.Evaluation at 0x1e820236440>,\n",
       " <Evaluation.Evaluation at 0x1e8202aebf0>,\n",
       " <Evaluation.Evaluation at 0x1e82032f3a0>,\n",
       " <Evaluation.Evaluation at 0x1e821387b50>,\n",
       " <Evaluation.Evaluation at 0x1e8233c4340>,\n",
       " <Evaluation.Evaluation at 0x1e82343cb20>,\n",
       " <Evaluation.Evaluation at 0x1e8244892d0>,\n",
       " <Evaluation.Evaluation at 0x1e824501a80>,\n",
       " <Evaluation.Evaluation at 0x1e826522230>,\n",
       " <Evaluation.Evaluation at 0x1e82659e9e0>,\n",
       " <Evaluation.Evaluation at 0x1e8275eb190>,\n",
       " <Evaluation.Evaluation at 0x1e827667940>,\n",
       " <Evaluation.Evaluation at 0x1e8296a4130>,\n",
       " <Evaluation.Evaluation at 0x1e82971c8e0>,\n",
       " <Evaluation.Evaluation at 0x1e82a761090>,\n",
       " <Evaluation.Evaluation at 0x1e82a7e5840>,\n",
       " <Evaluation.Evaluation at 0x1e81af21ff0>,\n",
       " <Evaluation.Evaluation at 0x1e81af9e7a0>,\n",
       " <Evaluation.Evaluation at 0x1e81b026f50>,\n",
       " <Evaluation.Evaluation at 0x1e81b09b700>,\n",
       " <Evaluation.Evaluation at 0x1e82fb7bee0>,\n",
       " <Evaluation.Evaluation at 0x1e82fc1c6d0>,\n",
       " <Evaluation.Evaluation at 0x1e830c6ce80>,\n",
       " <Evaluation.Evaluation at 0x1e830ced630>,\n",
       " <Evaluation.Evaluation at 0x1e832d0dde0>,\n",
       " <Evaluation.Evaluation at 0x1e832d9a590>,\n",
       " <Evaluation.Evaluation at 0x1e833dded40>,\n",
       " <Evaluation.Evaluation at 0x1e833e6b4f0>,\n",
       " <Evaluation.Evaluation at 0x1e834ebbca0>,\n",
       " <Evaluation.Evaluation at 0x1e834f60490>,\n",
       " <Evaluation.Evaluation at 0x1e836f74c40>,\n",
       " <Evaluation.Evaluation at 0x1e836fed3f0>,\n",
       " <Evaluation.Evaluation at 0x1e83804dba0>,\n",
       " <Evaluation.Evaluation at 0x1e8380ce350>,\n",
       " <Evaluation.Evaluation at 0x1e83a0f2b00>,\n",
       " <Evaluation.Evaluation at 0x1e83a1632b0>,\n",
       " <Evaluation.Evaluation at 0x1e83b1afa60>,\n",
       " <Evaluation.Evaluation at 0x1e83b250250>,\n",
       " <Evaluation.Evaluation at 0x1e83d270a00>,\n",
       " <Evaluation.Evaluation at 0x1e83d2e91b0>,\n",
       " <Evaluation.Evaluation at 0x1e83e335960>,\n",
       " <Evaluation.Evaluation at 0x1e83e3be110>,\n",
       " <Evaluation.Evaluation at 0x1e8403de8c0>,\n",
       " <Evaluation.Evaluation at 0x1e84045f070>,\n",
       " <Evaluation.Evaluation at 0x1e8414a7820>,\n",
       " <Evaluation.Evaluation at 0x1e84152ffd0>,\n",
       " <Evaluation.Evaluation at 0x1e8435587c0>,\n",
       " <Evaluation.Evaluation at 0x1e8445b8f70>,\n",
       " <Evaluation.Evaluation at 0x1e84463d720>,\n",
       " <Evaluation.Evaluation at 0x1e846651ed0>,\n",
       " <Evaluation.Evaluation at 0x1e8466da680>,\n",
       " <Evaluation.Evaluation at 0x1e84674ee30>,\n",
       " <Evaluation.Evaluation at 0x1e84779b5e0>,\n",
       " <Evaluation.Evaluation at 0x1e8487fbd90>,\n",
       " <Evaluation.Evaluation at 0x1e848884580>,\n",
       " <Evaluation.Evaluation at 0x1e84a8b4d30>,\n",
       " <Evaluation.Evaluation at 0x1e84a9354e0>,\n",
       " <Evaluation.Evaluation at 0x1e82a879c90>,\n",
       " <Evaluation.Evaluation at 0x1e82a8fa440>,\n",
       " <Evaluation.Evaluation at 0x1e82a97ebf0>,\n",
       " <Evaluation.Evaluation at 0x1e82a9ff3a0>,\n",
       " <Evaluation.Evaluation at 0x1e82aa7fb50>,\n",
       " <Evaluation.Evaluation at 0x1e82ab1c340>,\n",
       " <Evaluation.Evaluation at 0x1e82ab9caf0>,\n",
       " <Evaluation.Evaluation at 0x1e82ac192a0>,\n",
       " <Evaluation.Evaluation at 0x1e853069a50>,\n",
       " <Evaluation.Evaluation at 0x1e8530ea200>,\n",
       " <Evaluation.Evaluation at 0x1e85413e9b0>,\n",
       " <Evaluation.Evaluation at 0x1e8541bf160>,\n",
       " <Evaluation.Evaluation at 0x1e855217910>,\n",
       " <Evaluation.Evaluation at 0x1e8552b0100>,\n",
       " <Evaluation.Evaluation at 0x1e8572cc8b0>,\n",
       " <Evaluation.Evaluation at 0x1e857359060>,\n",
       " <Evaluation.Evaluation at 0x1e8583a5810>,\n",
       " <Evaluation.Evaluation at 0x1e858421fc0>,\n",
       " <Evaluation.Evaluation at 0x1e85a44a770>,\n",
       " <Evaluation.Evaluation at 0x1e85b4a6f20>,\n",
       " <Evaluation.Evaluation at 0x1e85b5276d0>,\n",
       " <Evaluation.Evaluation at 0x1e85b59be80>,\n",
       " <Evaluation.Evaluation at 0x1e85d5d8670>,\n",
       " <Evaluation.Evaluation at 0x1e85e630e20>,\n",
       " <Evaluation.Evaluation at 0x1e85e6b55d0>,\n",
       " <Evaluation.Evaluation at 0x1e85f701d80>,\n",
       " <Evaluation.Evaluation at 0x1e85f792530>,\n",
       " <Evaluation.Evaluation at 0x1e8617a6ce0>,\n",
       " <Evaluation.Evaluation at 0x1e861827490>,\n",
       " <Evaluation.Evaluation at 0x1e86286fc40>,\n",
       " <Evaluation.Evaluation at 0x1e862910430>,\n",
       " <Evaluation.Evaluation at 0x1e864928be0>,\n",
       " <Evaluation.Evaluation at 0x1e8649b1390>,\n",
       " <Evaluation.Evaluation at 0x1e8659f9b40>,\n",
       " <Evaluation.Evaluation at 0x1e865a7a2f0>,\n",
       " <Evaluation.Evaluation at 0x1e867aa2aa0>,\n",
       " <Evaluation.Evaluation at 0x1e867b0f250>,\n",
       " <Evaluation.Evaluation at 0x1e868b6fa00>,\n",
       " <Evaluation.Evaluation at 0x1e868bfc1f0>,\n",
       " <Evaluation.Evaluation at 0x1e86ac289a0>,\n",
       " <Evaluation.Evaluation at 0x1e86acb5150>,\n",
       " <Evaluation.Evaluation at 0x1e86bcfd900>,\n",
       " <Evaluation.Evaluation at 0x1e86bd820b0>,\n",
       " <Evaluation.Evaluation at 0x1e86dd9e860>,\n",
       " <Evaluation.Evaluation at 0x1e86de1f010>,\n",
       " <Evaluation.Evaluation at 0x1e86ee7b7c0>,\n",
       " <Evaluation.Evaluation at 0x1e86ef03f70>,\n",
       " <Evaluation.Evaluation at 0x1e870f38760>,\n",
       " <Evaluation.Evaluation at 0x1e871f80f10>,\n",
       " <Evaluation.Evaluation at 0x1e8720016c0>,\n",
       " <Evaluation.Evaluation at 0x1e874021e70>,\n",
       " <Evaluation.Evaluation at 0x1e8740a2620>,\n",
       " <Evaluation.Evaluation at 0x1e8750fadd0>,\n",
       " <Evaluation.Evaluation at 0x1e875177580>,\n",
       " <Evaluation.Evaluation at 0x1e877197d30>,\n",
       " <Evaluation.Evaluation at 0x1e877238520>,\n",
       " <Evaluation.Evaluation at 0x1e878284cd0>,\n",
       " <Evaluation.Evaluation at 0x1e878309480>,\n",
       " <Evaluation.Evaluation at 0x1e879361c30>,\n",
       " <Evaluation.Evaluation at 0x1e8793de3e0>,\n",
       " <Evaluation.Evaluation at 0x1e87b40ab90>,\n",
       " <Evaluation.Evaluation at 0x1e87b477340>,\n",
       " <Evaluation.Evaluation at 0x1e87b4f3af0>,\n",
       " <Evaluation.Evaluation at 0x1e87b5942e0>,\n",
       " <Evaluation.Evaluation at 0x1e87b614a90>,\n",
       " <Evaluation.Evaluation at 0x1e87b68d240>,\n",
       " <Evaluation.Evaluation at 0x1e87b70d9f0>,\n",
       " <Evaluation.Evaluation at 0x1e87b78a1a0>]"
      ]
     },
     "execution_count": 20,
     "metadata": {},
     "output_type": "execute_result"
    }
   ],
   "source": [
    "frame_list = [all_movs[mov_name][1] for mov_name in all_movs.keys()]"
   ]
  },
  {
   "cell_type": "code",
   "execution_count": 527,
   "metadata": {},
   "outputs": [],
   "source": [
    "    import itertools\n",
    "    yaw_grid = np.hstack(np.arange(0,360,30))\n",
    "    roll_grid = np.hstack(np.arange(-30,30,10))\n",
    "    psi_grid = np.hstack((np.arange(-160,0,30)))\n",
    "    phi_grid = np.hstack((np.arange(-90,90,30)))\n",
    "\n",
    "    roll_yaw = list(itertools.product(yaw_grid,roll_grid))\n",
    "    psi_phi = list(itertools.product(psi_grid,phi_grid))\n",
    "    # roll_yaw = roll_grid\n",
    "    # pitch_grid = np.hstack((0.0,np.arange(-20,0,5),np.arange(5,20,5)))\n",
    "    roll_yaw = roll_yaw + psi_phi"
   ]
  },
  {
   "cell_type": "code",
   "execution_count": 530,
   "metadata": {},
   "outputs": [
    {
     "data": {
      "text/plain": [
       "72"
      ]
     },
     "execution_count": 530,
     "metadata": {},
     "output_type": "execute_result"
    }
   ],
   "source": [
    "108-36"
   ]
  },
  {
   "cell_type": "code",
   "execution_count": 54,
   "metadata": {},
   "outputs": [
    {
     "ename": "AttributeError",
     "evalue": "'FlyOutput' object has no attribute 'dist_points'",
     "output_type": "error",
     "traceback": [
      "\u001b[1;31m---------------------------------------------------------------------------\u001b[0m",
      "\u001b[1;31mAttributeError\u001b[0m                            Traceback (most recent call last)",
      "Cell \u001b[1;32mIn[54], line 29\u001b[0m\n\u001b[0;32m     27\u001b[0m r_line_points \u001b[38;5;241m=\u001b[39m frame\u001b[38;5;241m.\u001b[39mright_wing_origin \u001b[38;5;241m+\u001b[39m t[:, np\u001b[38;5;241m.\u001b[39mnewaxis] \u001b[38;5;241m*\u001b[39m frame\u001b[38;5;241m.\u001b[39mright_wing_span\n\u001b[0;32m     28\u001b[0m l_line_points \u001b[38;5;241m=\u001b[39m frame\u001b[38;5;241m.\u001b[39mleft_wing_origin \u001b[38;5;241m+\u001b[39m t[:, np\u001b[38;5;241m.\u001b[39mnewaxis] \u001b[38;5;241m*\u001b[39m frame\u001b[38;5;241m.\u001b[39mleft_wing_span\n\u001b[1;32m---> 29\u001b[0m idx_closest \u001b[38;5;241m=\u001b[39m np\u001b[38;5;241m.\u001b[39munique([np\u001b[38;5;241m.\u001b[39margsort(frame\u001b[38;5;241m.\u001b[39mdist_points(point,frame\u001b[38;5;241m.\u001b[39mbody))[\u001b[38;5;241m0\u001b[39m:\u001b[38;5;241m10\u001b[39m] \u001b[38;5;28;01mfor\u001b[39;00m point \u001b[38;5;129;01min\u001b[39;00m r_line_points])\n\u001b[0;32m     30\u001b[0m \u001b[38;5;66;03m# idx_origin = np.argmin(np.dot(frame.body[idx_closest,:],frame.right_wing_direction))\u001b[39;00m\n\u001b[0;32m     31\u001b[0m idx_origin \u001b[38;5;241m=\u001b[39m np\u001b[38;5;241m.\u001b[39margmax([np\u001b[38;5;241m.\u001b[39mmin(np\u001b[38;5;241m.\u001b[39mdot(frame\u001b[38;5;241m.\u001b[39mbody[idx_closest,:],r_line_points\u001b[38;5;241m.\u001b[39mT)) \u001b[38;5;28;01mfor\u001b[39;00m idx_closest \u001b[38;5;129;01min\u001b[39;00m idx_closest])\n",
      "Cell \u001b[1;32mIn[54], line 29\u001b[0m, in \u001b[0;36m<listcomp>\u001b[1;34m(.0)\u001b[0m\n\u001b[0;32m     27\u001b[0m r_line_points \u001b[38;5;241m=\u001b[39m frame\u001b[38;5;241m.\u001b[39mright_wing_origin \u001b[38;5;241m+\u001b[39m t[:, np\u001b[38;5;241m.\u001b[39mnewaxis] \u001b[38;5;241m*\u001b[39m frame\u001b[38;5;241m.\u001b[39mright_wing_span\n\u001b[0;32m     28\u001b[0m l_line_points \u001b[38;5;241m=\u001b[39m frame\u001b[38;5;241m.\u001b[39mleft_wing_origin \u001b[38;5;241m+\u001b[39m t[:, np\u001b[38;5;241m.\u001b[39mnewaxis] \u001b[38;5;241m*\u001b[39m frame\u001b[38;5;241m.\u001b[39mleft_wing_span\n\u001b[1;32m---> 29\u001b[0m idx_closest \u001b[38;5;241m=\u001b[39m np\u001b[38;5;241m.\u001b[39munique([np\u001b[38;5;241m.\u001b[39margsort(\u001b[43mframe\u001b[49m\u001b[38;5;241;43m.\u001b[39;49m\u001b[43mdist_points\u001b[49m(point,frame\u001b[38;5;241m.\u001b[39mbody))[\u001b[38;5;241m0\u001b[39m:\u001b[38;5;241m10\u001b[39m] \u001b[38;5;28;01mfor\u001b[39;00m point \u001b[38;5;129;01min\u001b[39;00m r_line_points])\n\u001b[0;32m     30\u001b[0m \u001b[38;5;66;03m# idx_origin = np.argmin(np.dot(frame.body[idx_closest,:],frame.right_wing_direction))\u001b[39;00m\n\u001b[0;32m     31\u001b[0m idx_origin \u001b[38;5;241m=\u001b[39m np\u001b[38;5;241m.\u001b[39margmax([np\u001b[38;5;241m.\u001b[39mmin(np\u001b[38;5;241m.\u001b[39mdot(frame\u001b[38;5;241m.\u001b[39mbody[idx_closest,:],r_line_points\u001b[38;5;241m.\u001b[39mT)) \u001b[38;5;28;01mfor\u001b[39;00m idx_closest \u001b[38;5;129;01min\u001b[39;00m idx_closest])\n",
      "\u001b[1;31mAttributeError\u001b[0m: 'FlyOutput' object has no attribute 'dist_points'"
     ]
    }
   ],
   "source": [
    "frame = 370\n",
    "color = frames_list[frame - frame0].color\n",
    "idx_part = frames_list[frame - frame0].idx_parts\n",
    "\n",
    "\n",
    "grayscale = (color[:,0] - color[:,0].min()) / (color[:,0].max() - color[:,0].min())\n",
    "\n",
    "opacity = frames_list[frame - frame0].opacity * grayscale\n",
    "# grayscale = grayscale[grayscale <1]\n",
    "\n",
    "frame = frames_list[frame-frame0]\n",
    "fig = go.Figure()\n",
    "Plotters.scatter3d(fig,frame.body,'green',3,'body',show_colorbar = False)\n",
    "Plotters.scatter3d(fig,frame.right_wing,opacity[idx_part[1]],2,'right wing',show_colorbar = False)\n",
    "Plotters.scatter3d(fig,frame.left_wing,opacity[idx_part[2]],2,'left wing',show_colorbar = False)\n",
    "Plotters.scatter3d(fig,frame.rotated_points_3d[7:8,:],'blue',5,'interest',show_colorbar = False)\n",
    "# Plotters.scatter3d(fig,frames_list[frame-frame0].gaussian_closest_to_interest,'orange',5,'interest gauss',show_colorbar = False)\n",
    "Plotters.scatter3d(fig,frame.right_wing_le,'magenta',4,'le',show_colorbar = False)\n",
    "Plotters.scatter3d(fig,frame.right_wing_te,'cyan',4,'te',show_colorbar = False)\n",
    "\n",
    "Plotters.scatter3d(fig,frame.left_wing_le,'magenta',4,'le',show_colorbar = False)\n",
    "Plotters.scatter3d(fig,frame.left_wing_te,'cyan',4,'te',show_colorbar = False)\n",
    "\n",
    "\n",
    "t = np.linspace(-0.001, 0.0015, 100)  # Small range since your data seems very small-scale\n",
    "\n",
    "r_line_points = frame.right_wing_origin + t[:, np.newaxis] * frame.right_wing_span\n",
    "l_line_points = frame.left_wing_origin + t[:, np.newaxis] * frame.left_wing_span\n",
    "idx_closest = np.unique([np.argsort(frame.dist_points(point,frame.body))[0:10] for point in r_line_points])\n",
    "# idx_origin = np.argmin(np.dot(frame.body[idx_closest,:],frame.right_wing_direction))\n",
    "idx_origin = np.argmax([np.min(np.dot(frame.body[idx_closest,:],r_line_points.T)) for idx_closest in idx_closest])\n",
    "idx_origin\n",
    "\n",
    "\n",
    "Plotters.scatter3d(fig,r_line_points,'orange',3,'wing',show_colorbar = False)\n",
    "Plotters.scatter3d(fig,l_line_points,'orange',3,'wing',show_colorbar = False)\n",
    "# Plotters.scatter3d(fig,np.atleast_2d(frame.body[idx_closest[idx_origin],:]),'black',10,'wing',show_colorbar = False)\n",
    "\n",
    "# Plotters.scatter3d(fig,frame.gaussian_closest_to_interest,'orange',5,'interest gauss',show_colorbar = False)\n",
    "# Plotters.scatter3d(fig,frame.body_interest_gaussian,'orange',5,'interest gauss',show_colorbar = False)\n",
    "# dot_on_le = np.dot(-frame.right_wing_direction,frame.right_wing_le.T)\n",
    "# length = (np.max(dot_on_le) - np.min(dot_on_le))\n",
    "# lt20p = frame.right_wing_le[(dot_on_le  - np.min(dot_on_le))> length*0.1,:]\n",
    "# Plotters.scatter3d(fig,frame.rotated_points_3d[8:16],'orange',3,'interest gauss',show_colorbar = False)\n",
    "# Plotters.scatter3d(fig, np.vstack((np.mean(frame.bottom,axis = 0) - frame.xbody*2/1000,np.mean(frame.body,axis = 0) + frame.xbody*2/1000)),'black',5,'x',mode = 'markers+lines') \n",
    "# Plotters.scatter3d(fig, lt20p,'magenta',5,'x') \n",
    "# Plotters.scatter3d(fig,bod_ax_top,'black',3,'body',show_colorbar = False)\n",
    "\n",
    "# Plotters.scatter3d(fig, np.atleast_2d(frame.interest_on_xbody),'black',10,'inter_on_body',mode = 'markers+lines') \n",
    "# Plotters.scatter3d(fig, frame.rotated_points_3d[16:,:],'black',10,'inter',mode = 'markers+lines') \n",
    "\n",
    "\n",
    "# fig.show()\n",
    "\n",
    "# ax = None\n",
    "# ax = Plotters.plot_projections(frame.interest_points_3d[:,:],frame.frames,color = 'magenta',ax = ax, size = 5)\n",
    "# ax = Plotters.plot_projections(frame.gaussian_closest_to_interest_ew[:,:],frame.frames,color = 'orange',ax = ax, size = 5)\n",
    "# # ax = Plotters.plot_projections(frame.body_interest_gaussian_ew[:,:],frame.frames,color = 'orange',ax = ax, size = 5)\n",
    "\n",
    "# ax = None\n",
    "# ax = Plotters.plot_projections(frame.right_wing_ew[:,:],frame.frames,color = 'red',ax = ax, size = 5)\n",
    "# ax = Plotters.plot_projections(frame.left_wing_ew[:,:],frame.frames,color = 'blue',ax = ax, size = 5)\n"
   ]
  },
  {
   "cell_type": "code",
   "execution_count": null,
   "metadata": {},
   "outputs": [
    {
     "data": {
      "text/plain": [
       "0.002344680935456922"
      ]
     },
     "execution_count": 49,
     "metadata": {},
     "output_type": "execute_result"
    }
   ],
   "source": [
    "dot_on_le = np.dot(frame.right_wing_direction,frame.right_wing_le.T)\n",
    "length = (np.max(dot_on_le) - np.min(dot_on_le))\n",
    "lt20p = dot_on_le[dot_on_le > length*0.2,:]"
   ]
  },
  {
   "cell_type": "code",
   "execution_count": 39,
   "metadata": {},
   "outputs": [
    {
     "data": {
      "text/plain": [
       "89"
      ]
     },
     "execution_count": 39,
     "metadata": {},
     "output_type": "execute_result"
    }
   ],
   "source": [
    "idx_origin = np.argmin([np.min(np.dot(frame.body[idx_closest,:],r_line_points.T)) for idx_closest in idx_closest])\n",
    "idx_origin"
   ]
  },
  {
   "cell_type": "code",
   "execution_count": null,
   "metadata": {},
   "outputs": [
    {
     "data": {
      "text/plain": [
       "[<matplotlib.lines.Line2D at 0x1e1859a9990>]"
      ]
     },
     "execution_count": 78,
     "metadata": {},
     "output_type": "execute_result"
    }
   ],
   "source": [
    "wing_bound = np.vstack((frame.right_wing_le,frame.right_wing_te))\n",
    "nrml = np.cross(frame.right_wing_span,frame.right_wing_chord)\n",
    "pts_on_nrml = np.dot(wing_bound,nrml)\n",
    "\n",
    "plt.figure(),plt.plot(pts_on_nrml)\n",
    "std = np.std(pts_on_nrml)\n",
    "mean = np.mean(pts_on_nrml)\n",
    "plt.figure()\n",
    "plt.plot((pts_on_nrml - mean)/std)\n"
   ]
  },
  {
   "cell_type": "code",
   "execution_count": 11,
   "metadata": {},
   "outputs": [
    {
     "data": {
      "text/plain": [
       "[<matplotlib.lines.Line2D at 0x27584b45450>,\n",
       " <matplotlib.lines.Line2D at 0x27584b454b0>]"
      ]
     },
     "execution_count": 11,
     "metadata": {},
     "output_type": "execute_result"
    }
   ],
   "source": [
    "wing_bound = np.vstack((frame.right_wing_le,frame.right_wing_te))\n",
    "nrml = np.cross(frame.right_wing_span,frame.right_wing_chord)\n",
    "pts_on_nrml = np.dot(wing_bound,nrml)\n",
    "std = np.std(pts_on_nrml)\n",
    "mean = np.mean(pts_on_nrml)\n",
    "wing_bound = wing_bound[((pts_on_nrml - mean)/std) < 1.5]\n",
    "\n",
    "indices_wing_bound = frame.cyclic_sort(wing_bound,frame.right_wing_span,frame.right_wing_chord)\n",
    "points_2d = Utils.project_to_plane(wing_bound[indices_wing_bound], np.mean(wing_bound[indices_wing_bound],axis = 0), frame.right_wing_span,frame.right_wing_chord)\n",
    "plt.figure()\n",
    "plt.plot(points_2d[:,0],points_2d[:,1])\n",
    "\n",
    "plt.figure()\n",
    "plt.plot(points_2d)"
   ]
  },
  {
   "cell_type": "code",
   "execution_count": null,
   "metadata": {},
   "outputs": [],
   "source": [
    "\n",
    "wing_gs,interest_rw,interest_lw = frame.zsocre_ol_calc_indices()\n"
   ]
  },
  {
   "cell_type": "code",
   "execution_count": 21,
   "metadata": {},
   "outputs": [
    {
     "data": {
      "text/plain": [
       "<matplotlib.collections.PathCollection at 0x27585f725c0>"
      ]
     },
     "execution_count": 21,
     "metadata": {},
     "output_type": "execute_result"
    }
   ],
   "source": [
    "from scipy.signal import savgol_filter\n",
    "\n",
    "\n",
    "frame = frames_list[-1]\n",
    "wing_bound = np.vstack((frame.right_wing_le,frame.right_wing_te))\n",
    "nrml = np.cross(frame.right_wing_span,frame.right_wing_chord)\n",
    "pts_on_nrml = np.dot(wing_bound,nrml)\n",
    "std = np.std(pts_on_nrml)\n",
    "mean = np.mean(pts_on_nrml)\n",
    "wing_bound = wing_bound[((pts_on_nrml - mean)/std) < 1.5]\n",
    "\n",
    "indices_wing_bound = frame.cyclic_sort(wing_bound,frame.right_wing_span,frame.right_wing_chord)\n",
    "points_2d = Utils.project_to_plane(wing_bound[indices_wing_bound], np.mean(wing_bound[indices_wing_bound],axis = 0), frame.right_wing_span,frame.right_wing_chord)\n",
    "\n",
    "\n",
    "x = savgol_filter(points_2d[:,0], 15, 2)\n",
    "y = savgol_filter(points_2d[:,1], 15, 2)\n",
    "\n",
    "\n",
    "plt.scatter(points_2d[:,0],points_2d[:,1])\n",
    "\n",
    "plt.scatter(x,y)"
   ]
  },
  {
   "cell_type": "code",
   "execution_count": null,
   "metadata": {},
   "outputs": [
    {
     "name": "stderr",
     "output_type": "stream",
     "text": [
      "c:\\Users\\Roni\\anaconda3\\lib\\site-packages\\IPython\\core\\interactiveshell.py:3460: RankWarning:\n",
      "\n",
      "Polyfit may be poorly conditioned\n",
      "\n",
      "c:\\Users\\Roni\\anaconda3\\lib\\site-packages\\IPython\\core\\interactiveshell.py:3460: RankWarning:\n",
      "\n",
      "Polyfit may be poorly conditioned\n",
      "\n",
      "c:\\Users\\Roni\\anaconda3\\lib\\site-packages\\IPython\\core\\interactiveshell.py:3460: RankWarning:\n",
      "\n",
      "Polyfit may be poorly conditioned\n",
      "\n",
      "c:\\Users\\Roni\\anaconda3\\lib\\site-packages\\IPython\\core\\interactiveshell.py:3460: RankWarning:\n",
      "\n",
      "Polyfit may be poorly conditioned\n",
      "\n"
     ]
    }
   ],
   "source": [
    "frame = frames_list[-1]\n",
    "wing_bound = np.vstack((frame.right_wing_le,frame.right_wing_te))\n",
    "nrml = np.cross(frame.right_wing_span,frame.right_wing_chord)\n",
    "pts_on_nrml = np.dot(wing_bound,nrml)\n",
    "std = np.std(pts_on_nrml)\n",
    "mean = np.mean(pts_on_nrml)\n",
    "wing_bound = wing_bound[((pts_on_nrml - mean)/std) < 1.5]\n",
    "\n",
    "indices_wing_bound = frame.cyclic_sort(wing_bound,frame.right_wing_span,frame.right_wing_chord)\n",
    "points_2d = Utils.project_to_plane(wing_bound[indices_wing_bound], np.mean(wing_bound[indices_wing_bound],axis = 0), frame.right_wing_span,frame.right_wing_chord)\n",
    "\n",
    "\n",
    "\n",
    "wing_bound = wing_bound[indices_wing_bound]\n",
    "pts_to_fit = [wing_bound[k:k+3] for k in range(0,wing_bound.shape[0],3)]\n",
    "\n",
    "fit = []\n",
    "for pts in pts_to_fit[:-1]: \n",
    "\n",
    "    dists = np.linalg.norm(np.diff(pts, axis=0), axis=1)\n",
    "    t = np.insert(np.cumsum(dists), 0, 0)  # insert 0 at the beginning\n",
    "    p = np.polyfit(t, pts, 2)\n",
    "    t_fit = np.linspace(t[0], t[-1], 1000)\n",
    "    fit_xyz = np.vstack([np.polyval(p, t_fit) for p in p.T]).T\n",
    "    fit.append(fit_xyz)\n",
    "fit = np.vstack(fit)\n",
    "fig = plt.figure()\n",
    "ax = fig.add_subplot(111, projection='3d')\n",
    "ax.plot(wing_bound[:,0], wing_bound[:,1], wing_bound[:,2], 'ro', label='Original points')\n",
    "ax.plot(fit[:,0], fit[:,1], fit[:,2], 'm-', label='Fitted 2nd order curve')\n",
    "ax.legend()\n",
    "plt.show()"
   ]
  },
  {
   "cell_type": "code",
   "execution_count": 26,
   "metadata": {},
   "outputs": [
    {
     "data": {
      "text/plain": [
       "(21000, 3)"
      ]
     },
     "execution_count": 26,
     "metadata": {},
     "output_type": "execute_result"
    }
   ],
   "source": [
    "fit.shape"
   ]
  },
  {
   "cell_type": "code",
   "execution_count": null,
   "metadata": {},
   "outputs": [],
   "source": [
    "from math import atan2\n",
    "normal_to_wing = np.cross(frame.right_wing_span,frame.right_wing_chord)\n",
    "\n",
    "wing_bound = np.vstack((frame.right_wing_le,frame.right_wing_te))\n",
    "\n",
    "\n",
    "\n",
    "frameidx = 4\n",
    "frame = frames_list[frameidx]\n",
    "wing_bound = np.vstack((frame.right_wing_le,frame.right_wing_te))\n",
    "interest = frames_list[frameidx].rotated_points_3d[frame.interest_right_wing_boundry,:]\n",
    "\n",
    "\n",
    "\n",
    "points_2d = Utils(wing_bound, np.mean(wing_bound,axis = 0), frame.right_wing_span, frame.right_wing_chord)\n",
    "indices = Utils.rotational_sort(points_2d, np.mean(points_2d,axis = 0), clockwise=True)\n",
    "# indices2 = rotational_sort(points_2d, np.mean(points_2d,axis = 0), clockwise=True)\n",
    "\n",
    "\n",
    "wing_bound\n",
    "fig = go.Figure()\n",
    "# Plotters.scatter3d(fig,frame.right_wing,'red',3,'body',show_colorbar = False)\n",
    "# Plotters.scatter3d(fig,interest[indices,:],'black',3,'interest',show_colorbar = False,mode='markers+lines')\n",
    "Plotters.scatter3d(fig,wing_bound[indices2,:],'blue',3,'gs',show_colorbar = False,mode='markers+lines')\n",
    "Plotters.scatter3d(fig,np.atleast_2d(frame.right_wing_origin),'blue',10,'gs',show_colorbar = False,mode='markers+lines')\n",
    "\n",
    "fig.show()\n"
   ]
  },
  {
   "cell_type": "code",
   "execution_count": 30,
   "metadata": {},
   "outputs": [],
   "source": [
    "from math import atan2\n",
    "\n",
    "def argsort(seq):\n",
    "    #http://stackoverflow.com/questions/3382352/equivalent-of-numpy-argsort-in-basic-python/3382369#3382369\n",
    "    #by unutbu\n",
    "    #https://stackoverflow.com/questions/3382352/equivalent-of-numpy-argsort-in-basic-python \n",
    "    # from Boris Gorelik\n",
    "    return sorted(range(len(seq)), key=seq.__getitem__)\n",
    "\n",
    "def rotational_sort(list_of_xy_coords, centre_of_rotation_xy_coord, clockwise=True):\n",
    "    cx,cy=centre_of_rotation_xy_coord\n",
    "    angles = [atan2(x-cx, y-cy) for x,y in list_of_xy_coords]\n",
    "    indices = argsort(angles)\n",
    "    # if clockwise:\n",
    "    #     return [list_of_xy_coords[i] for i in indices]\n",
    "    # else:\n",
    "    #     return [list_of_xy_coords[i] for i in indices[::-1]]\n",
    "    return indices\n",
    "\n",
    "frameidx = 4\n",
    "frame = frames_list[frameidx]\n",
    "wing_bound = np.vstack((frame.right_wing_le,frame.right_wing_te))\n",
    "interest = frames_list[frameidx].rotated_points_3d[frame.interest_right_wing_boundry,:]\n",
    "indices = rotational_sort(interest[:,[1,2]], np.mean(interest[:,[1,2]],axis = 0), clockwise=True)\n",
    "indices2 = rotational_sort(wing_bound[:,[1,2]], np.mean(wing_bound[:,[1,2]],axis = 0), clockwise=True)\n",
    "\n",
    "\n",
    "wing_bound\n",
    "fig = go.Figure()\n",
    "# Plotters.scatter3d(fig,frame.right_wing,'red',3,'body',show_colorbar = False)\n",
    "Plotters.scatter3d(fig,interest[indices,:],'black',3,'interest',show_colorbar = False,mode='markers+lines')\n",
    "Plotters.scatter3d(fig,wing_bound[indices2,:],'blue',3,'gs',show_colorbar = False,mode='markers+lines')\n",
    "Plotters.scatter3d(fig,np.atleast_2d(frame.right_wing_origin),'blue',10,'gs',show_colorbar = False,mode='markers+lines')\n",
    "\n",
    "fig.show()\n"
   ]
  },
  {
   "cell_type": "code",
   "execution_count": 59,
   "metadata": {},
   "outputs": [],
   "source": [
    "import numpy as np\n",
    "import matplotlib.pyplot as plt\n",
    "\n",
    "# Your 3D points (N x 3)\n",
    "points = interest[indices,:]\n",
    "# points = wing_bound[indices2,:]\n",
    "\n",
    "pts_to_fit = [points[k:k+3] for k in range(0,points.shape[0],3)]\n",
    "# pts_to_fit = [points[k:k+5] for k in range(0,points.shape[0],5)]\n",
    "\n",
    "\n",
    "fit = []\n",
    "for pts in pts_to_fit[:-1]: \n",
    "    # Step 1: Generate parameter t (cumulative distance)\n",
    "    dists = np.linalg.norm(np.diff(pts, axis=0), axis=1)\n",
    "    t = np.insert(np.cumsum(dists), 0, 0)  # insert 0 at the beginning\n",
    "\n",
    "    # Step 2: Fit a 2nd degree polynomial separately for x(t), y(t), z(t)\n",
    "    degree = 2\n",
    "    px = np.polyfit(t, pts[:,0], degree)\n",
    "    py = np.polyfit(t, pts[:,1], degree)\n",
    "    pz = np.polyfit(t, pts[:,2], degree)\n",
    "\n",
    "    # To evaluate the fitted curve:\n",
    "    t_fit = np.linspace(t[0], t[-1], 1000)\n",
    "    x_fit = np.polyval(px, t_fit)\n",
    "    y_fit = np.polyval(py, t_fit)\n",
    "    z_fit = np.polyval(pz, t_fit)\n",
    "    fit.append(np.vstack((x_fit, y_fit, z_fit)))\n",
    "fit = np.hstack(fit).T\n",
    "# Plotting\n",
    "# fig = plt.figure()\n",
    "# ax = fig.add_subplot(111, projection='3d')\n",
    "# ax.plot(points[:,0], points[:,1], points[:,2], 'ro', label='Original points')\n",
    "# ax.plot(fit[:,0], fit[:,1], fit[:,2], 'm-', label='Fitted 2nd order curve')\n",
    "# ax.legend()\n",
    "# plt.show()\n"
   ]
  },
  {
   "cell_type": "code",
   "execution_count": 60,
   "metadata": {},
   "outputs": [
    {
     "name": "stderr",
     "output_type": "stream",
     "text": [
      "c:\\Users\\Roni\\anaconda3\\lib\\site-packages\\IPython\\core\\interactiveshell.py:3460: RankWarning:\n",
      "\n",
      "Polyfit may be poorly conditioned\n",
      "\n",
      "c:\\Users\\Roni\\anaconda3\\lib\\site-packages\\IPython\\core\\interactiveshell.py:3460: RankWarning:\n",
      "\n",
      "Polyfit may be poorly conditioned\n",
      "\n",
      "c:\\Users\\Roni\\anaconda3\\lib\\site-packages\\IPython\\core\\interactiveshell.py:3460: RankWarning:\n",
      "\n",
      "Polyfit may be poorly conditioned\n",
      "\n",
      "c:\\Users\\Roni\\anaconda3\\lib\\site-packages\\IPython\\core\\interactiveshell.py:3460: RankWarning:\n",
      "\n",
      "Polyfit may be poorly conditioned\n",
      "\n",
      "c:\\Users\\Roni\\anaconda3\\lib\\site-packages\\IPython\\core\\interactiveshell.py:3460: RankWarning:\n",
      "\n",
      "Polyfit may be poorly conditioned\n",
      "\n",
      "c:\\Users\\Roni\\anaconda3\\lib\\site-packages\\IPython\\core\\interactiveshell.py:3460: RankWarning:\n",
      "\n",
      "Polyfit may be poorly conditioned\n",
      "\n",
      "c:\\Users\\Roni\\anaconda3\\lib\\site-packages\\IPython\\core\\interactiveshell.py:3460: RankWarning:\n",
      "\n",
      "Polyfit may be poorly conditioned\n",
      "\n",
      "c:\\Users\\Roni\\anaconda3\\lib\\site-packages\\IPython\\core\\interactiveshell.py:3460: RankWarning:\n",
      "\n",
      "Polyfit may be poorly conditioned\n",
      "\n",
      "c:\\Users\\Roni\\anaconda3\\lib\\site-packages\\IPython\\core\\interactiveshell.py:3460: RankWarning:\n",
      "\n",
      "Polyfit may be poorly conditioned\n",
      "\n",
      "c:\\Users\\Roni\\anaconda3\\lib\\site-packages\\IPython\\core\\interactiveshell.py:3460: RankWarning:\n",
      "\n",
      "Polyfit may be poorly conditioned\n",
      "\n",
      "c:\\Users\\Roni\\anaconda3\\lib\\site-packages\\IPython\\core\\interactiveshell.py:3460: RankWarning:\n",
      "\n",
      "Polyfit may be poorly conditioned\n",
      "\n",
      "c:\\Users\\Roni\\anaconda3\\lib\\site-packages\\IPython\\core\\interactiveshell.py:3460: RankWarning:\n",
      "\n",
      "Polyfit may be poorly conditioned\n",
      "\n",
      "c:\\Users\\Roni\\anaconda3\\lib\\site-packages\\IPython\\core\\interactiveshell.py:3460: RankWarning:\n",
      "\n",
      "Polyfit may be poorly conditioned\n",
      "\n",
      "c:\\Users\\Roni\\anaconda3\\lib\\site-packages\\IPython\\core\\interactiveshell.py:3460: RankWarning:\n",
      "\n",
      "Polyfit may be poorly conditioned\n",
      "\n",
      "c:\\Users\\Roni\\anaconda3\\lib\\site-packages\\IPython\\core\\interactiveshell.py:3460: RankWarning:\n",
      "\n",
      "Polyfit may be poorly conditioned\n",
      "\n",
      "c:\\Users\\Roni\\anaconda3\\lib\\site-packages\\IPython\\core\\interactiveshell.py:3460: RankWarning:\n",
      "\n",
      "Polyfit may be poorly conditioned\n",
      "\n",
      "c:\\Users\\Roni\\anaconda3\\lib\\site-packages\\IPython\\core\\interactiveshell.py:3460: RankWarning:\n",
      "\n",
      "Polyfit may be poorly conditioned\n",
      "\n",
      "c:\\Users\\Roni\\anaconda3\\lib\\site-packages\\IPython\\core\\interactiveshell.py:3460: RankWarning:\n",
      "\n",
      "Polyfit may be poorly conditioned\n",
      "\n",
      "c:\\Users\\Roni\\anaconda3\\lib\\site-packages\\IPython\\core\\interactiveshell.py:3460: RankWarning:\n",
      "\n",
      "Polyfit may be poorly conditioned\n",
      "\n",
      "c:\\Users\\Roni\\anaconda3\\lib\\site-packages\\IPython\\core\\interactiveshell.py:3460: RankWarning:\n",
      "\n",
      "Polyfit may be poorly conditioned\n",
      "\n",
      "c:\\Users\\Roni\\anaconda3\\lib\\site-packages\\IPython\\core\\interactiveshell.py:3460: RankWarning:\n",
      "\n",
      "Polyfit may be poorly conditioned\n",
      "\n"
     ]
    }
   ],
   "source": [
    "import numpy as np\n",
    "import matplotlib.pyplot as plt\n",
    "\n",
    "# Your 3D points (N x 3)\n",
    "points = interest[indices,:]\n",
    "points = wing_bound[indices2,:]\n",
    "\n",
    "pts_to_fit = [points[k:k+3] for k in range(0,points.shape[0],3)]\n",
    "# pts_to_fit = [points[k:k+5] for k in range(0,points.shape[0],5)]\n",
    "\n",
    "\n",
    "fit2 = []\n",
    "for pts in pts_to_fit[:-1]: \n",
    "    # Step 1: Generate parameter t (cumulative distance)\n",
    "    dists = np.linalg.norm(np.diff(pts, axis=0), axis=1)\n",
    "    t = np.insert(np.cumsum(dists), 0, 0)  # insert 0 at the beginning\n",
    "\n",
    "    # Step 2: Fit a 2nd degree polynomial separately for x(t), y(t), z(t)\n",
    "    degree = 2\n",
    "    px = np.polyfit(t, pts[:,0], degree)\n",
    "    py = np.polyfit(t, pts[:,1], degree)\n",
    "    pz = np.polyfit(t, pts[:,2], degree)\n",
    "\n",
    "    # To evaluate the fitted curve:\n",
    "    t_fit = np.linspace(t[0], t[-1], 1000)\n",
    "    x_fit = np.polyval(px, t_fit)\n",
    "    y_fit = np.polyval(py, t_fit)\n",
    "    z_fit = np.polyval(pz, t_fit)\n",
    "    fit2.append(np.vstack((x_fit, y_fit, z_fit)))\n",
    "fit2 = np.hstack(fit2).T\n",
    "# Plotting\n",
    "# fig = plt.figure()\n",
    "# ax = fig.add_subplot(111, projection='3d')\n",
    "# ax.plot(points[:,0], points[:,1], points[:,2], 'ro', label='Original points')\n",
    "# ax.plot(fit[:,0], fit[:,1], fit[:,2], 'm-', label='Fitted 2nd order curve')\n",
    "# ax.legend()\n",
    "# plt.show()\n"
   ]
  },
  {
   "cell_type": "code",
   "execution_count": 61,
   "metadata": {},
   "outputs": [
    {
     "name": "stderr",
     "output_type": "stream",
     "text": [
      "C:\\Users\\Roni\\AppData\\Local\\Temp\\ipykernel_14272\\387352763.py:4: FutureWarning:\n",
      "\n",
      "arrays to stack must be passed as a \"sequence\" type such as list or tuple. Support for non-sequence iterables such as generators is deprecated as of NumPy 1.16 and will raise an error in the future.\n",
      "\n",
      "C:\\Users\\Roni\\AppData\\Local\\Temp\\ipykernel_14272\\387352763.py:5: FutureWarning:\n",
      "\n",
      "arrays to stack must be passed as a \"sequence\" type such as list or tuple. Support for non-sequence iterables such as generators is deprecated as of NumPy 1.16 and will raise an error in the future.\n",
      "\n"
     ]
    },
    {
     "data": {
      "text/plain": [
       "(array([3399., 5420., 5358., 4233., 2123.,  666.,  294.,  169.,  161.,\n",
       "         177.]),\n",
       " array([0.00934659, 0.03537276, 0.06139894, 0.08742511, 0.11345128,\n",
       "        0.13947745, 0.16550363, 0.1915298 , 0.21755597, 0.24358214,\n",
       "        0.26960831]),\n",
       " <BarContainer object of 10 artists>)"
      ]
     },
     "execution_count": 61,
     "metadata": {},
     "output_type": "execute_result"
    }
   ],
   "source": [
    "\n",
    "def dist_points(x1,x2):\n",
    "    return np.sqrt(np.sum((x1 - x2)**2, axis = 1))\n",
    "\n",
    "gaussian_closest_to_interest = np.vstack((fit2[np.argmin(dist_points(fit2,point)),:] for point in fit))\n",
    "fitted_closest_to_gauss = np.vstack((fit[np.argmin(dist_points(fit,point)),:] for point in fit2))\n",
    "\n",
    "\n",
    "plt.figure()\n",
    "plt.hist(1000*dist_points(gaussian_closest_to_interest,fit))\n",
    "\n",
    "plt.figure()\n",
    "plt.hist(1000*dist_points(fitted_closest_to_gauss,fit2))"
   ]
  },
  {
   "cell_type": "code",
   "execution_count": null,
   "metadata": {},
   "outputs": [],
   "source": [
    "\n",
    "\n",
    "def dist_points(x1,x2):\n",
    "    return np.sqrt(np.sum((x1 - x2)**2, axis = 1))\n",
    "\n",
    "gaussian_closest_to_interest = np.vstack((fit[np.argmin(dist_points(fit,point)),:] for point in wing_bound))\n",
    "\n",
    "\n",
    "    def closest_point_to_interest_boundary(self,wing_boundary,points):   \n",
    "\n",
    "        gaussian_closest_to_interest = np.vstack((wing_boundary[np.argmin(self.dist_points(wing_boundary,point)),:] for point in points))\n",
    "        gaussian_closest_to_interest_ew = (self.ew_to_lab.T @ np.vstack(gaussian_closest_to_interest).T).T\n",
    "        dist_gaus_interest = self.dist_points(gaussian_closest_to_interest[1:,:],gaussian_closest_to_interest[0:-1,:])\n",
    "        dist_interest = self.dist_points(points[1:,:],points[0:-1,:])   \n",
    "        return  gaussian_closest_to_interest,gaussian_closest_to_interest_ew,dist_gaus_interest,dist_interest\n"
   ]
  }
 ],
 "metadata": {
  "kernelspec": {
   "display_name": "base",
   "language": "python",
   "name": "python3"
  },
  "language_info": {
   "codemirror_mode": {
    "name": "ipython",
    "version": 3
   },
   "file_extension": ".py",
   "mimetype": "text/x-python",
   "name": "python",
   "nbconvert_exporter": "python",
   "pygments_lexer": "ipython3",
   "version": "3.10.9"
  }
 },
 "nbformat": 4,
 "nbformat_minor": 2
}
