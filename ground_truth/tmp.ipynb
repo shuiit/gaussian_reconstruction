{
 "cells": [
  {
   "cell_type": "code",
   "execution_count": 1,
   "id": "0a0b1eb8",
   "metadata": {},
   "outputs": [],
   "source": [
    "import numpy as np\n",
    "from Frame import Frame\n",
    "import pickle\n",
    "import math\n",
    "import numpy as np\n",
    "import matplotlib.pyplot as plt\n",
    "from matplotlib import collections\n",
    "from matplotlib import colors as mcolors\n",
    "%matplotlib qt\n",
    "\n",
    "\n",
    "image_path = 'I:/My Drive/Research/gaussian_splatting/gaussian_splatting_input/mov1_2023_08_09_60ms/'\n",
    "dict_path  = 'I:/My Drive/Research/gaussian_splatting/gaussian_splatting_input/mov1_2023_08_09_60ms/dict/frames_model.pkl'\n",
    "\n",
    "frame = 370\n",
    "\n",
    "\n",
    "\n",
    "with open(dict_path,'rb') as f:\n",
    "    frames = pickle.load(f)\n",
    "\n",
    "frames = [Frame(image_path,frame,cam,frames_dict = frames) for cam in range(4)] \n",
    "\n",
    "\n"
   ]
  },
  {
   "cell_type": "code",
   "execution_count": null,
   "id": "3a1f66cd",
   "metadata": {},
   "outputs": [
    {
     "data": {
      "text/plain": [
       "{'cam1': [], 'cam2': [], 'cam3': [], 'cam4': []}"
      ]
     },
     "execution_count": 10,
     "metadata": {},
     "output_type": "execute_result"
    }
   ],
   "source": [
    "mov_frame = 'mov_59_frame_2016'\n",
    "mov = int(mov_frame.split('_')[1]) \n",
    "frame = int(mov_frame.split('_')[3]) \n",
    "\n",
    "\n",
    "path = f'G:/My Drive/Research/gaussian_splatting/gaussian_splatting_input/evaluation/points/mov{mov}/wing1_gt_points_frame{frame}.pkl'\n",
    "with open(path,'rb') as f:\n",
    "    ini_angles1 = pickle.load(f)\n",
    "cam1 = np.vstack(ini_angles1['cam1'])\n",
    "plt.scatter(cam1[:,0],cam1[:,1])\n",
    "path = f'G:/My Drive/Research/gaussian_splatting/gaussian_splatting_input/evaluation/points/mov{mov}/wing2_gt_points_frame{frame}.pkl'\n",
    "with open(path,'rb') as f:\n",
    "    ini_angles2 = pickle.load(f)\n",
    "cam1 = np.vstack(ini_angles2['cam1'])\n",
    "plt.scatter(cam1[:,0],cam1[:,1])"
   ]
  },
  {
   "cell_type": "code",
   "execution_count": 2,
   "id": "7c25ac04",
   "metadata": {},
   "outputs": [],
   "source": [
    "import math\n",
    "import numpy as np\n",
    "import matplotlib.pyplot as plt\n",
    "from matplotlib import collections\n",
    "from matplotlib import colors as mcolors\n",
    "\n",
    "# %matplotlib qt  # You can uncomment if you want external window\n",
    "\n",
    "def get_n_colors(n):\n",
    "    colors = [mcolors.to_rgba(c)\n",
    "                  for c in plt.rcParams['axes.prop_cycle'].by_key()['color']]\n",
    "    colors = colors * math.ceil(n / len(colors))\n",
    "    return colors[:n]\n",
    "\n",
    "def fundamental_matrix(P1, P2, K1, K2):\n",
    "    R1 = P1[:, 0:3]\n",
    "    R2 = P2[:, 0:3]\n",
    "    t1 = P1[:, 3]\n",
    "    t2 = P2[:, 3]\n",
    "\n",
    "    R = R2.T @ R1\n",
    "    t = R1.T @ (t2 - t1)\n",
    "\n",
    "    tx = np.array([[0, -t[2], t[1]],\n",
    "                   [t[2], 0, -t[0]],\n",
    "                   [-t[1], t[0], 0]])\n",
    "    Y = np.linalg.solve(K2.T, R) @ tx\n",
    "    F = np.linalg.solve(K1.T, Y.T).T\n",
    "    return F\n",
    "\n",
    "def lineToBorderPoints(lines, imageSize):\n",
    "    nPts = lines.shape[0]\n",
    "    pts = -np.ones((nPts, 4))\n",
    "    firstRow = 0.5\n",
    "    firstCol = 0.5\n",
    "    lastRow = firstRow + imageSize[0]\n",
    "    lastCol = firstCol + imageSize[1]\n",
    "    eps = np.finfo(np.float32).eps\n",
    "\n",
    "    for iLine in range(nPts):\n",
    "        a = lines[iLine, 1]\n",
    "        b = lines[iLine, 0]\n",
    "        c = lines[iLine, 2]\n",
    "        endPoints = np.zeros((4))\n",
    "        iPoint = 0\n",
    "\n",
    "        if abs(a) > eps:\n",
    "            row = -(b * firstCol + c) / a\n",
    "            if firstRow <= row <= lastRow:\n",
    "                endPoints[iPoint:iPoint+2] = [row, firstCol]\n",
    "                iPoint += 2\n",
    "            row = -(b * lastCol + c) / a\n",
    "            if firstRow <= row <= lastRow:\n",
    "                endPoints[iPoint:iPoint+2] = [row, lastCol]\n",
    "                iPoint += 2\n",
    "        if abs(b) > eps:\n",
    "            if iPoint < 3:\n",
    "                col = -(a * firstRow + c) / b\n",
    "                if firstCol <= col <= lastCol:\n",
    "                    endPoints[iPoint:iPoint+2] = [firstRow, col]\n",
    "                    iPoint += 2\n",
    "            if iPoint < 3:\n",
    "                col = -(a * lastRow + c) / b\n",
    "                if firstCol <= col <= lastCol:\n",
    "                    endPoints[iPoint:iPoint+2] = [lastRow, col]\n",
    "                    iPoint += 2\n",
    "\n",
    "        for i in range(iPoint, 4):\n",
    "            endPoints[i] = -1\n",
    "        pts[iLine, :] = endPoints[[1, 0, 3, 2]]\n",
    "\n",
    "    return pts\n"
   ]
  },
  {
   "cell_type": "code",
   "execution_count": 64,
   "id": "afc06a51",
   "metadata": {},
   "outputs": [
    {
     "data": {
      "text/plain": [
       "(0.8901960784313725, 0.4666666666666667, 0.7607843137254902, 1.0)"
      ]
     },
     "execution_count": 64,
     "metadata": {},
     "output_type": "execute_result"
    }
   ],
   "source": [
    "colors = get_n_colors(80)\n",
    "import random\n",
    "\n",
    "rand_idx = random.randint(0, 80)\n",
    "colors[rand_idx]"
   ]
  },
  {
   "cell_type": "code",
   "execution_count": null,
   "id": "3816eaf9",
   "metadata": {},
   "outputs": [],
   "source": [
    "import itertools as it\n",
    "                     \n",
    "intrinsic = [frames[cam].K for cam in range(4)]\n",
    "rotation_translation = [np.hstack((frames[cam].R.T,frames[cam].X0)) for cam in range(4)]\n",
    "\n",
    "all_intrinsic = [(a, b) for a, b in it.product(intrinsic, repeat=2) if a is not b]\n",
    "all_rotation_translation = [(a, b) for a, b in it.product(rotation_translation, repeat=2) if a is not b]\n",
    "cam_num = [(a, b) for a, b in it.product(range(4), repeat=2) if a != b]\n",
    "\n",
    "F = [fundamental_matrix(P1[0], P1[1], K1[0], K1[1]) for P1, K1 in zip(all_rotation_translation, all_intrinsic)]"
   ]
  },
  {
   "cell_type": "code",
   "execution_count": null,
   "id": "aab712b8",
   "metadata": {},
   "outputs": [
    {
     "data": {
      "text/plain": [
       "{'cam1': [array([[ 7.26675111e-09, -3.95830777e-09, -3.64946880e-05],\n",
       "         [ 1.30728208e-10, -1.86762410e-10, -9.24332246e-07],\n",
       "         [ 2.40395143e-05,  3.83897353e-05, -1.41374421e-03]]),\n",
       "  array([[ 3.80568853e-10,  7.98917496e-09, -3.42222519e-05],\n",
       "         [-2.69805322e-11, -2.43670225e-10,  1.04546163e-06],\n",
       "         [-4.44062119e-05, -3.61312316e-07,  6.40229171e-03]]),\n",
       "  array([[-6.88159861e-09, -3.98338306e-09, -3.60881905e-05],\n",
       "         [ 1.05705276e-10, -5.38644415e-10, -8.62289873e-07],\n",
       "         [ 2.34625511e-05, -3.67843287e-05,  4.09280813e-03]])],\n",
       " 'cam2': [array([[ 7.26675144e-09,  1.30728209e-10,  2.40395143e-05],\n",
       "         [-3.95830838e-09, -1.86761974e-10,  3.83897378e-05],\n",
       "         [-3.64946895e-05, -9.24331210e-07, -1.41373825e-03]]),\n",
       "  array([[-2.15253010e-10,  9.44345845e-09, -3.03902219e-05],\n",
       "         [ 9.50420845e-09,  3.07010830e-11, -2.89633587e-05],\n",
       "         [-3.25198310e-05,  2.83632980e-05,  5.51646734e-03]]),\n",
       "  array([[-1.71164696e-10,  9.70692100e-09, -3.13322446e-05],\n",
       "         [ 9.74395710e-09,  3.01231775e-11,  3.30921796e-05],\n",
       "         [-2.92380083e-05, -3.32193248e-05,  5.64736727e-03]])],\n",
       " 'cam3': [array([[ 3.80568423e-10, -2.69808921e-11, -4.44062152e-05],\n",
       "         [ 7.98917522e-09, -2.43669999e-10, -3.61310264e-07],\n",
       "         [-3.42222527e-05,  1.04546069e-06,  6.40228869e-03]]),\n",
       "  array([[-2.15252977e-10,  9.50420796e-09, -3.25198292e-05],\n",
       "         [ 9.44345892e-09,  3.07021341e-11,  2.83632991e-05],\n",
       "         [-3.03902236e-05, -2.89633574e-05,  5.51644688e-03]]),\n",
       "  array([[-3.20358452e-11,  9.72401948e-09, -3.27614923e-05],\n",
       "         [ 9.60604535e-09,  2.65578510e-10, -3.35110761e-05],\n",
       "         [-2.95520793e-05,  2.81310221e-05,  5.24007133e-03]])],\n",
       " 'cam4': [array([[-6.88159744e-09,  1.05705289e-10,  2.34625522e-05],\n",
       "         [-3.98338228e-09, -5.38644424e-10, -3.67843297e-05],\n",
       "         [-3.60881837e-05, -8.62289901e-07,  4.09280437e-03]]),\n",
       "  array([[-1.71164647e-10,  9.74395709e-09, -2.92380084e-05],\n",
       "         [ 9.70691920e-09,  3.01231858e-11, -3.32193244e-05],\n",
       "         [-3.13322390e-05,  3.30921796e-05,  5.64736625e-03]]),\n",
       "  array([[-3.20358627e-11,  9.60604534e-09, -2.95520793e-05],\n",
       "         [ 9.72401767e-09,  2.65578498e-10,  2.81310225e-05],\n",
       "         [-3.27614864e-05, -3.35110762e-05,  5.24006980e-03]])]}"
      ]
     },
     "execution_count": 58,
     "metadata": {},
     "output_type": "execute_result"
    }
   ],
   "source": [
    "dict_cameras = {f'cam{idx + 1}':[] for idx in range(4)}\n",
    "for idx,cam in enumerate(cam_num):\n",
    "    cam_from = cam[0]\n",
    "    cam_to = cam[1]\n",
    "    dict_cameras[f'cam{cam_from + 1}'].append(F[idx])\n",
    "\n"
   ]
  },
  {
   "cell_type": "code",
   "execution_count": 34,
   "id": "3b8ba057",
   "metadata": {},
   "outputs": [],
   "source": [
    "intrinsic = [frames[cam].K for cam in range(4)]\n",
    "rotation = [frames[cam].R.T for cam in range(4)]\n",
    "translation = [frames[cam].X0 for cam in range(4)]\n",
    "fig, axs = plt.subplots(1, 4)\n",
    "\n",
    "for idx in range(3):\n",
    "    cam_from,cam_to = cam_num[idx]\n",
    "\n",
    "    pixels1 = np.fliplr(frames[cam_from].pixels[:, :])[30:35, :]\n",
    "    num_points = pixels1.shape[0]\n",
    "    axs[0].imshow(np.array(frames[cam_from].im))\n",
    "    axs[cam_to].imshow(np.array(frames[cam_to].im))\n",
    "\n",
    "\n",
    "    fund = F[cam_to]\n",
    "    pix_h = np.concatenate([pixels1, np.ones((pixels1.shape[0], 1))], 1)\n",
    "    epiLines = pix_h @ fund.T\n",
    "    pts = lineToBorderPoints(epiLines, I2.shape)\n",
    "\n",
    "    fig.suptitle('Epipolar lines')\n",
    "    colors = get_n_colors(num_points)\n",
    "    axs[0].scatter(pixels1[:, 0], pixels1[:, 1], c = colors)\n",
    "    lines = np.stack([pts[:, :2], pts[:, 2:]], axis=1)\n",
    "    collection=collections.LineCollection(lines, colors=colors)\n",
    "    axs[cam_to].add_collection(collection)\n",
    "\n",
    "\n",
    "plt.show()"
   ]
  },
  {
   "cell_type": "code",
   "execution_count": null,
   "id": "94b54fed",
   "metadata": {},
   "outputs": [
    {
     "name": "stdout",
     "output_type": "stream",
     "text": [
      "Clicked pixel: [79.62903226 65.5516129 ]\n",
      "Clicked pixel: [ 45.5        130.84193548]\n",
      "Clicked pixel: [119.11290323  68.51935484]\n",
      "Clicked pixel: [ 83.5        139.74516129]\n"
     ]
    }
   ],
   "source": [
    "fig, axs = plt.subplots(1, 4)\n",
    "im_size = [160,160]\n",
    "from IPython.display import display\n",
    "\n",
    "for idx in range(3):        \n",
    "    cam_from,cam_to = cam_num[idx]\n",
    "    axs[0].imshow(np.array(frames[cam_from].im))\n",
    "    axs[cam_to].imshow(np.array(frames[cam_to].im))\n",
    "\n",
    "list_click = []\n",
    "def on_click(event, F, axs, im_size):\n",
    "    # Check if the click happened inside the plot\n",
    "    if event.xdata is None or event.ydata is None:\n",
    "        return  # Don't do anything if the click was outside the image\n",
    "\n",
    "    clicked_pixel = np.array([event.xdata, event.ydata])\n",
    "    print(f\"Clicked pixel: {clicked_pixel}\")\n",
    "    list_click.append(clicked_pixel)\n",
    "\n",
    "    clicked_pixel = np.array([event.xdata, event.ydata])\n",
    "    print(clicked_pixel)\n",
    "    for idx in range(3):\n",
    "\n",
    "        cam_from,cam_to = cam_num[idx]\n",
    "\n",
    "\n",
    "        num_points = clicked_pixel.shape[0]\n",
    "        # axs[0].imshow(np.array(frames[cam_from].im))\n",
    "        # axs[cam_to].imshow(np.array(frames[cam_to].im))\n",
    "\n",
    "        fund = F[idx]\n",
    "        pix_h = np.concatenate([clicked_pixel, np.ones((clicked_pixel.shape[0], 1))], 1)\n",
    "        epiLines = pix_h @ fund.T\n",
    "        pts = lineToBorderPoints(epiLines, im_size)\n",
    "\n",
    "        fig.suptitle('Epipolar lines')\n",
    "        colors = get_n_colors(num_points)\n",
    "        axs[0].scatter(clicked_pixel[:, 0], clicked_pixel[:, 1], c = colors)\n",
    "        lines = np.stack([pts[:, :2], pts[:, 2:]], axis=1)\n",
    "        collection=collections.LineCollection(lines, colors=colors)\n",
    "        axs[cam_to].add_collection(collection)\n",
    "\n",
    "\n",
    "fig.canvas.mpl_connect('button_press_event', lambda event: on_click(event, F, axs, im_size))\n",
    "\n",
    "# Show the plot\n",
    "plt.show()"
   ]
  },
  {
   "cell_type": "code",
   "execution_count": 48,
   "id": "62834c44",
   "metadata": {},
   "outputs": [
    {
     "data": {
      "text/plain": [
       "[array([33.62903226, 29.93870968]),\n",
       " array([33.62903226, 35.87419355]),\n",
       " array([36.59677419, 75.93870968]),\n",
       " array([41.0483871 , 78.90645161]),\n",
       " array([87.0483871 , 77.42258065]),\n",
       " array([92.98387097, 62.58387097]),\n",
       " array([91.5       , 62.58387097]),\n",
       " array([91.5       , 62.58387097]),\n",
       " array([108.72580645,  61.1       ]),\n",
       " array([108.72580645,  61.1       ]),\n",
       " array([122.98387097,  70.00322581]),\n",
       " array([122.98387097,  70.00322581]),\n",
       " array([122.98387097,  70.00322581])]"
      ]
     },
     "execution_count": 48,
     "metadata": {},
     "output_type": "execute_result"
    }
   ],
   "source": [
    "list_click"
   ]
  },
  {
   "cell_type": "code",
   "execution_count": 30,
   "id": "3e08c520",
   "metadata": {},
   "outputs": [
    {
     "ename": "IndexError",
     "evalue": "index 2 is out of bounds for axis 0 with size 2",
     "output_type": "error",
     "traceback": [
      "\u001b[1;31m---------------------------------------------------------------------------\u001b[0m",
      "\u001b[1;31mIndexError\u001b[0m                                Traceback (most recent call last)",
      "Cell \u001b[1;32mIn[30], line 53\u001b[0m\n\u001b[0;32m     51\u001b[0m num_points \u001b[38;5;241m=\u001b[39m pixels1\u001b[38;5;241m.\u001b[39mshape[\u001b[38;5;241m0\u001b[39m]\n\u001b[0;32m     52\u001b[0m axs[\u001b[38;5;241m0\u001b[39m]\u001b[38;5;241m.\u001b[39mimshow(np\u001b[38;5;241m.\u001b[39marray(frames[cam_from]\u001b[38;5;241m.\u001b[39mim))\n\u001b[1;32m---> 53\u001b[0m \u001b[43maxs\u001b[49m\u001b[43m[\u001b[49m\u001b[43mcam_to\u001b[49m\u001b[43m]\u001b[49m\u001b[38;5;241m.\u001b[39mimshow(np\u001b[38;5;241m.\u001b[39marray(frames[cam_to]\u001b[38;5;241m.\u001b[39mim))\n\u001b[0;32m     55\u001b[0m fund \u001b[38;5;241m=\u001b[39m F[idx]\n\u001b[0;32m     56\u001b[0m pix_h \u001b[38;5;241m=\u001b[39m np\u001b[38;5;241m.\u001b[39mconcatenate([pixels1, np\u001b[38;5;241m.\u001b[39mones((pixels1\u001b[38;5;241m.\u001b[39mshape[\u001b[38;5;241m0\u001b[39m], \u001b[38;5;241m1\u001b[39m))], \u001b[38;5;241m1\u001b[39m)\n",
      "\u001b[1;31mIndexError\u001b[0m: index 2 is out of bounds for axis 0 with size 2"
     ]
    }
   ],
   "source": [
    "import matplotlib.pyplot as plt\n",
    "import numpy as np\n",
    "import matplotlib.collections as collections\n",
    "\n",
    "# Function to handle user click and update epipolar lines\n",
    "def on_click(event, F, frames, axs, im_size):\n",
    "    # Check if the click is within the bounds of the first image\n",
    "    if event.inaxes != axs[0]:\n",
    "        return\n",
    "\n",
    "    # Get the pixel coordinates where the user clicked (event.xdata and event.ydata are float coordinates)\n",
    "    clicked_pixel = np.array([event.xdata, event.ydata])\n",
    "\n",
    "    # Update pixels1 with the clicked pixel\n",
    "    pixels1[0] = clicked_pixel  # Update the first pixel, you can modify this to update based on your needs\n",
    "\n",
    "    # Clear previous lines and points\n",
    "    axs[0].cla()\n",
    "    axs[1].cla()\n",
    "\n",
    "    # Plot the images again\n",
    "    axs[0].imshow(np.array(frames[cam_from].im))\n",
    "    axs[1].imshow(np.array(frames[cam_to].im))\n",
    "\n",
    "    # Compute the epipolar line for the clicked pixel\n",
    "    pix_h = np.concatenate([clicked_pixel, np.ones(1)])  # homogeneous coordinates\n",
    "    epiLines = pix_h @ F.T  # Epipolar line in the second image\n",
    "    pts = lineToBorderPoints(epiLines, im_size)\n",
    "\n",
    "    # Plot the clicked pixel and epipolar lines\n",
    "    axs[0].scatter(clicked_pixel[0], clicked_pixel[1], c='red')\n",
    "    lines = np.stack([pts[:, :2], pts[:, 2:]], axis=1)\n",
    "    collection = collections.LineCollection(lines, colors='red')\n",
    "    axs[1].add_collection(collection)\n",
    "\n",
    "    # Update the title\n",
    "    fig.suptitle('Epipolar lines for clicked pixel')\n",
    "    plt.draw()\n",
    "\n",
    "# Set up your plot and image data\n",
    "fig, axs = plt.subplots(1, 2, figsize=(10, 5))\n",
    "im_size = [160, 160]\n",
    "\n",
    "# Initial dummy data for `pixels1` (just to get started, can be modified later)\n",
    "pixels1 = np.array([[0, 0]])  # Array holding clicked pixels (initially set to [0,0])\n",
    "\n",
    "# Loop through your images and fund matrices\n",
    "for idx in range(3):\n",
    "    cam_from, cam_to = cam_num[idx]\n",
    "\n",
    "    num_points = pixels1.shape[0]\n",
    "    axs[0].imshow(np.array(frames[cam_from].im))\n",
    "    axs[cam_to].imshow(np.array(frames[cam_to].im))\n",
    "\n",
    "    fund = F[idx]\n",
    "    pix_h = np.concatenate([pixels1, np.ones((pixels1.shape[0], 1))], 1)\n",
    "    epiLines = pix_h @ fund.T\n",
    "    pts = lineToBorderPoints(epiLines, im_size)\n",
    "\n",
    "    fig.suptitle('Epipolar lines')\n",
    "    colors = get_n_colors(num_points)\n",
    "    axs[0].scatter(pixels1[:, 0], pixels1[:, 1], c=colors)\n",
    "    lines = np.stack([pts[:, :2], pts[:, 2:]], axis=1)\n",
    "    collection = collections.LineCollection(lines, colors=colors)\n",
    "    axs[cam_to].add_collection(collection)\n",
    "\n",
    "# Connect the click event handler\n",
    "fig.canvas.mpl_connect('button_press_event', lambda event: on_click(event, F, frames, axs, im_size))\n",
    "\n",
    "# Show the plot\n",
    "plt.show()\n"
   ]
  },
  {
   "cell_type": "code",
   "execution_count": 19,
   "id": "75a21280",
   "metadata": {},
   "outputs": [
    {
     "ename": "ValueError",
     "evalue": "cannot reshape array of size 1 into shape (1,3)",
     "output_type": "error",
     "traceback": [
      "\u001b[1;31m---------------------------------------------------------------------------\u001b[0m",
      "\u001b[1;31mValueError\u001b[0m                                Traceback (most recent call last)",
      "Cell \u001b[1;32mIn[19], line 19\u001b[0m\n\u001b[0;32m     17\u001b[0m clicked_points \u001b[38;5;241m=\u001b[39m []\n\u001b[0;32m     18\u001b[0m pix_h \u001b[38;5;241m=\u001b[39m np\u001b[38;5;241m.\u001b[39marray([\u001b[38;5;241m80\u001b[39m, \u001b[38;5;241m80\u001b[39m, \u001b[38;5;241m1.0\u001b[39m])\n\u001b[1;32m---> 19\u001b[0m border_pts \u001b[38;5;241m=\u001b[39m [calculate_epi(pix_h,fund) \u001b[38;5;28;01mfor\u001b[39;00m fund \u001b[38;5;129;01min\u001b[39;00m F]\n\u001b[0;32m     21\u001b[0m \u001b[38;5;66;03m# Update points in image 1\u001b[39;00m\n\u001b[0;32m     22\u001b[0m old_offsets \u001b[38;5;241m=\u001b[39m points_scatter\u001b[38;5;241m.\u001b[39mget_offsets()\n",
      "Cell \u001b[1;32mIn[19], line 19\u001b[0m, in \u001b[0;36m<listcomp>\u001b[1;34m(.0)\u001b[0m\n\u001b[0;32m     17\u001b[0m clicked_points \u001b[38;5;241m=\u001b[39m []\n\u001b[0;32m     18\u001b[0m pix_h \u001b[38;5;241m=\u001b[39m np\u001b[38;5;241m.\u001b[39marray([\u001b[38;5;241m80\u001b[39m, \u001b[38;5;241m80\u001b[39m, \u001b[38;5;241m1.0\u001b[39m])\n\u001b[1;32m---> 19\u001b[0m border_pts \u001b[38;5;241m=\u001b[39m [\u001b[43mcalculate_epi\u001b[49m\u001b[43m(\u001b[49m\u001b[43mpix_h\u001b[49m\u001b[43m,\u001b[49m\u001b[43mfund\u001b[49m\u001b[43m)\u001b[49m \u001b[38;5;28;01mfor\u001b[39;00m fund \u001b[38;5;129;01min\u001b[39;00m F]\n\u001b[0;32m     21\u001b[0m \u001b[38;5;66;03m# Update points in image 1\u001b[39;00m\n\u001b[0;32m     22\u001b[0m old_offsets \u001b[38;5;241m=\u001b[39m points_scatter\u001b[38;5;241m.\u001b[39mget_offsets()\n",
      "Cell \u001b[1;32mIn[6], line 44\u001b[0m, in \u001b[0;36mcalculate_epi\u001b[1;34m(pix_h, fundamental)\u001b[0m\n\u001b[0;32m     42\u001b[0m \u001b[38;5;28;01mdef\u001b[39;00m \u001b[38;5;21mcalculate_epi\u001b[39m(pix_h, fundamental):\n\u001b[0;32m     43\u001b[0m     \u001b[38;5;66;03m# Compute epipolar line\u001b[39;00m\n\u001b[1;32m---> 44\u001b[0m     line \u001b[38;5;241m=\u001b[39m \u001b[43m(\u001b[49m\u001b[43mfundamental\u001b[49m\u001b[43m \u001b[49m\u001b[38;5;241;43m@\u001b[39;49m\u001b[43m \u001b[49m\u001b[43mpix_h\u001b[49m\u001b[43m)\u001b[49m\u001b[38;5;241;43m.\u001b[39;49m\u001b[43mreshape\u001b[49m\u001b[43m(\u001b[49m\u001b[38;5;241;43m1\u001b[39;49m\u001b[43m,\u001b[49m\u001b[43m \u001b[49m\u001b[38;5;241;43m3\u001b[39;49m\u001b[43m)\u001b[49m\n\u001b[0;32m     46\u001b[0m     \u001b[38;5;66;03m# Compute border points\u001b[39;00m\n\u001b[0;32m     47\u001b[0m     \u001b[38;5;28;01mreturn\u001b[39;00m lineToBorderPoints(line, I2\u001b[38;5;241m.\u001b[39mshape)\n",
      "\u001b[1;31mValueError\u001b[0m: cannot reshape array of size 1 into shape (1,3)"
     ]
    }
   ],
   "source": [
    "\n",
    "\n",
    "F = fundamental_matrix(P1, P2, K1, K2)\n",
    "\n",
    "colors = get_n_colors(100)  # Generate enough colors\n",
    "\n",
    "fig, axs = plt.subplots(1, 4)\n",
    "fig.suptitle('Interactive Epipolar Geometry')\n",
    "axs[0].imshow(I1)\n",
    "axs[1].imshow(I2)\n",
    "axs[2].imshow(I3)\n",
    "axs[3].imshow(I4)\n",
    "\n",
    "lines_collection = collections.LineCollection([], colors=[])\n",
    "axs[1].add_collection(lines_collection)\n",
    "\n",
    "points_scatter = axs[0].scatter([], [], c=[])\n",
    "\n",
    "clicked_points = []\n",
    "pix_h = np.array([80, 80, 1.0])\n",
    "border_pts = [calculate_epi(pix_h,fund) for fund in F]\n",
    "\n",
    "# Update points in image 1\n",
    "old_offsets = points_scatter.get_offsets()\n",
    "new_offsets = np.vstack([old_offsets, (x, y)]) if old_offsets.size else np.array([[x, y]])\n",
    "points_scatter.set_offsets(new_offsets)\n",
    "points_scatter.set_color(colors[len(clicked_points) - 1])\n",
    "\n",
    "# Update epipolar lines in image 2\n",
    "old_lines = lines_collection.get_segments()\n",
    "new_line = np.stack([border_pts[0][:, :2], border_pts[0][:, 2:]], axis=1)\n",
    "all_lines = np.vstack([old_lines, new_line]) if len(old_lines) else new_line\n",
    "lines_collection.set_segments(all_lines)\n",
    "\n",
    "# Update colors for lines\n",
    "old_colors = lines_collection.get_colors()\n",
    "new_colors = np.vstack([old_colors, colors[len(clicked_points) - 1]]) if len(old_colors) else np.array([colors[len(clicked_points) - 1]])\n",
    "lines_collection.set_color(new_colors)\n",
    "\n",
    "fig.canvas.draw()\n"
   ]
  },
  {
   "cell_type": "code",
   "execution_count": null,
   "id": "0b5afb7e",
   "metadata": {},
   "outputs": [
    {
     "data": {
      "text/plain": [
       "[array([[ 98.81672965,   0.5       ,  94.71487081, 160.5       ]]),\n",
       " array([[ 84.08873208,   0.5       ,  88.97089255, 160.5       ]]),\n",
       " array([[ 81.89478593,   0.5       ,  78.01171939, 160.5       ]]),\n",
       " array([[160.5       ,  15.06367832,  22.1824713 , 160.5       ]]),\n",
       " array([[160.5       , 125.63004698,  21.842693  ,   0.5       ]]),\n",
       " array([[  0.5       , 156.17920054, 159.75754201,   0.5       ]])]"
      ]
     },
     "execution_count": 17,
     "metadata": {},
     "output_type": "execute_result"
    }
   ],
   "source": [
    "border_pts"
   ]
  },
  {
   "cell_type": "code",
   "execution_count": 6,
   "id": "750b9462",
   "metadata": {},
   "outputs": [],
   "source": [
    "\n",
    "# ========================== INTERACTION =============================\n",
    "\n",
    "def onclick(event):\n",
    "    if event.inaxes == axs[0]:\n",
    "        x, y = event.xdata, event.ydata\n",
    "        print(f\"Clicked at x={x:.2f}, y={y:.2f} in image 1\")\n",
    "\n",
    "        clicked_points.append((x, y))\n",
    "        pix_h = np.array([x, y, 1.0])\n",
    "\n",
    "        # Compute epipolar line\n",
    "        line = (F @ pix_h).reshape(1, 3)\n",
    "        \n",
    "\n",
    "        # Compute border points\n",
    "        border_pts = lineToBorderPoints(line, I2.shape)\n",
    "\n",
    "        # Update points in image 1\n",
    "        old_offsets = points_scatter.get_offsets()\n",
    "        new_offsets = np.vstack([old_offsets, (x, y)]) if old_offsets.size else np.array([[x, y]])\n",
    "        points_scatter.set_offsets(new_offsets)\n",
    "        points_scatter.set_color(colors[len(clicked_points) - 1])\n",
    "\n",
    "        # Update epipolar lines in image 2\n",
    "        old_lines = lines_collection.get_segments()\n",
    "        new_line = np.stack([border_pts[:, :2], border_pts[:, 2:]], axis=1)\n",
    "        all_lines = np.vstack([old_lines, new_line]) if len(old_lines) else new_line\n",
    "        lines_collection.set_segments(all_lines)\n",
    "\n",
    "        # Update colors for lines\n",
    "        old_colors = lines_collection.get_colors()\n",
    "        new_colors = np.vstack([old_colors, colors[len(clicked_points) - 1]]) if len(old_colors) else np.array([colors[len(clicked_points) - 1]])\n",
    "        lines_collection.set_color(new_colors)\n",
    "\n",
    "        fig.canvas.draw()\n",
    "\n",
    "cid = fig.canvas.mpl_connect('button_press_event', onclick)\n",
    "\n",
    "plt.show()\n"
   ]
  },
  {
   "cell_type": "code",
   "execution_count": null,
   "id": "c47609bf",
   "metadata": {},
   "outputs": [
    {
     "name": "stdout",
     "output_type": "stream",
     "text": [
      "[(0, 1), (0, 2), (0, 3), (1, 2), (1, 3), (2, 3)]\n"
     ]
    }
   ],
   "source": [
    "import itertools as it\n",
    "\n",
    "intrinsic = [frames[cam].K for cam in range(4)]\n",
    "rotation_translation = [np.hstack((frames[cam].R.T,frames[cam].X0)) for cam in range(4)]\n",
    "\n",
    "all_intrinsic = [(a,b) for a,b in it.combinations(intrinsic, 2)]\n",
    "all_rotation_translation = [(a,b) for a,b in it.combinations(rotation_translation, 2)]\n",
    "cam_num = [(a,b) for a,b in it.combinations(list(range(4)), 2)]\n",
    "\n",
    "\n",
    "F = [fundamental_matrix(P1[0], P1[1], K1[0], K1[1]) for P1,K1 in zip(all_rotation_translation,all_intrinsic)]\n",
    "print(cam_num)\n"
   ]
  },
  {
   "cell_type": "code",
   "execution_count": 16,
   "id": "97312be6",
   "metadata": {},
   "outputs": [
    {
     "data": {
      "image/png": "[encoded data removed]",
      "text/plain": [
       "<Figure size 640x480 with 2 Axes>"
      ]
     },
     "metadata": {},
     "output_type": "display_data"
    }
   ],
   "source": [
    "from itertools import permutations\n",
    "import functools\n",
    "\n",
    "fig, axs = plt.subplots(1, 2)\n",
    "fig.suptitle('Epipolar Lines')\n",
    "axs[0].imshow(frames[0].im)\n",
    "axs[1].imshow(frames[1].im)\n",
    "cid = fig.canvas.mpl_connect('button_press_event', functools.partial(onclick, F=F, axs=axs, I1=frames[0].im))\n",
    "\n",
    "plt.show()\n"
   ]
  },
  {
   "cell_type": "code",
   "execution_count": 42,
   "id": "3483cf52",
   "metadata": {},
   "outputs": [
    {
     "data": {
      "image/png": "[encoded data removed]",
      "text/plain": [
       "<Figure size 640x480 with 2 Axes>"
      ]
     },
     "metadata": {},
     "output_type": "display_data"
    }
   ],
   "source": [
    "\n",
    "import math\n",
    "import numpy as np\n",
    "import matplotlib.pyplot as plt\n",
    "from matplotlib import collections\n",
    "from matplotlib import colors as mcolors\n",
    "\n",
    "# ========================== Setup =============================\n",
    "\n",
    "# Replace this by your actual data:\n",
    "# intrinsic, rotation, translation, frames\n",
    "\n",
    "# Example assuming you already have:\n",
    "# intrinsic = [frames[cam].K for cam in range(4)]\n",
    "# rotation = [frames[cam].R.T for cam in range(4)]\n",
    "# translation = [frames[cam].X0 for cam in range(4)]\n",
    "\n",
    "# Define the images and points\n",
    "\n",
    "\n",
    "colors = get_n_colors(100)  # Generate enough colors\n",
    "\n",
    "\n",
    "\n",
    "def onclick(event):\n",
    "    if event.inaxes == axs[1]:  # Clicked on image 2\n",
    "        x, y = event.xdata, event.ydata\n",
    "        print(f\"Clicked on Image 2 at x={x:.2f}, y={y:.2f}\")\n",
    "        \n",
    "        clicked_points_2.append((x, y))\n",
    "\n",
    "        # Plot the clicked point on image 2\n",
    "        axs[1].scatter(x, y, color='yellow', zorder=10)\n",
    "        \n",
    "        # Compute the epipolar line in the first image\n",
    "        pix_h = np.array([x, y, 1.0])  # Homogeneous coordinate\n",
    "        epiLine = F @ pix_h  # F maps points in image2 to lines in image1\n",
    "\n",
    "        # Find the endpoints of the epipolar line in the first image\n",
    "        epiLine = epiLine.reshape(1, 3)\n",
    "        pts_epi = lineToBorderPoints(epiLine, I1.shape)\n",
    "        line = np.stack([pts_epi[0, :2], pts_epi[0, 2:]], axis=0)\n",
    "\n",
    "        # Plot the epipolar line in image 1\n",
    "        line_collection = collections.LineCollection([line], colors='yellow')\n",
    "        axs[0].add_collection(line_collection)\n",
    "\n",
    "        # Store the line collection for future removal\n",
    "        line_collections.append(line_collection)\n",
    "\n",
    "    elif event.inaxes == axs[0]:  # Clicked on image 1\n",
    "        x, y = event.xdata, event.ydata\n",
    "        print(f\"Clicked on Image 1 at x={x:.2f}, y={y:.2f}\")\n",
    "\n",
    "        clicked_points_1.append((x, y))\n",
    "\n",
    "        # Plot the clicked point on image 1\n",
    "        axs[0].scatter(x, y, color='red', zorder=10)\n",
    "\n",
    "        # Compute the epipolar line in the second image\n",
    "        pix_h = np.array([x, y, 1.0])  # Homogeneous coordinate\n",
    "        epiLine = F.T @ pix_h  # F maps points in image1 to lines in image2\n",
    "\n",
    "        # Find the endpoints of the epipolar line in the second image\n",
    "        epiLine = epiLine.reshape(1, 3)\n",
    "        pts_epi = lineToBorderPoints(epiLine, I2.shape)\n",
    "        line = np.stack([pts_epi[0, :2], pts_epi[0, 2:]], axis=0)\n",
    "\n",
    "        # Plot the epipolar line in image 2\n",
    "        line_collection = collections.LineCollection([line], colors='red')\n",
    "        axs[1].add_collection(line_collection)\n",
    "\n",
    "        # Store the line collection for future removal\n",
    "        line_collections.append(line_collection)\n",
    "\n",
    "    # Remove previous lines if we exceed a certain number of clicks\n",
    "    if len(clicked_points_1) + len(clicked_points_2) > 5:\n",
    "        # Remove old lines to keep the plot clean\n",
    "        line_collections[0].remove()\n",
    "        line_collections[1].remove()  # Remove the first two lines\n",
    "        line_collections = line_collections[2:]  # Update list of stored lines\n",
    "\n",
    "    # Update the plot\n",
    "    fig.canvas.draw()\n",
    "\n",
    "# Define the images and points\n",
    "intrinsic = [frames[cam].K for cam in range(4)]\n",
    "rotation = [frames[cam].R.T for cam in range(4)]\n",
    "translation = [frames[cam].X0 for cam in range(4)]\n",
    "\n",
    "pixels1 = np.fliplr(frames[1].pixels[:,:])[30:35,:]\n",
    "pixels2 = frames[0].pixels[0:1,:]\n",
    "K1 = intrinsic[1]\n",
    "K2 = intrinsic[0]\n",
    "P1 = np.hstack((rotation[1], translation[1]))\n",
    "P2 = np.hstack((rotation[0], translation[0]))\n",
    "\n",
    "I1 = np.array(frames[1].im)\n",
    "I2 = np.array(frames[0].im)\n",
    "\n",
    "# Fundamental matrix calculation\n",
    "num_points = pixels1.shape[0]\n",
    "F = fundamental_matrix(P1, P2, K1, K2)\n",
    "\n",
    "fig, axs = plt.subplots(1, 2)\n",
    "fig.suptitle('Epipolar Lines')\n",
    "axs[0].imshow(I1)\n",
    "axs[1].imshow(I2)\n",
    "\n",
    "# Connect the callback function for mouse clicks\n",
    "cid = fig.canvas.mpl_connect('button_press_event', onclick)\n",
    "\n",
    "# Show the plot\n",
    "plt.show()\n"
   ]
  },
  {
   "cell_type": "code",
   "execution_count": 32,
   "id": "302bf841",
   "metadata": {},
   "outputs": [
    {
     "data": {
      "text/plain": [
       "[(125.82258064516128, 72.8290322580645),\n",
       " (109.5, 101.92580645161291),\n",
       " (115.72187500000001, 118.1906370967742),\n",
       " (98.47604838709677, 153.43210887096774),\n",
       " (124.71969758064517, 111.44227016129031)]"
      ]
     },
     "execution_count": 32,
     "metadata": {},
     "output_type": "execute_result"
    }
   ],
   "source": [
    "clicked_points_1\n"
   ]
  },
  {
   "cell_type": "code",
   "execution_count": 219,
   "id": "7eaf0c34",
   "metadata": {},
   "outputs": [
    {
     "data": {
      "text/plain": [
       "array([[ 7.26675144e-09,  1.30728209e-10,  2.40395143e-05],\n",
       "       [-3.95830838e-09, -1.86761974e-10,  3.83897378e-05],\n",
       "       [-3.64946895e-05, -9.24331210e-07, -1.41373825e-03]])"
      ]
     },
     "execution_count": 219,
     "metadata": {},
     "output_type": "execute_result"
    }
   ],
   "source": [
    "K1 = intrinsic[1]\n",
    "K2 = intrinsic[0]\n",
    "P1 = np.hstack((rotation[1].T,translation[1]))\n",
    "P2 = np.hstack((rotation[0].T,translation[0]))\n",
    "fundamental_matrix(P1, P2, K1, K2)"
   ]
  },
  {
   "cell_type": "code",
   "execution_count": 211,
   "id": "48caaad9",
   "metadata": {},
   "outputs": [
    {
     "data": {
      "image/png": "[encoded data removed]",
      "text/plain": [
       "<Figure size 640x480 with 1 Axes>"
      ]
     },
     "metadata": {},
     "output_type": "display_data"
    }
   ],
   "source": [
    "import cv2\n",
    "import matplotlib.pyplot as plt\n",
    "\n",
    "img2 = np.array(frames[0].im)\n",
    "\n",
    "plt.imshow(img2)\n",
    "plt.plot(y1,x)\n",
    "plt.scatter(frames[0].pixels[:,1],frames[0].pixels[:,0])\n",
    "plt.xlim(0,160)\n",
    "plt.ylim(0,160)\n",
    "\n",
    "plt.show()"
   ]
  },
  {
   "cell_type": "code",
   "execution_count": null,
   "id": "6352e06b",
   "metadata": {},
   "outputs": [],
   "source": [
    "import math\n",
    "import numpy as np\n",
    "import matplotlib.pyplot as plt\n",
    "from matplotlib import collections\n",
    "from matplotlib import colors as mcolors\n",
    "\n",
    "# Store the drawn lines and points\n",
    "clicked_points_1 = []\n",
    "clicked_points_2 = []\n",
    "\n",
    "# To store line collections, so they can be removed later\n",
    "line_collections = []\n",
    "\n",
    "def onclick(event):\n",
    "    if event.inaxes == axs[1]:  # Clicked on image 2\n",
    "        x, y = event.xdata, event.ydata\n",
    "        print(f\"Clicked on Image 2 at x={x:.2f}, y={y:.2f}\")\n",
    "        \n",
    "        clicked_points_2.append((x, y))\n",
    "\n",
    "        # Plot the clicked point on image 2\n",
    "        axs[1].scatter(x, y, color='yellow', zorder=10)\n",
    "        \n",
    "        # Compute the epipolar line in the first image\n",
    "        pix_h = np.array([x, y, 1.0])  # Homogeneous coordinate\n",
    "        epiLine = F @ pix_h  # F maps points in image2 to lines in image1\n",
    "\n",
    "        # Find the endpoints of the epipolar line in the first image\n",
    "        epiLine = epiLine.reshape(1, 3)\n",
    "        pts_epi = lineToBorderPoints(epiLine, I1.shape)\n",
    "        line = np.stack([pts_epi[0, :2], pts_epi[0, 2:]], axis=0)\n",
    "\n",
    "        # Plot the epipolar line in image 1\n",
    "        line_collection = collections.LineCollection([line], colors='yellow')\n",
    "        axs[0].add_collection(line_collection)\n",
    "\n",
    "        # Store the line collection for future removal\n",
    "        line_collections.append(line_collection)\n",
    "\n",
    "    elif event.inaxes == axs[0]:  # Clicked on image 1\n",
    "        x, y = event.xdata, event.ydata\n",
    "        print(f\"Clicked on Image 1 at x={x:.2f}, y={y:.2f}\")\n",
    "\n",
    "        clicked_points_1.append((x, y))\n",
    "\n",
    "        # Plot the clicked point on image 1\n",
    "        axs[0].scatter(x, y, color='red', zorder=10)\n",
    "\n",
    "        # Compute the epipolar line in the second image\n",
    "        pix_h = np.array([x, y, 1.0])  # Homogeneous coordinate\n",
    "        epiLine = F.T @ pix_h  # F maps points in image1 to lines in image2\n",
    "\n",
    "        # Find the endpoints of the epipolar line in the second image\n",
    "        epiLine = epiLine.reshape(1, 3)\n",
    "        pts_epi = lineToBorderPoints(epiLine, I2.shape)\n",
    "        line = np.stack([pts_epi[0, :2], pts_epi[0, 2:]], axis=0)\n",
    "\n",
    "        # Plot the epipolar line in image 2\n",
    "        line_collection = collections.LineCollection([line], colors='red')\n",
    "        axs[1].add_collection(line_collection)\n",
    "\n",
    "        # Store the line collection for future removal\n",
    "        line_collections.append(line_collection)\n",
    "\n",
    "    # Remove previous lines if we exceed a certain number of clicks\n",
    "    if len(clicked_points_1) + len(clicked_points_2) > 5:\n",
    "        # Remove old lines to keep the plot clean\n",
    "        line_collections[0].remove()\n",
    "        line_collections[1].remove()  # Remove the first two lines\n",
    "        line_collections = line_collections[2:]  # Update list of stored lines\n",
    "\n",
    "    # Update the plot\n",
    "    fig.canvas.draw()\n",
    "\n",
    "# Define the images and points\n",
    "intrinsic = [frames[cam].K for cam in range(4)]\n",
    "rotation = [frames[cam].R.T for cam in range(4)]\n",
    "translation = [frames[cam].X0 for cam in range(4)]\n",
    "\n",
    "pixels1 = np.fliplr(frames[1].pixels[:,:])[30:35,:]\n",
    "pixels2 = frames[0].pixels[0:1,:]\n",
    "K1 = intrinsic[1]\n",
    "K2 = intrinsic[0]\n",
    "P1 = np.hstack((rotation[1], translation[1]))\n",
    "P2 = np.hstack((rotation[0], translation[0]))\n",
    "\n",
    "I1 = np.array(frames[1].im)\n",
    "I2 = np.array(frames[0].im)\n",
    "\n",
    "# Fundamental matrix calculation\n",
    "num_points = pixels1.shape[0]\n",
    "F = fundamental_matrix(P1, P2, K1, K2)\n",
    "\n",
    "fig, axs = plt.subplots(1, 2)\n",
    "fig.suptitle('Epipolar Lines')\n",
    "axs[0].imshow(I1)\n",
    "axs[1].imshow(I2)\n",
    "\n",
    "# Connect the callback function for mouse clicks\n",
    "cid = fig.canvas.mpl_connect('button_press_event', onclick)\n",
    "\n",
    "# Show the plot\n",
    "plt.show()\n"
   ]
  },
  {
   "cell_type": "code",
   "execution_count": 25,
   "id": "ab0b1a07",
   "metadata": {},
   "outputs": [
    {
     "data": {
      "text/plain": [
       "[(113.37096774193546, 68.57096774193548),\n",
       " (50.919354838709666, 25.99032258064514),\n",
       " (23.951612903225765, 94.11935483870968),\n",
       " (116.91935483870961, 128.89354838709676)]"
      ]
     },
     "execution_count": 25,
     "metadata": {},
     "output_type": "execute_result"
    }
   ],
   "source": [
    "clicked_points"
   ]
  },
  {
   "cell_type": "code",
   "execution_count": 214,
   "id": "4acd889c",
   "metadata": {},
   "outputs": [
    {
     "name": "stdout",
     "output_type": "stream",
     "text": [
      "0.006418164598731136 0.00029028380361589297 -0.1175267486669153\n",
      "404.86843290240233\n"
     ]
    }
   ],
   "source": [
    "a, b, c = epipolars[200]  # unpack line coefficients\n",
    "print(a,b,c)\n",
    "print((-(c + a * x0) / b))"
   ]
  },
  {
   "cell_type": "code",
   "execution_count": 215,
   "id": "dd1830f5",
   "metadata": {},
   "outputs": [],
   "source": [
    "import cv2\n",
    "import matplotlib.pyplot as plt\n",
    "\n",
    "img2 = np.array(frames[1].im)\n",
    "\n",
    "plt.imshow(img2)\n",
    "plt.plot([y0,y1],[x0,x1])\n",
    "plt.scatter(frames[1].pixels[:,1],frames[0].pixels[:,0])\n",
    "plt.xlim(0,160)\n",
    "plt.ylim(0,160)\n",
    "\n",
    "plt.show()"
   ]
  },
  {
   "cell_type": "code",
   "execution_count": 68,
   "id": "23f88ac4",
   "metadata": {},
   "outputs": [],
   "source": [
    "import cv2\n",
    "import numpy as np\n",
    "import matplotlib.pyplot as plt\n",
    "\n",
    "def draw_epipolar_lines(img1, img2, F, pts1):\n",
    "    # Convert images to color (in case they are grayscale)\n",
    "    img1_color = cv2.cvtColor(img1, cv2.COLOR_GRAY2BGR) \n",
    "    img2_color = cv2.cvtColor(img2, cv2.COLOR_GRAY2BGR) \n",
    "\n",
    "    # Compute the corresponding epilines in image 2 for pts1\n",
    "    # lines2 has shape (N, 3) — each line is [a, b, c] such that a*x + b*y + c = 0\n",
    "    lines2 = cv2.computeCorrespondEpilines(pts1.reshape(-1, 1, 2), 1, F)\n",
    "    lines2 = lines2.reshape(-1, 3)\n",
    "\n",
    "    for r, pt1 in zip(lines2, pts1):\n",
    "        color = tuple(np.random.randint(0, 255, 3).tolist())\n",
    "        a, b, c = r\n",
    "\n",
    "        # Find two points on the line to draw\n",
    "        x0, y0 = 0, int(-c / b)\n",
    "        x1, y1 = img2.shape[1], int(-(c + a * img2.shape[1]) / b)\n",
    "\n",
    "        # Draw the epipolar line on img2\n",
    "        img2_color = cv2.line(img2_color, (x0, y0), (x1, y1), color, 1)\n",
    "\n",
    "        # Draw the corresponding point on img1\n",
    "        img1_color = cv2.circle(img1_color, tuple(int(x) for x in pt1), 5, color, -1)\n",
    "\n",
    "    # Show side by side\n",
    "    plt.figure(figsize=(15, 5))\n",
    "    plt.subplot(121)\n",
    "    plt.imshow(cv2.cvtColor(img1_color, cv2.COLOR_BGR2RGB))\n",
    "    plt.title('Image 1 with points')\n",
    "    plt.subplot(122)\n",
    "    plt.imshow(cv2.cvtColor(img2_color, cv2.COLOR_BGR2RGB))\n",
    "    plt.title('Image 2 with epipolar lines')\n",
    "    plt.show()\n"
   ]
  },
  {
   "cell_type": "code",
   "execution_count": 71,
   "id": "89736469",
   "metadata": {},
   "outputs": [
    {
     "ename": "TypeError",
     "evalue": "'numpy.int64' object is not iterable",
     "output_type": "error",
     "traceback": [
      "\u001b[1;31m---------------------------------------------------------------------------\u001b[0m",
      "\u001b[1;31mTypeError\u001b[0m                                 Traceback (most recent call last)",
      "Cell \u001b[1;32mIn[71], line 1\u001b[0m\n\u001b[1;32m----> 1\u001b[0m \u001b[43mdraw_epipolar_lines\u001b[49m\u001b[43m(\u001b[49m\u001b[43mnp\u001b[49m\u001b[38;5;241;43m.\u001b[39;49m\u001b[43marray\u001b[49m\u001b[43m(\u001b[49m\u001b[43mframes\u001b[49m\u001b[43m[\u001b[49m\u001b[38;5;241;43m0\u001b[39;49m\u001b[43m]\u001b[49m\u001b[38;5;241;43m.\u001b[39;49m\u001b[43mim\u001b[49m\u001b[43m)\u001b[49m\u001b[43m,\u001b[49m\u001b[43m \u001b[49m\u001b[43mnp\u001b[49m\u001b[38;5;241;43m.\u001b[39;49m\u001b[43marray\u001b[49m\u001b[43m(\u001b[49m\u001b[43mframes\u001b[49m\u001b[43m[\u001b[49m\u001b[38;5;241;43m1\u001b[39;49m\u001b[43m]\u001b[49m\u001b[38;5;241;43m.\u001b[39;49m\u001b[43mim\u001b[49m\u001b[43m)\u001b[49m\u001b[43m,\u001b[49m\u001b[43m \u001b[49m\u001b[43mfundamental\u001b[49m\u001b[43m,\u001b[49m\u001b[43m \u001b[49m\u001b[43mframes\u001b[49m\u001b[43m[\u001b[49m\u001b[38;5;241;43m0\u001b[39;49m\u001b[43m]\u001b[49m\u001b[38;5;241;43m.\u001b[39;49m\u001b[43mpixels\u001b[49m\u001b[43m[\u001b[49m\u001b[38;5;241;43m0\u001b[39;49m\u001b[43m]\u001b[49m\u001b[43m)\u001b[49m\n",
      "Cell \u001b[1;32mIn[68], line 27\u001b[0m, in \u001b[0;36mdraw_epipolar_lines\u001b[1;34m(img1, img2, F, pts1)\u001b[0m\n\u001b[0;32m     24\u001b[0m     img2_color \u001b[38;5;241m=\u001b[39m cv2\u001b[38;5;241m.\u001b[39mline(img2_color, (x0, y0), (x1, y1), color, \u001b[38;5;241m1\u001b[39m)\n\u001b[0;32m     26\u001b[0m     \u001b[38;5;66;03m# Draw the corresponding point on img1\u001b[39;00m\n\u001b[1;32m---> 27\u001b[0m     img1_color \u001b[38;5;241m=\u001b[39m cv2\u001b[38;5;241m.\u001b[39mcircle(img1_color, \u001b[38;5;28mtuple\u001b[39m(\u001b[38;5;28mint\u001b[39m(x) \u001b[38;5;28;01mfor\u001b[39;00m x \u001b[38;5;129;01min\u001b[39;00m pt1), \u001b[38;5;241m5\u001b[39m, color, \u001b[38;5;241m-\u001b[39m\u001b[38;5;241m1\u001b[39m)\n\u001b[0;32m     29\u001b[0m \u001b[38;5;66;03m# Show side by side\u001b[39;00m\n\u001b[0;32m     30\u001b[0m plt\u001b[38;5;241m.\u001b[39mfigure(figsize\u001b[38;5;241m=\u001b[39m(\u001b[38;5;241m15\u001b[39m, \u001b[38;5;241m5\u001b[39m))\n",
      "\u001b[1;31mTypeError\u001b[0m: 'numpy.int64' object is not iterable"
     ]
    }
   ],
   "source": [
    "draw_epipolar_lines(np.array(frames[0].im), np.array(frames[1].im), fundamental, frames[0].pixels[0])"
   ]
  },
  {
   "cell_type": "code",
   "execution_count": 61,
   "id": "7ab65cc3",
   "metadata": {},
   "outputs": [
    {
     "data": {
      "text/plain": [
       "array([[-0.05460687, -0.00230758,  1.        ],\n",
       "       [-0.05460688, -0.00230757,  1.        ],\n",
       "       [-0.05460688, -0.00230755,  1.        ],\n",
       "       ...,\n",
       "       [-0.0546061 , -0.00230983,  1.        ],\n",
       "       [-0.05460611, -0.00230981,  1.        ],\n",
       "       [-0.05460611, -0.00230979,  1.        ]])"
      ]
     },
     "execution_count": 61,
     "metadata": {},
     "output_type": "execute_result"
    }
   ],
   "source": [
    "epipolars.T\n",
    "\n",
    "(epipolars/epipolars[2,:]).T"
   ]
  }
 ],
 "metadata": {
  "kernelspec": {
   "display_name": "base",
   "language": "python",
   "name": "python3"
  },
  "language_info": {
   "codemirror_mode": {
    "name": "ipython",
    "version": 3
   },
   "file_extension": ".py",
   "mimetype": "text/x-python",
   "name": "python",
   "nbconvert_exporter": "python",
   "pygments_lexer": "ipython3",
   "version": "3.10.9"
  }
 },
 "nbformat": 4,
 "nbformat_minor": 5
}
