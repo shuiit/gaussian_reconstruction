{
 "cells": [
  {
   "cell_type": "code",
   "execution_count": 5,
   "metadata": {},
   "outputs": [],
   "source": [
    "\n",
    "\n",
    "import os\n",
    "import sys\n",
    "parent_dir = os.path.abspath(os.path.join(os.getcwd(), '..'))\n",
    "sys.path.insert(0, parent_dir)\n",
    "\n",
    "import pickle\n",
    "import numpy as np\n",
    "import math\n",
    "from Camera import Camera\n",
    "from Frame import Frame\n",
    "import matplotlib.pyplot as plt\n",
    "import Utils\n",
    "%matplotlib qt\n",
    "\n",
    "\n",
    "# generate dictionary fo gassian runs\n",
    "from Frame import Frame\n",
    "\n",
    "path = 'I:/My Drive/Research/gaussian_splatting/gaussian_splatting_input/mov9_cornell/'\n",
    "dict_name = f'{path}/dict/frames_model_cornell_2.pkl'\n",
    "frame_start = 1741\n",
    "frame_end = 1742\n",
    "frames = list(range(frame_start,frame_end,1))\n",
    "image_name= []\n",
    "for frame in frames:\n",
    "    image_name += [f'P{frame}CAM{cam + 1}' for cam in range(4)]\n",
    "\n",
    "frames = {f'{im_name}.jpg':Frame(path,im_name,idx, camera_path = path,delta_xy = 80, use_mask = False,kernel = np.ones((2, 3))) for idx,im_name in enumerate(image_name)}\n"
   ]
  },
  {
   "cell_type": "code",
   "execution_count": 6,
   "metadata": {},
   "outputs": [],
   "source": [
    "# generate dictionary fo gassian runs\n",
    "\n",
    "frames_dict = {}\n",
    "frames_numbers = list(range(frame_start,frame_end,1))\n",
    "for frame_number in frames_numbers:\n",
    "    cams,base_images,frame_mov  = {},{},{}\n",
    "    for idx in range(4):\n",
    "        frame_name = f'P{frame_number}CAM{idx+1}.jpg'\n",
    "        frame = frames[frame_name]\n",
    "        base_images[frame.image_id] = frame.generate_base_image()\n",
    "        frame.save_croped_images()\n",
    "        cams[frame.camera_number] = frame.cams_for_gs()\n",
    "        if idx == 0:\n",
    "            rot_z = frames[frame_name].rotation_matrix_from_vectors(frames[frame_name].R[2,:], [0,0,1])\n",
    "        cams[frame.camera_number]['ew_to_lab'] = rot_z\n",
    "        cams[frame.camera_number]['bounding_box'] = frame.bounding_box\n",
    "        frame_mov['image_path'] = f'{frame.path}/images/'\n",
    "        frame_mov['real_frames'] = frames_numbers\n",
    "\n",
    "    frames_dict[frame_number] = [base_images,cams,[],frame_mov]\n",
    "\n",
    "Utils.pickle_file(frames_dict,dict_name )"
   ]
  }
 ],
 "metadata": {
  "kernelspec": {
   "display_name": "base",
   "language": "python",
   "name": "python3"
  },
  "language_info": {
   "codemirror_mode": {
    "name": "ipython",
    "version": 3
   },
   "file_extension": ".py",
   "mimetype": "text/x-python",
   "name": "python",
   "nbconvert_exporter": "python",
   "pygments_lexer": "ipython3",
   "version": "3.10.9"
  }
 },
 "nbformat": 4,
 "nbformat_minor": 2
}
