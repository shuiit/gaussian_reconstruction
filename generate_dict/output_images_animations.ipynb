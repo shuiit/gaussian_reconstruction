{
 "cells": [
  {
   "cell_type": "code",
   "execution_count": 1,
   "metadata": {},
   "outputs": [],
   "source": [
    "import pickle\n",
    "from FlyOutput import FlyOutput\n",
    "import Plotters\n",
    "import plotly.graph_objects as go\n",
    "import numpy as np  \n",
    "import Utils\n",
    "import matplotlib.pyplot as plt\n",
    "import os\n",
    "%matplotlib qt\n",
    "\n",
    "\n",
    "\n",
    "image_path = 'I:/My Drive/Research/gaussian_splatting/gaussian_splatting_input/mov9_cornell/'\n",
    "dict_path  = 'I:/My Drive/Research/gaussian_splatting/gaussian_splatting_input/mov9_cornell/dict/frames_model_cornell.pkl'\n",
    "path_output = 'I:/My Drive/Research/gaussian_splatting/gaussian_splatting_output/'\n",
    "model_name = 'cornell_mov9'\n",
    "file_name = f'fly_cornell_mov9'\n",
    "\n",
    "letedict = {'num_of_bins' : 10,'perc_wing_for_le' : 1, 'wing_length_snip':0.25}\n",
    "\n",
    "iteration = 1800 # frame - 1015 1029\n",
    "frame0 = 1765\n",
    "frame_end = 1766\n",
    "frames_list=[]\n",
    "\n",
    "\n",
    "input_dir = f'{path_output}/{model_name}'\n",
    "path = [f'{input_dir}/results/{frame0}/{file_name}_results.pkl',f'{input_dir}/{file_name}_results.pkl']\n",
    "idx = [os.path.exists(f'{path}') for path in path]\n",
    "existing_paths = np.array(path)[idx]\n",
    "output_angles_weights = None\n",
    "if len(existing_paths) > 0:\n",
    "    with open(existing_paths[0], 'rb') as handle:\n",
    "        output_angles_weights = pickle.load(handle)\n",
    "\n",
    "\n",
    "with open(dict_path,'rb') as f:\n",
    "    frames = pickle.load(f)\n",
    "\n",
    "\n",
    "\n",
    "for frame_num in range(frame0,frame_end):\n",
    "    frame = FlyOutput(image_path,frame_num,input_dir,output_angles_weights,frame0,iteration,file_name,letedict = letedict,frames_dict = frames)\n",
    "    frames_list.append(frame)\n",
    "\n",
    "\n"
   ]
  },
  {
   "cell_type": "code",
   "execution_count": 2,
   "metadata": {},
   "outputs": [
    {
     "name": "stderr",
     "output_type": "stream",
     "text": [
      "c:\\Users\\Roni\\Documents\\gaussian_reconstruction\\Plotters.py:73: UserWarning:\n",
      "\n",
      "No data for colormapping provided via 'c'. Parameters 'cmap' will be ignored\n",
      "\n"
     ]
    }
   ],
   "source": [
    "idx = 0\n",
    "frame_to_project = frames_list[idx]\n",
    "color_list_2d = ['lime','crimson','blue']\n",
    "xyz = [frame_to_project.body_ew,frame_to_project.right_wing_ew,frame_to_project.left_wing_ew]\n",
    "\n",
    "ax = None\n",
    "for part,color in zip(xyz,color_list_2d): \n",
    "    ax = Plotters.plot_projections(part,frames_list[idx].frames,color = color,ax = ax, size = 1, alpha = 0.1)\n",
    "\n"
   ]
  },
  {
   "cell_type": "code",
   "execution_count": 3,
   "metadata": {},
   "outputs": [
    {
     "name": "stdout",
     "output_type": "stream",
     "text": [
      "Saved animation to: I:/My Drive/Research/gaussian_splatting/gaussian_splatting_output//cornell_mov9/fly_cornell_mov9_iteration_1800.html\n"
     ]
    }
   ],
   "source": [
    "color_list = ['limegreen','crimson','blue','black','black']\n",
    "name_list = ['body','right_wing','left_wing']\n",
    "intial_parts = [getattr(frames_list[0], part) for part in name_list]\n",
    "xyz_all_frames = np.vstack([frame.xyz for frame in frames_list])\n",
    "output_path = f'{path_output}/{model_name}/{file_name}_iteration_{iteration}.html'\n",
    "\n",
    "size_list = [2,2,2,4,2,4,4,5,5]\n",
    "framestart = 1765\n",
    "frame_end = 1766\n",
    "\n",
    "\n",
    "\n",
    "\n",
    "Plotters.create_3d_animation(frames_list, color_list,xyz_all_frames,size_list,name_list,intial_parts,framestart,frame_end,frame0,output_path)"
   ]
  }
 ],
 "metadata": {
  "kernelspec": {
   "display_name": "base",
   "language": "python",
   "name": "python3"
  },
  "language_info": {
   "codemirror_mode": {
    "name": "ipython",
    "version": 3
   },
   "file_extension": ".py",
   "mimetype": "text/x-python",
   "name": "python",
   "nbconvert_exporter": "python",
   "pygments_lexer": "ipython3",
   "version": "3.10.9"
  }
 },
 "nbformat": 4,
 "nbformat_minor": 2
}
